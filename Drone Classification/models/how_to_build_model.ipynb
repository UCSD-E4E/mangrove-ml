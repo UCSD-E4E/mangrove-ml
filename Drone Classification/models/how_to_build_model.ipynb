{
 "cells": [
  {
   "cell_type": "markdown",
   "metadata": {},
   "source": [
    "Example of building a model with a wrapper for evaluation.\n",
    "\n",
    "The wrapper takes a raw image in the form of a numpy array and outputs 1/0 array for mangrove/nonmangrove classification."
   ]
  },
  {
   "cell_type": "code",
   "execution_count": 2,
   "metadata": {},
   "outputs": [],
   "source": [
    "import numpy as np\n",
    "import torch\n",
    "from models import *"
   ]
  },
  {
   "cell_type": "code",
   "execution_count": 8,
   "metadata": {},
   "outputs": [],
   "source": [
    "model = ResNet18_UNet()\n",
    "model.load_state_dict(torch.load('ResNet18_UNet.pth', map_location='cpu', weights_only=True))\n",
    "wrapper = SegmentModelWrapper(model)"
   ]
  },
  {
   "cell_type": "code",
   "execution_count": 9,
   "metadata": {},
   "outputs": [
    {
     "name": "stdout",
     "output_type": "stream",
     "text": [
      "torch.Size([1, 1, 256, 256])\n",
      "tensor([[[[1, 1, 1,  ..., 1, 0, 0],\n",
      "          [1, 1, 1,  ..., 1, 0, 0],\n",
      "          [1, 1, 1,  ..., 1, 1, 1],\n",
      "          ...,\n",
      "          [1, 1, 1,  ..., 0, 0, 0],\n",
      "          [1, 1, 1,  ..., 0, 0, 0],\n",
      "          [1, 1, 1,  ..., 0, 0, 0]]]], dtype=torch.uint8)\n",
      "\n",
      "\n",
      "\n",
      "torch.Size([4, 1, 256, 256])\n",
      "tensor([[[[1, 1, 1,  ..., 1, 0, 0],\n",
      "          [1, 1, 1,  ..., 1, 0, 0],\n",
      "          [1, 1, 1,  ..., 1, 1, 1],\n",
      "          ...,\n",
      "          [1, 1, 1,  ..., 0, 0, 0],\n",
      "          [1, 1, 1,  ..., 0, 0, 0],\n",
      "          [1, 1, 1,  ..., 0, 0, 0]]],\n",
      "\n",
      "\n",
      "        [[[1, 1, 1,  ..., 1, 0, 0],\n",
      "          [1, 1, 1,  ..., 1, 0, 0],\n",
      "          [1, 1, 1,  ..., 1, 1, 1],\n",
      "          ...,\n",
      "          [1, 1, 1,  ..., 0, 0, 0],\n",
      "          [1, 1, 1,  ..., 0, 0, 0],\n",
      "          [1, 1, 1,  ..., 0, 0, 0]]],\n",
      "\n",
      "\n",
      "        [[[1, 1, 1,  ..., 1, 0, 0],\n",
      "          [1, 1, 1,  ..., 1, 0, 0],\n",
      "          [1, 1, 1,  ..., 1, 1, 1],\n",
      "          ...,\n",
      "          [1, 1, 1,  ..., 0, 0, 0],\n",
      "          [1, 1, 1,  ..., 0, 0, 0],\n",
      "          [1, 1, 1,  ..., 0, 0, 0]]],\n",
      "\n",
      "\n",
      "        [[[1, 1, 1,  ..., 1, 0, 0],\n",
      "          [1, 1, 1,  ..., 1, 0, 0],\n",
      "          [1, 1, 1,  ..., 1, 1, 1],\n",
      "          ...,\n",
      "          [1, 1, 1,  ..., 0, 0, 0],\n",
      "          [1, 1, 1,  ..., 0, 0, 0],\n",
      "          [1, 1, 1,  ..., 0, 0, 0]]]], dtype=torch.uint8)\n"
     ]
    }
   ],
   "source": [
    "test_input = np.random.rand(3, 256, 256) # C, H, W\n",
    "batch_test = np.random.rand(4, 3, 256, 256) # B, C, H, W\n",
    "\n",
    "wrapper.eval()\n",
    "output = wrapper(test_input)\n",
    "print(output.shape)\n",
    "print(output)\n",
    "output = wrapper(batch_test)\n",
    "print(\"\\n\\n\")\n",
    "print(output.shape)\n",
    "print(output)\n"
   ]
  }
 ],
 "metadata": {
  "kernelspec": {
   "display_name": "mangrove",
   "language": "python",
   "name": "python3"
  },
  "language_info": {
   "codemirror_mode": {
    "name": "ipython",
    "version": 3
   },
   "file_extension": ".py",
   "mimetype": "text/x-python",
   "name": "python",
   "nbconvert_exporter": "python",
   "pygments_lexer": "ipython3",
   "version": "3.10.14"
  }
 },
 "nbformat": 4,
 "nbformat_minor": 2
}
