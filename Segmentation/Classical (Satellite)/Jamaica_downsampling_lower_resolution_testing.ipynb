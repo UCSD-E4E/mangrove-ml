{
 "cells": [
  {
   "cell_type": "code",
   "execution_count": 17,
   "metadata": {},
   "outputs": [],
   "source": [
    "import rasterio\n",
    "from rasterio.mask import mask\n",
    "import geopandas as gpd\n",
    "import numpy as np\n",
    "from rasterio.plot import reshape_as_raster, reshape_as_image\n",
    "import pandas as pd\n",
    "import matplotlib.pyplot as plt\n",
    "from rasterio.plot import show\n",
    "import cv2\n",
    "from sklearn.metrics import classification_report\n",
    "from sklearn.model_selection import train_test_split\n",
    "from sklearn.ensemble import RandomForestClassifier, ExtraTreesClassifier\n",
    "from tqdm import tqdm"
   ]
  },
  {
   "cell_type": "markdown",
   "metadata": {},
   "source": [
    "## Loading Data"
   ]
  },
  {
   "cell_type": "code",
   "execution_count": 18,
   "metadata": {},
   "outputs": [],
   "source": [
    "nm_shp = gpd.read_file(\"JamaicaNonmangroveLabels.shp\")\n",
    "m_shp = gpd.read_file(\"JamaicaMangroveLabelsFixed.shp\")\n",
    "\n",
    "nm_geoms = nm_shp.geometry\n",
    "m_geoms = m_shp.geometry"
   ]
  },
  {
   "cell_type": "code",
   "execution_count": 19,
   "metadata": {},
   "outputs": [],
   "source": [
    "src = rasterio.open(\"JamaicaFeaturesNoSAR.tif\") \n",
    "mask_src = rasterio.open(\"JamaicaImageMask.tif\") \n",
    "m_image, m_transform = mask(src, m_geoms, crop=True) \n",
    "nm_image, nm_transform = mask(src, nm_geoms, crop=True)\n",
    "\n",
    "#Getting mask for each class\n",
    "mmask, mmask_transform = mask(mask_src, m_geoms, crop=True)\n",
    "nmmask, nmmask_transform = mask(mask_src, nm_geoms, crop=True)"
   ]
  },
  {
   "cell_type": "markdown",
   "metadata": {},
   "source": [
    "# Reshaping Data"
   ]
  },
  {
   "cell_type": "code",
   "execution_count": 20,
   "metadata": {},
   "outputs": [],
   "source": [
    "m_idx = np.squeeze(((reshape_as_image(mmask) == 1)), axis=-1) \n",
    "nm_idx = np.squeeze((reshape_as_image(nmmask) == 1), axis=-1)\n",
    "m_pix = reshape_as_image(m_image)[m_idx]\n",
    "nm_pix = reshape_as_image(nm_image)[nm_idx]\n",
    "m_pix = m_pix[np.all(m_pix != 0, axis=1)]\n",
    "nm_pix = nm_pix[np.all(nm_pix != 0, axis=1)]\n",
    "x = np.concatenate((m_pix, nm_pix), axis = 0)\n",
    "y = np.concatenate((np.zeros((m_pix.shape[0]))+1, np.zeros((nm_pix.shape[0]))))\n",
    "from sklearn.model_selection import train_test_split\n",
    "x_train, x_test, y_train, y_test = train_test_split(x, y, test_size=0.20, random_state=42)"
   ]
  },
  {
   "cell_type": "markdown",
   "metadata": {},
   "source": [
    "np.concat((up_img[m_idx], up_img[nm_idx]))\n",
    "\n",
    "x, y (original data)\n",
    "new_x, new_y (downsampled model training)\n",
    "up_y = np.concat((up_img[m_idx], up_img[nm_idx]))\n",
    "(upsampled from downsampled labels)"
   ]
  },
  {
   "cell_type": "markdown",
   "metadata": {},
   "source": [
    "# Downsampling Methods"
   ]
  },
  {
   "cell_type": "code",
   "execution_count": 21,
   "metadata": {},
   "outputs": [],
   "source": [
    "def downsampling_2d(img, scale_percent):\n",
    "    width = int(img.shape[1] * scale_percent)\n",
    "    height = int(img.shape[0] * scale_percent)\n",
    "    dim = (width, height)\n",
    "    # downsampling image\n",
    "    resized = cv2.resize(img, dim, interpolation = cv2.INTER_LINEAR)\n",
    "    return resized"
   ]
  },
  {
   "cell_type": "code",
   "execution_count": 22,
   "metadata": {},
   "outputs": [],
   "source": [
    "def mask_downsampling(mask, scale_percent):\n",
    "    img = mask[0]\n",
    "    resized = downsampling_2d(img, scale_percent)\n",
    "    return np.array([resized])"
   ]
  },
  {
   "cell_type": "code",
   "execution_count": 23,
   "metadata": {},
   "outputs": [],
   "source": [
    "def image_downsampling(imgs, scale_percent):\n",
    "    img_down = []\n",
    "    for i in range(len(imgs)):\n",
    "        img_new = downsampling_2d(imgs[i], scale_percent)\n",
    "        img_down.append(img_new)\n",
    "    img_down = np.array(img_down)\n",
    "    return img_down "
   ]
  },
  {
   "cell_type": "code",
   "execution_count": 24,
   "metadata": {},
   "outputs": [],
   "source": [
    "def upsampling_2d(ori_img, img):\n",
    "    width_out = ori_img.shape[1]\n",
    "    height_out = ori_img.shape[0]\n",
    "    dim_out = (width_out, height_out)\n",
    "    # upsampling image \n",
    "    resized = cv2.resize(img, dim_out, interpolation = cv2.INTER_NEAREST)\n",
    "    return resized"
   ]
  },
  {
   "cell_type": "code",
   "execution_count": 25,
   "metadata": {},
   "outputs": [],
   "source": [
    "def mask_upsampling(ori_mask, mask):\n",
    "    img = mask[0]\n",
    "    ori_img = ori_mask[0]\n",
    "    resized = upsampling_2d(ori_img, img)\n",
    "    return np.array([resized])"
   ]
  },
  {
   "cell_type": "code",
   "execution_count": 26,
   "metadata": {},
   "outputs": [],
   "source": [
    "def image_upsampling(ori_img, imgs):\n",
    "    img_up = []\n",
    "    for i in range(len(imgs)):\n",
    "        img_new = upsampling_2d(ori_img[i], imgs[i])\n",
    "        img_up.append(img_new)\n",
    "    img_up = np.array(img_up)\n",
    "    return img_up "
   ]
  },
  {
   "cell_type": "markdown",
   "metadata": {},
   "source": [
    "# Train the original image"
   ]
  },
  {
   "cell_type": "code",
   "execution_count": 11,
   "metadata": {},
   "outputs": [
    {
     "data": {
      "text/html": [
       "<style>#sk-container-id-1 {color: black;background-color: white;}#sk-container-id-1 pre{padding: 0;}#sk-container-id-1 div.sk-toggleable {background-color: white;}#sk-container-id-1 label.sk-toggleable__label {cursor: pointer;display: block;width: 100%;margin-bottom: 0;padding: 0.3em;box-sizing: border-box;text-align: center;}#sk-container-id-1 label.sk-toggleable__label-arrow:before {content: \"▸\";float: left;margin-right: 0.25em;color: #696969;}#sk-container-id-1 label.sk-toggleable__label-arrow:hover:before {color: black;}#sk-container-id-1 div.sk-estimator:hover label.sk-toggleable__label-arrow:before {color: black;}#sk-container-id-1 div.sk-toggleable__content {max-height: 0;max-width: 0;overflow: hidden;text-align: left;background-color: #f0f8ff;}#sk-container-id-1 div.sk-toggleable__content pre {margin: 0.2em;color: black;border-radius: 0.25em;background-color: #f0f8ff;}#sk-container-id-1 input.sk-toggleable__control:checked~div.sk-toggleable__content {max-height: 200px;max-width: 100%;overflow: auto;}#sk-container-id-1 input.sk-toggleable__control:checked~label.sk-toggleable__label-arrow:before {content: \"▾\";}#sk-container-id-1 div.sk-estimator input.sk-toggleable__control:checked~label.sk-toggleable__label {background-color: #d4ebff;}#sk-container-id-1 div.sk-label input.sk-toggleable__control:checked~label.sk-toggleable__label {background-color: #d4ebff;}#sk-container-id-1 input.sk-hidden--visually {border: 0;clip: rect(1px 1px 1px 1px);clip: rect(1px, 1px, 1px, 1px);height: 1px;margin: -1px;overflow: hidden;padding: 0;position: absolute;width: 1px;}#sk-container-id-1 div.sk-estimator {font-family: monospace;background-color: #f0f8ff;border: 1px dotted black;border-radius: 0.25em;box-sizing: border-box;margin-bottom: 0.5em;}#sk-container-id-1 div.sk-estimator:hover {background-color: #d4ebff;}#sk-container-id-1 div.sk-parallel-item::after {content: \"\";width: 100%;border-bottom: 1px solid gray;flex-grow: 1;}#sk-container-id-1 div.sk-label:hover label.sk-toggleable__label {background-color: #d4ebff;}#sk-container-id-1 div.sk-serial::before {content: \"\";position: absolute;border-left: 1px solid gray;box-sizing: border-box;top: 0;bottom: 0;left: 50%;z-index: 0;}#sk-container-id-1 div.sk-serial {display: flex;flex-direction: column;align-items: center;background-color: white;padding-right: 0.2em;padding-left: 0.2em;position: relative;}#sk-container-id-1 div.sk-item {position: relative;z-index: 1;}#sk-container-id-1 div.sk-parallel {display: flex;align-items: stretch;justify-content: center;background-color: white;position: relative;}#sk-container-id-1 div.sk-item::before, #sk-container-id-1 div.sk-parallel-item::before {content: \"\";position: absolute;border-left: 1px solid gray;box-sizing: border-box;top: 0;bottom: 0;left: 50%;z-index: -1;}#sk-container-id-1 div.sk-parallel-item {display: flex;flex-direction: column;z-index: 1;position: relative;background-color: white;}#sk-container-id-1 div.sk-parallel-item:first-child::after {align-self: flex-end;width: 50%;}#sk-container-id-1 div.sk-parallel-item:last-child::after {align-self: flex-start;width: 50%;}#sk-container-id-1 div.sk-parallel-item:only-child::after {width: 0;}#sk-container-id-1 div.sk-dashed-wrapped {border: 1px dashed gray;margin: 0 0.4em 0.5em 0.4em;box-sizing: border-box;padding-bottom: 0.4em;background-color: white;}#sk-container-id-1 div.sk-label label {font-family: monospace;font-weight: bold;display: inline-block;line-height: 1.2em;}#sk-container-id-1 div.sk-label-container {text-align: center;}#sk-container-id-1 div.sk-container {/* jupyter's `normalize.less` sets `[hidden] { display: none; }` but bootstrap.min.css set `[hidden] { display: none !important; }` so we also need the `!important` here to be able to override the default hidden behavior on the sphinx rendered scikit-learn.org. See: https://github.com/scikit-learn/scikit-learn/issues/21755 */display: inline-block !important;position: relative;}#sk-container-id-1 div.sk-text-repr-fallback {display: none;}</style><div id=\"sk-container-id-1\" class=\"sk-top-container\"><div class=\"sk-text-repr-fallback\"><pre>ExtraTreesClassifier(n_jobs=4)</pre><b>In a Jupyter environment, please rerun this cell to show the HTML representation or trust the notebook. <br />On GitHub, the HTML representation is unable to render, please try loading this page with nbviewer.org.</b></div><div class=\"sk-container\" hidden><div class=\"sk-item\"><div class=\"sk-estimator sk-toggleable\"><input class=\"sk-toggleable__control sk-hidden--visually\" id=\"sk-estimator-id-1\" type=\"checkbox\" checked><label for=\"sk-estimator-id-1\" class=\"sk-toggleable__label sk-toggleable__label-arrow\">ExtraTreesClassifier</label><div class=\"sk-toggleable__content\"><pre>ExtraTreesClassifier(n_jobs=4)</pre></div></div></div></div></div>"
      ],
      "text/plain": [
       "ExtraTreesClassifier(n_jobs=4)"
      ]
     },
     "execution_count": 11,
     "metadata": {},
     "output_type": "execute_result"
    }
   ],
   "source": [
    "ert_model = ExtraTreesClassifier(n_jobs=4)\n",
    "ert_model.fit(x_train, y_train)"
   ]
  },
  {
   "cell_type": "code",
   "execution_count": 12,
   "metadata": {},
   "outputs": [],
   "source": [
    "img_o = reshape_as_image(src.read())\n",
    "array_o = img_o.reshape(img_o.shape[0] * img_o.shape[1], img_o.shape[2])\n",
    "output_o = ert_model.predict(array_o)"
   ]
  },
  {
   "cell_type": "code",
   "execution_count": 14,
   "metadata": {},
   "outputs": [
    {
     "data": {
      "image/png": "[encoded data removed]",
      "text/plain": [
       "<Figure size 432x288 with 1 Axes>"
      ]
     },
     "metadata": {
      "needs_background": "light"
     },
     "output_type": "display_data"
    },
    {
     "data": {
      "text/plain": [
       "<AxesSubplot:>"
      ]
     },
     "execution_count": 14,
     "metadata": {},
     "output_type": "execute_result"
    }
   ],
   "source": [
    "output_img_o = output_o.reshape(img_o.shape[0], img_o.shape[1], 1)\n",
    "show(output_img_o)"
   ]
  },
  {
   "cell_type": "code",
   "execution_count": 15,
   "metadata": {},
   "outputs": [],
   "source": [
    "np.save('img_o.npy', output_img_o)"
   ]
  },
  {
   "cell_type": "markdown",
   "metadata": {},
   "source": [
    "## can read the trained image directly here"
   ]
  },
  {
   "cell_type": "code",
   "execution_count": 27,
   "metadata": {},
   "outputs": [],
   "source": [
    "img_o_load = np.load('img_o.npy')"
   ]
  },
  {
   "cell_type": "code",
   "execution_count": 28,
   "metadata": {},
   "outputs": [
    {
     "data": {
      "image/png": "[encoded data removed]",
      "text/plain": [
       "<Figure size 432x288 with 1 Axes>"
      ]
     },
     "metadata": {
      "needs_background": "light"
     },
     "output_type": "display_data"
    },
    {
     "data": {
      "text/plain": [
       "<AxesSubplot:>"
      ]
     },
     "execution_count": 28,
     "metadata": {},
     "output_type": "execute_result"
    }
   ],
   "source": [
    "show(img_o_load)"
   ]
  },
  {
   "cell_type": "markdown",
   "metadata": {},
   "source": [
    "# Crop the image with mask"
   ]
  },
  {
   "cell_type": "code",
   "execution_count": 15,
   "metadata": {
    "scrolled": true
   },
   "outputs": [
    {
     "data": {
      "text/plain": [
       "(5012, 8500)"
      ]
     },
     "execution_count": 15,
     "metadata": {},
     "output_type": "execute_result"
    }
   ],
   "source": [
    "import PIL\n",
    "from PIL import Image\n",
    "src_mask_img = Image.open(\"JamaicaImageMask.tif\")\n",
    "src_mask_img_arr = np.array(src_mask_img)\n",
    "src_mask_img_arr.shape"
   ]
  },
  {
   "cell_type": "code",
   "execution_count": 39,
   "metadata": {},
   "outputs": [],
   "source": [
    "#invalid_idx = np.argwhere(src_mask_img_arr == False).tolist()\n",
    "#invalid_idx "
   ]
  },
  {
   "cell_type": "code",
   "execution_count": 40,
   "metadata": {},
   "outputs": [],
   "source": [
    "valid_idx = np.argwhere(src_mask_img_arr == True).tolist()\n",
    "#valid_idx "
   ]
  },
  {
   "cell_type": "code",
   "execution_count": 41,
   "metadata": {},
   "outputs": [
    {
     "data": {
      "text/plain": [
       "[8202,\n",
       " 8203,\n",
       " 8204,\n",
       " 8205,\n",
       " 8206,\n",
       " 8207,\n",
       " 8208,\n",
       " 8209,\n",
       " 8210,\n",
       " 8211,\n",
       " 8212,\n",
       " 8213,\n",
       " 8214,\n",
       " 8215,\n",
       " 8216,\n",
       " 8217,\n",
       " 8218,\n",
       " 8219,\n",
       " 8220,\n",
       " 8221,\n",
       " 8222,\n",
       " 8223,\n",
       " 8224,\n",
       " 8225,\n",
       " 8226,\n",
       " 8227,\n",
       " 8228,\n",
       " 8229,\n",
       " 8230,\n",
       " 8231,\n",
       " 8232,\n",
       " 8233,\n",
       " 8234,\n",
       " 8235,\n",
       " 8236,\n",
       " 8237,\n",
       " 8238,\n",
       " 8239,\n",
       " 8240,\n",
       " 8241,\n",
       " 8242,\n",
       " 8243,\n",
       " 8244,\n",
       " 8245,\n",
       " 8246,\n",
       " 8247,\n",
       " 8248,\n",
       " 8249,\n",
       " 8250,\n",
       " 8251,\n",
       " 8252,\n",
       " 8253,\n",
       " 8254,\n",
       " 8255,\n",
       " 8256,\n",
       " 8257,\n",
       " 8258,\n",
       " 8259,\n",
       " 8260,\n",
       " 8261,\n",
       " 8262,\n",
       " 8263,\n",
       " 8264,\n",
       " 8265,\n",
       " 8266,\n",
       " 8267,\n",
       " 8268,\n",
       " 8269,\n",
       " 8270,\n",
       " 8271,\n",
       " 8272,\n",
       " 8273,\n",
       " 8274,\n",
       " 8275,\n",
       " 8276,\n",
       " 8277,\n",
       " 8278,\n",
       " 8279,\n",
       " 8280,\n",
       " 8281,\n",
       " 8282,\n",
       " 8283,\n",
       " 8284,\n",
       " 8285,\n",
       " 8286,\n",
       " 8287,\n",
       " 8288,\n",
       " 8289,\n",
       " 8290,\n",
       " 8291,\n",
       " 8292,\n",
       " 8293,\n",
       " 8294,\n",
       " 8295,\n",
       " 8296,\n",
       " 8297,\n",
       " 8298,\n",
       " 8299,\n",
       " 8300,\n",
       " 8301,\n",
       " 8302,\n",
       " 8303,\n",
       " 8304,\n",
       " 8305,\n",
       " 8306,\n",
       " 8307,\n",
       " 8308,\n",
       " 8309,\n",
       " 8310,\n",
       " 8311,\n",
       " 8312,\n",
       " 8313,\n",
       " 8314,\n",
       " 8315,\n",
       " 8316,\n",
       " 8317,\n",
       " 8318,\n",
       " 8319,\n",
       " 8320,\n",
       " 8321,\n",
       " 8322,\n",
       " 8323,\n",
       " 8324,\n",
       " 8325,\n",
       " 8326,\n",
       " 8327,\n",
       " 8328,\n",
       " 8329,\n",
       " 8330,\n",
       " 8331,\n",
       " 8332,\n",
       " 8333,\n",
       " 8334,\n",
       " 8335,\n",
       " 8336,\n",
       " 8337,\n",
       " 8338,\n",
       " 8339,\n",
       " 8340,\n",
       " 8341,\n",
       " 16701,\n",
       " 16702,\n",
       " 16703,\n",
       " 16704,\n",
       " 16705,\n",
       " 16706,\n",
       " 16707,\n",
       " 16708,\n",
       " 16709,\n",
       " 16710,\n",
       " 16711,\n",
       " 16712,\n",
       " 16713,\n",
       " 16714,\n",
       " 16715,\n",
       " 16716,\n",
       " 16717,\n",
       " 16718,\n",
       " 16719,\n",
       " 16720,\n",
       " 16721,\n",
       " 16722,\n",
       " 16723,\n",
       " 16724,\n",
       " 16725,\n",
       " 16726,\n",
       " 16727,\n",
       " 16728,\n",
       " 16729,\n",
       " 16730,\n",
       " 16731,\n",
       " 16732,\n",
       " 16733,\n",
       " 16734,\n",
       " 16735,\n",
       " 16736,\n",
       " 16737,\n",
       " 16738,\n",
       " 16739,\n",
       " 16740,\n",
       " 16741,\n",
       " 16742,\n",
       " 16743,\n",
       " 16744,\n",
       " 16745,\n",
       " 16746,\n",
       " 16747,\n",
       " 16748,\n",
       " 16749,\n",
       " 16750,\n",
       " 16751,\n",
       " 16752,\n",
       " 16753,\n",
       " 16754,\n",
       " 16755,\n",
       " 16756,\n",
       " 16757,\n",
       " 16758,\n",
       " 16759,\n",
       " 16760,\n",
       " 16761,\n",
       " 16762,\n",
       " 16763,\n",
       " 16764,\n",
       " 16765,\n",
       " 16766,\n",
       " 16767,\n",
       " 16768,\n",
       " 16769,\n",
       " 16770,\n",
       " 16771,\n",
       " 16772,\n",
       " 16773,\n",
       " 16774,\n",
       " 16775,\n",
       " 16776,\n",
       " 16777,\n",
       " 16778,\n",
       " 16779,\n",
       " 16780,\n",
       " 16781,\n",
       " 16782,\n",
       " 16783,\n",
       " 16784,\n",
       " 16785,\n",
       " 16786,\n",
       " 16787,\n",
       " 16788,\n",
       " 16789,\n",
       " 16790,\n",
       " 16791,\n",
       " 16792,\n",
       " 16793,\n",
       " 16794,\n",
       " 16795,\n",
       " 16796,\n",
       " 16797,\n",
       " 16798,\n",
       " 16799,\n",
       " 16800,\n",
       " 16801,\n",
       " 16802,\n",
       " 16803,\n",
       " 16804,\n",
       " 16805,\n",
       " 16806,\n",
       " 16807,\n",
       " 16808,\n",
       " 16809,\n",
       " 16810,\n",
       " 16811,\n",
       " 16812,\n",
       " 16813,\n",
       " 16814,\n",
       " 16815,\n",
       " 16816,\n",
       " 16817,\n",
       " 16818,\n",
       " 16819,\n",
       " 16820,\n",
       " 16821,\n",
       " 16822,\n",
       " 16823,\n",
       " 16824,\n",
       " 16825,\n",
       " 16826,\n",
       " 16827,\n",
       " 16828,\n",
       " 16829,\n",
       " 16830,\n",
       " 16831,\n",
       " 16832,\n",
       " 16833,\n",
       " 16834,\n",
       " 16835,\n",
       " 16836,\n",
       " 16837,\n",
       " 16838,\n",
       " 16839,\n",
       " 16840,\n",
       " 16841,\n",
       " 16842,\n",
       " 16843,\n",
       " 16844,\n",
       " 16845,\n",
       " 16846,\n",
       " 16847,\n",
       " 16848,\n",
       " 16849,\n",
       " 16850,\n",
       " 16851,\n",
       " 16852,\n",
       " 16853,\n",
       " 16854,\n",
       " 16855,\n",
       " 16856,\n",
       " 16857,\n",
       " 16858,\n",
       " 16859,\n",
       " 16860,\n",
       " 16861,\n",
       " 16862,\n",
       " 16863,\n",
       " 16864,\n",
       " 16865,\n",
       " 16866,\n",
       " 16867,\n",
       " 16868,\n",
       " 16869,\n",
       " 16870,\n",
       " 16871,\n",
       " 16872,\n",
       " 16873,\n",
       " 16874,\n",
       " 16875,\n",
       " 16876,\n",
       " 16877,\n",
       " 25200,\n",
       " 25201,\n",
       " 25202,\n",
       " 25203,\n",
       " 25204,\n",
       " 25205,\n",
       " 25206,\n",
       " 25207,\n",
       " 25208,\n",
       " 25209,\n",
       " 25210,\n",
       " 25211,\n",
       " 25212,\n",
       " 25213,\n",
       " 25214,\n",
       " 25215,\n",
       " 25216,\n",
       " 25217,\n",
       " 25218,\n",
       " 25219,\n",
       " 25220,\n",
       " 25221,\n",
       " 25222,\n",
       " 25223,\n",
       " 25224,\n",
       " 25225,\n",
       " 25226,\n",
       " 25227,\n",
       " 25228,\n",
       " 25229,\n",
       " 25230,\n",
       " 25231,\n",
       " 25232,\n",
       " 25233,\n",
       " 25234,\n",
       " 25235,\n",
       " 25236,\n",
       " 25237,\n",
       " 25238,\n",
       " 25239,\n",
       " 25240,\n",
       " 25241,\n",
       " 25242,\n",
       " 25243,\n",
       " 25244,\n",
       " 25245,\n",
       " 25246,\n",
       " 25247,\n",
       " 25248,\n",
       " 25249,\n",
       " 25250,\n",
       " 25251,\n",
       " 25252,\n",
       " 25253,\n",
       " 25254,\n",
       " 25255,\n",
       " 25256,\n",
       " 25257,\n",
       " 25258,\n",
       " 25259,\n",
       " 25260,\n",
       " 25261,\n",
       " 25262,\n",
       " 25263,\n",
       " 25264,\n",
       " 25265,\n",
       " 25266,\n",
       " 25267,\n",
       " 25268,\n",
       " 25269,\n",
       " 25270,\n",
       " 25271,\n",
       " 25272,\n",
       " 25273,\n",
       " 25274,\n",
       " 25275,\n",
       " 25276,\n",
       " 25277,\n",
       " 25278,\n",
       " 25279,\n",
       " 25280,\n",
       " 25281,\n",
       " 25282,\n",
       " 25283,\n",
       " 25284,\n",
       " 25285,\n",
       " 25286,\n",
       " 25287,\n",
       " 25288,\n",
       " 25289,\n",
       " 25290,\n",
       " 25291,\n",
       " 25292,\n",
       " 25293,\n",
       " 25294,\n",
       " 25295,\n",
       " 25296,\n",
       " 25297,\n",
       " 25298,\n",
       " 25299,\n",
       " 25300,\n",
       " 25301,\n",
       " 25302,\n",
       " 25303,\n",
       " 25304,\n",
       " 25305,\n",
       " 25306,\n",
       " 25307,\n",
       " 25308,\n",
       " 25309,\n",
       " 25310,\n",
       " 25311,\n",
       " 25312,\n",
       " 25313,\n",
       " 25314,\n",
       " 25315,\n",
       " 25316,\n",
       " 25317,\n",
       " 25318,\n",
       " 25319,\n",
       " 25320,\n",
       " 25321,\n",
       " 25322,\n",
       " 25323,\n",
       " 25324,\n",
       " 25325,\n",
       " 25326,\n",
       " 25327,\n",
       " 25328,\n",
       " 25329,\n",
       " 25330,\n",
       " 25331,\n",
       " 25332,\n",
       " 25333,\n",
       " 25334,\n",
       " 25335,\n",
       " 25336,\n",
       " 25337,\n",
       " 25338,\n",
       " 25339,\n",
       " 25340,\n",
       " 25341,\n",
       " 25342,\n",
       " 25343,\n",
       " 25344,\n",
       " 25345,\n",
       " 25346,\n",
       " 25347,\n",
       " 25348,\n",
       " 25349,\n",
       " 25350,\n",
       " 25351,\n",
       " 25352,\n",
       " 25353,\n",
       " 25354,\n",
       " 25355,\n",
       " 25356,\n",
       " 25357,\n",
       " 25358,\n",
       " 25359,\n",
       " 25360,\n",
       " 25361,\n",
       " 25362,\n",
       " 25363,\n",
       " 25364,\n",
       " 25365,\n",
       " 25366,\n",
       " 25367,\n",
       " 25368,\n",
       " 25369,\n",
       " 25370,\n",
       " 25371,\n",
       " 25372,\n",
       " 25373,\n",
       " 25374,\n",
       " 25375,\n",
       " 25376,\n",
       " 25377,\n",
       " 25378,\n",
       " 25379,\n",
       " 25380,\n",
       " 25381,\n",
       " 25382,\n",
       " 25383,\n",
       " 25384,\n",
       " 25385,\n",
       " 25386,\n",
       " 25387,\n",
       " 25388,\n",
       " 25389,\n",
       " 25390,\n",
       " 25391,\n",
       " 25392,\n",
       " 25393,\n",
       " 25394,\n",
       " 25395,\n",
       " 25396,\n",
       " 25397,\n",
       " 25398,\n",
       " 25399,\n",
       " 25400,\n",
       " 25401,\n",
       " 25402,\n",
       " 25403,\n",
       " 25404,\n",
       " 25405,\n",
       " 25406,\n",
       " 25407,\n",
       " 25408,\n",
       " 25409,\n",
       " 33699,\n",
       " 33700,\n",
       " 33701,\n",
       " 33702,\n",
       " 33703,\n",
       " 33704,\n",
       " 33705,\n",
       " 33706,\n",
       " 33707,\n",
       " 33708,\n",
       " 33709,\n",
       " 33710,\n",
       " 33711,\n",
       " 33712,\n",
       " 33713,\n",
       " 33714,\n",
       " 33715,\n",
       " 33716,\n",
       " 33717,\n",
       " 33718,\n",
       " 33719,\n",
       " 33720,\n",
       " 33721,\n",
       " 33722,\n",
       " 33723,\n",
       " 33724,\n",
       " 33725,\n",
       " 33726,\n",
       " 33727,\n",
       " 33728,\n",
       " 33729,\n",
       " 33730,\n",
       " 33731,\n",
       " 33732,\n",
       " 33733,\n",
       " 33734,\n",
       " 33735,\n",
       " 33736,\n",
       " 33737,\n",
       " 33738,\n",
       " 33739,\n",
       " 33740,\n",
       " 33741,\n",
       " 33742,\n",
       " 33743,\n",
       " 33744,\n",
       " 33745,\n",
       " 33746,\n",
       " 33747,\n",
       " 33748,\n",
       " 33749,\n",
       " 33750,\n",
       " 33751,\n",
       " 33752,\n",
       " 33753,\n",
       " 33754,\n",
       " 33755,\n",
       " 33756,\n",
       " 33757,\n",
       " 33758,\n",
       " 33759,\n",
       " 33760,\n",
       " 33761,\n",
       " 33762,\n",
       " 33763,\n",
       " 33764,\n",
       " 33765,\n",
       " 33766,\n",
       " 33767,\n",
       " 33768,\n",
       " 33769,\n",
       " 33770,\n",
       " 33771,\n",
       " 33772,\n",
       " 33773,\n",
       " 33774,\n",
       " 33775,\n",
       " 33776,\n",
       " 33777,\n",
       " 33778,\n",
       " 33779,\n",
       " 33780,\n",
       " 33781,\n",
       " 33782,\n",
       " 33783,\n",
       " 33784,\n",
       " 33785,\n",
       " 33786,\n",
       " 33787,\n",
       " 33788,\n",
       " 33789,\n",
       " 33790,\n",
       " 33791,\n",
       " 33792,\n",
       " 33793,\n",
       " 33794,\n",
       " 33795,\n",
       " 33796,\n",
       " 33797,\n",
       " 33798,\n",
       " 33799,\n",
       " 33800,\n",
       " 33801,\n",
       " 33802,\n",
       " 33803,\n",
       " 33804,\n",
       " 33805,\n",
       " 33806,\n",
       " 33807,\n",
       " 33808,\n",
       " 33809,\n",
       " 33810,\n",
       " 33811,\n",
       " 33812,\n",
       " 33813,\n",
       " 33814,\n",
       " 33815,\n",
       " 33816,\n",
       " 33817,\n",
       " 33818,\n",
       " 33819,\n",
       " 33820,\n",
       " 33821,\n",
       " 33822,\n",
       " 33823,\n",
       " 33824,\n",
       " 33825,\n",
       " 33826,\n",
       " 33827,\n",
       " 33828,\n",
       " 33829,\n",
       " 33830,\n",
       " 33831,\n",
       " 33832,\n",
       " 33833,\n",
       " 33834,\n",
       " 33835,\n",
       " 33836,\n",
       " 33837,\n",
       " 33838,\n",
       " 33839,\n",
       " 33840,\n",
       " 33841,\n",
       " 33842,\n",
       " 33843,\n",
       " 33844,\n",
       " 33845,\n",
       " 33846,\n",
       " 33847,\n",
       " 33848,\n",
       " 33849,\n",
       " 33850,\n",
       " 33851,\n",
       " 33852,\n",
       " 33853,\n",
       " 33854,\n",
       " 33855,\n",
       " 33856,\n",
       " 33857,\n",
       " 33858,\n",
       " 33859,\n",
       " 33860,\n",
       " 33861,\n",
       " 33862,\n",
       " 33863,\n",
       " 33864,\n",
       " 33865,\n",
       " 33866,\n",
       " 33867,\n",
       " 33868,\n",
       " 33869,\n",
       " 33870,\n",
       " 33871,\n",
       " 33872,\n",
       " 33873,\n",
       " 33874,\n",
       " 33875,\n",
       " 33876,\n",
       " 33877,\n",
       " 33878,\n",
       " 33879,\n",
       " 33880,\n",
       " 33881,\n",
       " 33882,\n",
       " 33883,\n",
       " 33884,\n",
       " 33885,\n",
       " 33886,\n",
       " 33887,\n",
       " 33888,\n",
       " 33889,\n",
       " 33890,\n",
       " 33891,\n",
       " 33892,\n",
       " 33893,\n",
       " 33894,\n",
       " 33895,\n",
       " 33896,\n",
       " 33897,\n",
       " 33898,\n",
       " 33899,\n",
       " 33900,\n",
       " 33901,\n",
       " 33902,\n",
       " 33903,\n",
       " 33904,\n",
       " 33905,\n",
       " 33906,\n",
       " 33907,\n",
       " 33908,\n",
       " 42199,\n",
       " 42200,\n",
       " 42201,\n",
       " 42202,\n",
       " 42203,\n",
       " 42204,\n",
       " 42205,\n",
       " 42206,\n",
       " 42207,\n",
       " 42208,\n",
       " 42209,\n",
       " 42210,\n",
       " 42211,\n",
       " 42212,\n",
       " 42213,\n",
       " 42214,\n",
       " 42215,\n",
       " 42216,\n",
       " 42217,\n",
       " 42218,\n",
       " 42219,\n",
       " 42220,\n",
       " 42221,\n",
       " 42222,\n",
       " 42223,\n",
       " 42224,\n",
       " 42225,\n",
       " 42226,\n",
       " 42227,\n",
       " 42228,\n",
       " 42229,\n",
       " 42230,\n",
       " 42231,\n",
       " 42232,\n",
       " 42233,\n",
       " 42234,\n",
       " 42235,\n",
       " 42236,\n",
       " 42237,\n",
       " 42238,\n",
       " 42239,\n",
       " 42240,\n",
       " 42241,\n",
       " 42242,\n",
       " 42243,\n",
       " 42244,\n",
       " 42245,\n",
       " 42246,\n",
       " 42247,\n",
       " 42248,\n",
       " 42249,\n",
       " 42250,\n",
       " 42251,\n",
       " 42252,\n",
       " 42253,\n",
       " 42254,\n",
       " 42255,\n",
       " 42256,\n",
       " 42257,\n",
       " 42258,\n",
       " 42259,\n",
       " 42260,\n",
       " 42261,\n",
       " 42262,\n",
       " 42263,\n",
       " 42264,\n",
       " 42265,\n",
       " 42266,\n",
       " 42267,\n",
       " 42268,\n",
       " 42269,\n",
       " 42270,\n",
       " 42271,\n",
       " 42272,\n",
       " 42273,\n",
       " 42274,\n",
       " 42275,\n",
       " 42276,\n",
       " 42277,\n",
       " 42278,\n",
       " 42279,\n",
       " 42280,\n",
       " 42281,\n",
       " 42282,\n",
       " 42283,\n",
       " 42284,\n",
       " 42285,\n",
       " 42286,\n",
       " 42287,\n",
       " 42288,\n",
       " 42289,\n",
       " 42290,\n",
       " 42291,\n",
       " 42292,\n",
       " 42293,\n",
       " 42294,\n",
       " 42295,\n",
       " 42296,\n",
       " 42297,\n",
       " 42298,\n",
       " 42299,\n",
       " 42300,\n",
       " 42301,\n",
       " 42302,\n",
       " 42303,\n",
       " 42304,\n",
       " 42305,\n",
       " 42306,\n",
       " 42307,\n",
       " 42308,\n",
       " 42309,\n",
       " 42310,\n",
       " 42311,\n",
       " 42312,\n",
       " 42313,\n",
       " 42314,\n",
       " 42315,\n",
       " 42316,\n",
       " 42317,\n",
       " 42318,\n",
       " 42319,\n",
       " 42320,\n",
       " 42321,\n",
       " 42322,\n",
       " 42323,\n",
       " 42324,\n",
       " 42325,\n",
       " 42326,\n",
       " 42327,\n",
       " 42328,\n",
       " 42329,\n",
       " 42330,\n",
       " 42331,\n",
       " 42332,\n",
       " 42333,\n",
       " 42334,\n",
       " 42335,\n",
       " 42336,\n",
       " 42337,\n",
       " 42338,\n",
       " 42339,\n",
       " 42340,\n",
       " 42341,\n",
       " 42342,\n",
       " 42343,\n",
       " 42344,\n",
       " 42345,\n",
       " 42346,\n",
       " 42347,\n",
       " 42348,\n",
       " 42349,\n",
       " 42350,\n",
       " 42351,\n",
       " 42352,\n",
       " 42353,\n",
       " 42354,\n",
       " 42355,\n",
       " 42356,\n",
       " 42357,\n",
       " 42358,\n",
       " 42359,\n",
       " 42360,\n",
       " 42361,\n",
       " 42362,\n",
       " 42363,\n",
       " 42364,\n",
       " 42365,\n",
       " 42366,\n",
       " 42367,\n",
       " 42368,\n",
       " 42369,\n",
       " 42370,\n",
       " 42371,\n",
       " 42372,\n",
       " 42373,\n",
       " 42374,\n",
       " 42375,\n",
       " 42376,\n",
       " 42377,\n",
       " 42378,\n",
       " 42379,\n",
       " 42380,\n",
       " 42381,\n",
       " 42382,\n",
       " 42383,\n",
       " 42384,\n",
       " 42385,\n",
       " 42386,\n",
       " 42387,\n",
       " 42388,\n",
       " 42389,\n",
       " 42390,\n",
       " 42391,\n",
       " 42392,\n",
       " 42393,\n",
       " 42394,\n",
       " 42395,\n",
       " 42396,\n",
       " 42397,\n",
       " 42398,\n",
       " 42399,\n",
       " 42400,\n",
       " 42401,\n",
       " 42402,\n",
       " 42403,\n",
       " 42404,\n",
       " 42405,\n",
       " 42406,\n",
       " 42407,\n",
       " 50698,\n",
       " 50699,\n",
       " 50700,\n",
       " 50701,\n",
       " 50702,\n",
       " 50703,\n",
       " 50704,\n",
       " 50705,\n",
       " 50706,\n",
       " 50707,\n",
       " 50708,\n",
       " 50709,\n",
       " 50710,\n",
       " 50711,\n",
       " 50712,\n",
       " 50713,\n",
       " 50714,\n",
       " 50715,\n",
       " 50716,\n",
       " 50717,\n",
       " 50718,\n",
       " 50719,\n",
       " 50720,\n",
       " 50721,\n",
       " 50722,\n",
       " 50723,\n",
       " 50724,\n",
       " 50725,\n",
       " 50726,\n",
       " 50727,\n",
       " 50728,\n",
       " 50729,\n",
       " 50730,\n",
       " 50731,\n",
       " 50732,\n",
       " 50733,\n",
       " 50734,\n",
       " 50735,\n",
       " 50736,\n",
       " 50737,\n",
       " 50738,\n",
       " 50739,\n",
       " 50740,\n",
       " 50741,\n",
       " 50742,\n",
       " 50743,\n",
       " 50744,\n",
       " 50745,\n",
       " 50746,\n",
       " 50747,\n",
       " 50748,\n",
       " 50749,\n",
       " 50750,\n",
       " 50751,\n",
       " ...]"
      ]
     },
     "execution_count": 41,
     "metadata": {},
     "output_type": "execute_result"
    }
   ],
   "source": [
    "valid_idx_new = np.argwhere(src_mask_img_arr.flatten() == True).flatten().tolist()#.tolist()\n",
    "valid_idx_new"
   ]
  },
  {
   "cell_type": "code",
   "execution_count": 37,
   "metadata": {},
   "outputs": [
    {
     "data": {
      "text/plain": [
       "array([0., 0., 0., ..., 0., 0., 0.])"
      ]
     },
     "execution_count": 37,
     "metadata": {},
     "output_type": "execute_result"
    }
   ],
   "source": [
    "new_o = img_o_load.flatten()\n",
    "new_o"
   ]
  },
  {
   "cell_type": "code",
   "execution_count": 93,
   "metadata": {},
   "outputs": [
    {
     "data": {
      "text/plain": [
       "array([0., 0., 0., ..., 0., 0., 0.])"
      ]
     },
     "execution_count": 93,
     "metadata": {},
     "output_type": "execute_result"
    }
   ],
   "source": [
    "new_o[valid_idx_new]"
   ]
  },
  {
   "cell_type": "code",
   "execution_count": 96,
   "metadata": {},
   "outputs": [
    {
     "data": {
      "text/plain": [
       "1.0"
      ]
     },
     "execution_count": 96,
     "metadata": {},
     "output_type": "execute_result"
    }
   ],
   "source": [
    "#(np.take(new_o, valid_idx_new, 0) == new_o[valid_idx_new]).mean()"
   ]
  },
  {
   "cell_type": "markdown",
   "metadata": {},
   "source": [
    "# Scale percentage"
   ]
  },
  {
   "cell_type": "code",
   "execution_count": 6,
   "metadata": {},
   "outputs": [
    {
     "data": {
      "text/plain": [
       "array([ 705.        ,  853.42105263, 1001.84210526, 1150.26315789,\n",
       "       1298.68421053, 1447.10526316, 1595.52631579, 1743.94736842,\n",
       "       1892.36842105, 2040.78947368, 2189.21052632, 2337.63157895,\n",
       "       2486.05263158, 2634.47368421, 2782.89473684, 2931.31578947,\n",
       "       3079.73684211, 3228.15789474, 3376.57894737, 3525.        ])"
      ]
     },
     "execution_count": 6,
     "metadata": {},
     "output_type": "execute_result"
    }
   ],
   "source": [
    "nmimg_height_lst = np.linspace(3525/ 5, 3525, num = 20)\n",
    "nmimg_height_lst"
   ]
  },
  {
   "cell_type": "code",
   "execution_count": 7,
   "metadata": {},
   "outputs": [
    {
     "data": {
      "text/plain": [
       "array([0.2       , 0.24210526, 0.28421053, 0.32631579, 0.36842105,\n",
       "       0.41052632, 0.45263158, 0.49473684, 0.53684211, 0.57894737,\n",
       "       0.62105263, 0.66315789, 0.70526316, 0.74736842, 0.78947368,\n",
       "       0.83157895, 0.87368421, 0.91578947, 0.95789474, 1.        ])"
      ]
     },
     "execution_count": 7,
     "metadata": {},
     "output_type": "execute_result"
    }
   ],
   "source": [
    "scale_percent_lst = nmimg_height_lst/3525\n",
    "scale_percent_lst "
   ]
  },
  {
   "cell_type": "code",
   "execution_count": 70,
   "metadata": {},
   "outputs": [],
   "source": [
    "mini_scale_percent_lst = np.array([0.02, 0.04, 0.06, 0.08, 0.1, 0.12, 0.14, 0.16, 0.18])"
   ]
  },
  {
   "cell_type": "markdown",
   "metadata": {},
   "source": [
    "# Method for training one lower resolution image"
   ]
  },
  {
   "cell_type": "code",
   "execution_count": 8,
   "metadata": {},
   "outputs": [],
   "source": [
    "def downsample_method(p):\n",
    "    new_mmask = mask_downsampling(mmask, p)\n",
    "    new_nmmask = mask_downsampling(nmmask, p)\n",
    "    new_m_image = image_downsampling(m_image, p)\n",
    "    new_nm_image = image_downsampling(nm_image, p)\n",
    "    #reshape original image and downsampling\n",
    "    ori_img = reshape_as_image(src.read())\n",
    "    new_img = image_downsampling(src.read(), p)\n",
    "    new_img = reshape_as_image(new_img)\n",
    "    array = new_img.reshape(new_img.shape[0] * new_img.shape[1], new_img.shape[2])\n",
    "    #use down sampled masks and images to create train-test split\n",
    "    new_m_idx = np.squeeze(((reshape_as_image(new_mmask) == 1)), axis=-1) \n",
    "    new_nm_idx = np.squeeze((reshape_as_image(new_nmmask) == 1), axis=-1)\n",
    "    new_m_pix = reshape_as_image(new_m_image)[new_m_idx]\n",
    "    new_nm_pix = reshape_as_image(new_nm_image)[new_nm_idx]\n",
    "    new_m_pix = new_m_pix[np.all(new_m_pix != 0, axis=1)]\n",
    "    new_nm_pix = new_nm_pix[np.all(new_nm_pix != 0, axis=1)]\n",
    "    new_x = np.concatenate((new_m_pix, new_nm_pix), axis = 0)\n",
    "    new_y = np.concatenate((np.zeros((new_m_pix.shape[0]))+1, np.zeros((new_nm_pix.shape[0]))))\n",
    "    new_x_train, new_x_test, new_y_train, new_y_test = train_test_split(new_x, new_y, test_size=0.20, random_state=42)\n",
    "    new_clf = ExtraTreesClassifier(n_jobs=4)\n",
    "    new_clf.fit(new_x_train, new_y_train)\n",
    "    output = new_clf.predict(array)\n",
    "    output_img = output.reshape(new_img.shape[0], new_img.shape[1], 1)\n",
    "    #upsample calssified image\n",
    "    ori_img1 = ori_img[:,:,0]\n",
    "    width_out = ori_img1.shape[1]\n",
    "    height_out = ori_img1.shape[0]\n",
    "    dim_out = (width_out, height_out)\n",
    "    up_img = cv2.resize(output_img[:,:,0], dim_out, interpolation = cv2.INTER_NEAREST)\n",
    "    return up_img"
   ]
  },
  {
   "cell_type": "code",
   "execution_count": 59,
   "metadata": {},
   "outputs": [
    {
     "data": {
      "image/png": "[encoded data removed]",
      "text/plain": [
       "<Figure size 432x288 with 1 Axes>"
      ]
     },
     "metadata": {
      "needs_background": "light"
     },
     "output_type": "display_data"
    },
    {
     "data": {
      "text/plain": [
       "<AxesSubplot:>"
      ]
     },
     "execution_count": 59,
     "metadata": {},
     "output_type": "execute_result"
    }
   ],
   "source": [
    "show(downsample_method(0.03))"
   ]
  },
  {
   "cell_type": "code",
   "execution_count": 79,
   "metadata": {},
   "outputs": [
    {
     "data": {
      "image/png": "[encoded data removed]",
      "text/plain": [
       "<Figure size 432x288 with 1 Axes>"
      ]
     },
     "metadata": {
      "needs_background": "light"
     },
     "output_type": "display_data"
    },
    {
     "data": {
      "text/plain": [
       "<AxesSubplot:>"
      ]
     },
     "execution_count": 79,
     "metadata": {},
     "output_type": "execute_result"
    }
   ],
   "source": [
    "show(output_img_o)"
   ]
  },
  {
   "cell_type": "code",
   "execution_count": 78,
   "metadata": {},
   "outputs": [
    {
     "data": {
      "image/png": "[encoded data removed]",
      "text/plain": [
       "<Figure size 432x288 with 1 Axes>"
      ]
     },
     "metadata": {
      "needs_background": "light"
     },
     "output_type": "display_data"
    },
    {
     "data": {
      "text/plain": [
       "<AxesSubplot:>"
      ]
     },
     "execution_count": 78,
     "metadata": {},
     "output_type": "execute_result"
    }
   ],
   "source": [
    "show(downsample_method(0.2))"
   ]
  },
  {
   "cell_type": "code",
   "execution_count": 47,
   "metadata": {},
   "outputs": [
    {
     "data": {
      "image/png": "[encoded data removed]",
      "text/plain": [
       "<Figure size 432x288 with 1 Axes>"
      ]
     },
     "metadata": {
      "needs_background": "light"
     },
     "output_type": "display_data"
    },
    {
     "data": {
      "text/plain": [
       "<AxesSubplot:>"
      ]
     },
     "execution_count": 47,
     "metadata": {},
     "output_type": "execute_result"
    }
   ],
   "source": [
    "show(downsample_method(0.02))"
   ]
  },
  {
   "cell_type": "code",
   "execution_count": 49,
   "metadata": {},
   "outputs": [
    {
     "data": {
      "image/png": "[encoded data removed]",
      "text/plain": [
       "<Figure size 432x288 with 1 Axes>"
      ]
     },
     "metadata": {
      "needs_background": "light"
     },
     "output_type": "display_data"
    },
    {
     "data": {
      "text/plain": [
       "<AxesSubplot:>"
      ]
     },
     "execution_count": 49,
     "metadata": {},
     "output_type": "execute_result"
    }
   ],
   "source": [
    "show(downsample_method(0.03))"
   ]
  },
  {
   "cell_type": "markdown",
   "metadata": {},
   "source": [
    "# Fix mask issue"
   ]
  },
  {
   "cell_type": "code",
   "execution_count": null,
   "metadata": {},
   "outputs": [],
   "source": [
    "a4 = downsample_method(0.04)"
   ]
  },
  {
   "cell_type": "code",
   "execution_count": 76,
   "metadata": {},
   "outputs": [
    {
     "data": {
      "image/png": "[encoded data removed]",
      "text/plain": [
       "<Figure size 432x288 with 1 Axes>"
      ]
     },
     "metadata": {
      "needs_background": "light"
     },
     "output_type": "display_data"
    },
    {
     "data": {
      "text/plain": [
       "<AxesSubplot:>"
      ]
     },
     "execution_count": 76,
     "metadata": {},
     "output_type": "execute_result"
    }
   ],
   "source": [
    "show(a4)"
   ]
  },
  {
   "cell_type": "code",
   "execution_count": 63,
   "metadata": {},
   "outputs": [
    {
     "data": {
      "image/png": "[encoded data removed]",
      "text/plain": [
       "<Figure size 432x288 with 1 Axes>"
      ]
     },
     "metadata": {
      "needs_background": "light"
     },
     "output_type": "display_data"
    },
    {
     "data": {
      "text/plain": [
       "<AxesSubplot:>"
      ]
     },
     "execution_count": 63,
     "metadata": {},
     "output_type": "execute_result"
    }
   ],
   "source": [
    "show(mask_src)"
   ]
  },
  {
   "cell_type": "code",
   "execution_count": 35,
   "metadata": {},
   "outputs": [
    {
     "data": {
      "text/plain": [
       "(5012, 8500)"
      ]
     },
     "execution_count": 35,
     "metadata": {},
     "output_type": "execute_result"
    }
   ],
   "source": [
    "import PIL\n",
    "from PIL import Image\n",
    "src_mask_img = Image.open(\"JamaicaImageMask.tif\")\n",
    "src_mask_img_arr = np.array(src_mask_img)\n",
    "src_mask_img_arr.shape"
   ]
  },
  {
   "cell_type": "code",
   "execution_count": 80,
   "metadata": {},
   "outputs": [
    {
     "data": {
      "image/png": "[encoded data removed]",
      "text/plain": [
       "<Figure size 432x288 with 1 Axes>"
      ]
     },
     "metadata": {
      "needs_background": "light"
     },
     "output_type": "display_data"
    },
    {
     "data": {
      "text/plain": [
       "<AxesSubplot:>"
      ]
     },
     "execution_count": 80,
     "metadata": {},
     "output_type": "execute_result"
    }
   ],
   "source": [
    "show(src_mask_img_arr*a4)"
   ]
  },
  {
   "cell_type": "code",
   "execution_count": 82,
   "metadata": {},
   "outputs": [],
   "source": [
    "new_a4 = src_mask_img_arr*a4"
   ]
  },
  {
   "cell_type": "code",
   "execution_count": 83,
   "metadata": {},
   "outputs": [
    {
     "data": {
      "text/plain": [
       "0.7378705650925502"
      ]
     },
     "execution_count": 83,
     "metadata": {},
     "output_type": "execute_result"
    }
   ],
   "source": [
    "f1_score(output_img_o.flatten(), new_a4.flatten())"
   ]
  },
  {
   "cell_type": "markdown",
   "metadata": {},
   "source": [
    "# Trained images with different resolutions"
   ]
  },
  {
   "cell_type": "code",
   "execution_count": 25,
   "metadata": {},
   "outputs": [
    {
     "name": "stderr",
     "output_type": "stream",
     "text": [
      "100%|███████████████████████████████████████████| 20/20 [18:40<00:00, 56.02s/it]\n"
     ]
    }
   ],
   "source": [
    "img_lst = []\n",
    "for p in tqdm(scale_percent_lst):\n",
    "    img_lst.append(downsample_method(p))"
   ]
  },
  {
   "cell_type": "code",
   "execution_count": 30,
   "metadata": {},
   "outputs": [
    {
     "name": "stderr",
     "output_type": "stream",
     "text": [
      "100%|█████████████████████████████████████████████| 9/9 [00:23<00:00,  2.58s/it]\n"
     ]
    }
   ],
   "source": [
    "mini_img_lst = []\n",
    "for p in tqdm(mini_scale_percent_lst):\n",
    "    mini_img_lst.append(downsample_method(p))"
   ]
  },
  {
   "cell_type": "code",
   "execution_count": 31,
   "metadata": {},
   "outputs": [
    {
     "data": {
      "text/plain": [
       "[array([[0., 0., 0., ..., 0., 0., 0.],\n",
       "        [0., 0., 0., ..., 0., 0., 0.],\n",
       "        [0., 0., 0., ..., 0., 0., 0.],\n",
       "        ...,\n",
       "        [0., 0., 0., ..., 0., 0., 0.],\n",
       "        [0., 0., 0., ..., 0., 0., 0.],\n",
       "        [0., 0., 0., ..., 0., 0., 0.]]),\n",
       " array([[1., 1., 1., ..., 1., 1., 1.],\n",
       "        [1., 1., 1., ..., 1., 1., 1.],\n",
       "        [1., 1., 1., ..., 1., 1., 1.],\n",
       "        ...,\n",
       "        [1., 1., 1., ..., 1., 1., 1.],\n",
       "        [1., 1., 1., ..., 1., 1., 1.],\n",
       "        [1., 1., 1., ..., 1., 1., 1.]]),\n",
       " array([[1., 1., 1., ..., 1., 1., 1.],\n",
       "        [1., 1., 1., ..., 1., 1., 1.],\n",
       "        [1., 1., 1., ..., 1., 1., 1.],\n",
       "        ...,\n",
       "        [1., 1., 1., ..., 1., 1., 1.],\n",
       "        [1., 1., 1., ..., 1., 1., 1.],\n",
       "        [1., 1., 1., ..., 1., 1., 1.]]),\n",
       " array([[1., 1., 1., ..., 1., 1., 1.],\n",
       "        [1., 1., 1., ..., 1., 1., 1.],\n",
       "        [1., 1., 1., ..., 1., 1., 1.],\n",
       "        ...,\n",
       "        [1., 1., 1., ..., 1., 1., 1.],\n",
       "        [1., 1., 1., ..., 1., 1., 1.],\n",
       "        [1., 1., 1., ..., 1., 1., 1.]]),\n",
       " array([[0., 0., 0., ..., 0., 0., 0.],\n",
       "        [0., 0., 0., ..., 0., 0., 0.],\n",
       "        [0., 0., 0., ..., 0., 0., 0.],\n",
       "        ...,\n",
       "        [0., 0., 0., ..., 0., 0., 0.],\n",
       "        [0., 0., 0., ..., 0., 0., 0.],\n",
       "        [0., 0., 0., ..., 0., 0., 0.]]),\n",
       " array([[0., 0., 0., ..., 0., 0., 0.],\n",
       "        [0., 0., 0., ..., 0., 0., 0.],\n",
       "        [0., 0., 0., ..., 0., 0., 0.],\n",
       "        ...,\n",
       "        [0., 0., 0., ..., 0., 0., 0.],\n",
       "        [0., 0., 0., ..., 0., 0., 0.],\n",
       "        [0., 0., 0., ..., 0., 0., 0.]]),\n",
       " array([[1., 1., 1., ..., 1., 1., 1.],\n",
       "        [1., 1., 1., ..., 1., 1., 1.],\n",
       "        [1., 1., 1., ..., 1., 1., 1.],\n",
       "        ...,\n",
       "        [1., 1., 1., ..., 1., 1., 1.],\n",
       "        [1., 1., 1., ..., 1., 1., 1.],\n",
       "        [1., 1., 1., ..., 1., 1., 1.]]),\n",
       " array([[0., 0., 0., ..., 0., 0., 0.],\n",
       "        [0., 0., 0., ..., 0., 0., 0.],\n",
       "        [0., 0., 0., ..., 0., 0., 0.],\n",
       "        ...,\n",
       "        [0., 0., 0., ..., 0., 0., 0.],\n",
       "        [0., 0., 0., ..., 0., 0., 0.],\n",
       "        [0., 0., 0., ..., 0., 0., 0.]]),\n",
       " array([[0., 0., 0., ..., 0., 0., 0.],\n",
       "        [0., 0., 0., ..., 0., 0., 0.],\n",
       "        [0., 0., 0., ..., 0., 0., 0.],\n",
       "        ...,\n",
       "        [0., 0., 0., ..., 0., 0., 0.],\n",
       "        [0., 0., 0., ..., 0., 0., 0.],\n",
       "        [0., 0., 0., ..., 0., 0., 0.]]),\n",
       " array([[1., 1., 1., ..., 1., 1., 1.],\n",
       "        [1., 1., 1., ..., 1., 1., 1.],\n",
       "        [1., 1., 1., ..., 1., 1., 1.],\n",
       "        ...,\n",
       "        [1., 1., 1., ..., 1., 1., 1.],\n",
       "        [1., 1., 1., ..., 1., 1., 1.],\n",
       "        [1., 1., 1., ..., 1., 1., 1.]]),\n",
       " array([[1., 1., 1., ..., 1., 1., 1.],\n",
       "        [1., 1., 1., ..., 1., 1., 1.],\n",
       "        [1., 1., 1., ..., 1., 1., 1.],\n",
       "        ...,\n",
       "        [1., 1., 1., ..., 1., 1., 1.],\n",
       "        [1., 1., 1., ..., 1., 1., 1.],\n",
       "        [1., 1., 1., ..., 1., 1., 1.]]),\n",
       " array([[0., 0., 0., ..., 0., 0., 0.],\n",
       "        [0., 0., 0., ..., 0., 0., 0.],\n",
       "        [0., 0., 0., ..., 0., 0., 0.],\n",
       "        ...,\n",
       "        [0., 0., 0., ..., 0., 0., 0.],\n",
       "        [0., 0., 0., ..., 0., 0., 0.],\n",
       "        [0., 0., 0., ..., 0., 0., 0.]]),\n",
       " array([[1., 1., 1., ..., 1., 1., 1.],\n",
       "        [1., 1., 1., ..., 1., 1., 1.],\n",
       "        [1., 1., 1., ..., 1., 1., 1.],\n",
       "        ...,\n",
       "        [1., 1., 1., ..., 1., 1., 1.],\n",
       "        [1., 1., 1., ..., 1., 1., 1.],\n",
       "        [1., 1., 1., ..., 1., 1., 1.]]),\n",
       " array([[1., 1., 1., ..., 1., 1., 1.],\n",
       "        [1., 1., 1., ..., 1., 1., 1.],\n",
       "        [1., 1., 1., ..., 1., 1., 1.],\n",
       "        ...,\n",
       "        [1., 1., 1., ..., 1., 1., 1.],\n",
       "        [1., 1., 1., ..., 1., 1., 1.],\n",
       "        [1., 1., 1., ..., 1., 1., 1.]]),\n",
       " array([[1., 1., 1., ..., 1., 1., 1.],\n",
       "        [1., 1., 1., ..., 1., 1., 1.],\n",
       "        [1., 1., 1., ..., 1., 1., 1.],\n",
       "        ...,\n",
       "        [1., 1., 1., ..., 1., 1., 1.],\n",
       "        [1., 1., 1., ..., 1., 1., 1.],\n",
       "        [1., 1., 1., ..., 1., 1., 1.]]),\n",
       " array([[1., 1., 1., ..., 1., 1., 1.],\n",
       "        [1., 1., 1., ..., 1., 1., 1.],\n",
       "        [1., 1., 1., ..., 1., 1., 1.],\n",
       "        ...,\n",
       "        [1., 1., 1., ..., 1., 1., 1.],\n",
       "        [1., 1., 1., ..., 1., 1., 1.],\n",
       "        [1., 1., 1., ..., 1., 1., 1.]]),\n",
       " array([[0., 0., 0., ..., 0., 0., 0.],\n",
       "        [0., 0., 0., ..., 0., 0., 0.],\n",
       "        [0., 0., 0., ..., 0., 0., 0.],\n",
       "        ...,\n",
       "        [0., 0., 0., ..., 0., 0., 0.],\n",
       "        [0., 0., 0., ..., 0., 0., 0.],\n",
       "        [0., 0., 0., ..., 0., 0., 0.]]),\n",
       " array([[1., 1., 1., ..., 1., 1., 1.],\n",
       "        [1., 1., 1., ..., 1., 1., 1.],\n",
       "        [1., 1., 1., ..., 1., 1., 1.],\n",
       "        ...,\n",
       "        [1., 1., 1., ..., 1., 1., 1.],\n",
       "        [1., 1., 1., ..., 1., 1., 1.],\n",
       "        [1., 1., 1., ..., 1., 1., 1.]]),\n",
       " array([[1., 1., 1., ..., 1., 1., 1.],\n",
       "        [1., 1., 1., ..., 1., 1., 1.],\n",
       "        [1., 1., 1., ..., 1., 1., 1.],\n",
       "        ...,\n",
       "        [1., 1., 1., ..., 1., 1., 1.],\n",
       "        [1., 1., 1., ..., 1., 1., 1.],\n",
       "        [1., 1., 1., ..., 1., 1., 1.]]),\n",
       " array([[0., 0., 0., ..., 0., 0., 0.],\n",
       "        [0., 0., 0., ..., 0., 0., 0.],\n",
       "        [0., 0., 0., ..., 0., 0., 0.],\n",
       "        ...,\n",
       "        [0., 0., 0., ..., 0., 0., 0.],\n",
       "        [0., 0., 0., ..., 0., 0., 0.],\n",
       "        [0., 0., 0., ..., 0., 0., 0.]])]"
      ]
     },
     "execution_count": 31,
     "metadata": {},
     "output_type": "execute_result"
    }
   ],
   "source": [
    "img_lst"
   ]
  },
  {
   "cell_type": "code",
   "execution_count": 32,
   "metadata": {},
   "outputs": [],
   "source": [
    "np.save('img_lst.npy', img_lst)"
   ]
  },
  {
   "cell_type": "code",
   "execution_count": 31,
   "metadata": {},
   "outputs": [],
   "source": [
    "np.save('mini_img_lst.npy', mini_img_lst)"
   ]
  },
  {
   "cell_type": "markdown",
   "metadata": {},
   "source": [
    "## can load the trained image lists directly here"
   ]
  },
  {
   "cell_type": "code",
   "execution_count": 29,
   "metadata": {},
   "outputs": [],
   "source": [
    "img_load = np.load('img_lst.npy')"
   ]
  },
  {
   "cell_type": "code",
   "execution_count": 32,
   "metadata": {},
   "outputs": [],
   "source": [
    "mini_img_load = np.load('mini_img_lst.npy')"
   ]
  },
  {
   "cell_type": "code",
   "execution_count": 83,
   "metadata": {},
   "outputs": [
    {
     "data": {
      "image/png": "[encoded data removed]",
      "text/plain": [
       "<Figure size 432x288 with 1 Axes>"
      ]
     },
     "metadata": {
      "needs_background": "light"
     },
     "output_type": "display_data"
    },
    {
     "data": {
      "text/plain": [
       "<AxesSubplot:>"
      ]
     },
     "execution_count": 83,
     "metadata": {},
     "output_type": "execute_result"
    }
   ],
   "source": [
    "show(mini_img_load[2]*src_mask_img_arr)"
   ]
  },
  {
   "cell_type": "code",
   "execution_count": 74,
   "metadata": {},
   "outputs": [
    {
     "data": {
      "image/png": "[encoded data removed]",
      "text/plain": [
       "<Figure size 432x288 with 1 Axes>"
      ]
     },
     "metadata": {
      "needs_background": "light"
     },
     "output_type": "display_data"
    },
    {
     "data": {
      "text/plain": [
       "<AxesSubplot:>"
      ]
     },
     "execution_count": 74,
     "metadata": {},
     "output_type": "execute_result"
    }
   ],
   "source": [
    "show(img_load[0])"
   ]
  },
  {
   "cell_type": "markdown",
   "metadata": {},
   "source": [
    "# Confusion matix \n",
    "(true positive rate, true negative rate, accuracy, F1 score)"
   ]
  },
  {
   "cell_type": "code",
   "execution_count": 33,
   "metadata": {},
   "outputs": [],
   "source": [
    "#true_postive rate -- sensitivity, recall, tp/(tp+fn)\n",
    "#true_negative rate -- specificity tn/(tn+fp)\n",
    "from sklearn.metrics import confusion_matrix, ConfusionMatrixDisplay"
   ]
  },
  {
   "cell_type": "markdown",
   "metadata": {},
   "source": [
    "- Top left quadrant = True Positives = Number of benign labelled as benign\n",
    "- Bottom right quadrant = True Negatives = Number of malignant labelled as malignant\n",
    "- Top right quadrant = False Positives = Number of benign labelled as malignant\n",
    "- Bottom left quadrant = False Negatives = Number of malignant labelled as benign"
   ]
  },
  {
   "cell_type": "markdown",
   "metadata": {},
   "source": [
    "# compute true positive and true negative"
   ]
  },
  {
   "cell_type": "code",
   "execution_count": 40,
   "metadata": {},
   "outputs": [
    {
     "name": "stderr",
     "output_type": "stream",
     "text": [
      "100%|███████████████████████████████████████████| 20/20 [06:25<00:00, 19.27s/it]\n"
     ]
    }
   ],
   "source": [
    "true_postive_rate_lst = []\n",
    "true_negative_rate_lst = []\n",
    "for up_img in tqdm(img_load):\n",
    "    new_up_img = src_mask_img_arr*up_img\n",
    "    new_c = confusion_matrix(output_img_o.flatten(), new_up_img.flatten())\n",
    "    TP = new_c[0, 0]\n",
    "    FP = new_c[0, 1]\n",
    "    FN = new_c[1, 0]\n",
    "    TN = new_c[1, 1]\n",
    "    new_true_positive_rate = TP/(TP+FN)\n",
    "    new_true_negative_rate = TN/(TN+FP)\n",
    "    true_postive_rate_lst.append(new_true_positive_rate)\n",
    "    true_negative_rate_lst.append(new_true_negative_rate)"
   ]
  },
  {
   "cell_type": "code",
   "execution_count": 41,
   "metadata": {},
   "outputs": [
    {
     "data": {
      "text/plain": [
       "[0.9940695606699155,\n",
       " 0.9955644072150862,\n",
       " 0.9959752404446999,\n",
       " 0.9961550155012908,\n",
       " 0.9961661096879143,\n",
       " 0.9964431610947005,\n",
       " 0.9966905275562217,\n",
       " 0.9966767832680593,\n",
       " 0.9968101734366228,\n",
       " 0.9968672327199529,\n",
       " 0.9968459843660192,\n",
       " 0.9969895274606548,\n",
       " 0.9969629915950214,\n",
       " 0.997016030789903,\n",
       " 0.9971607804096907,\n",
       " 0.997038366407958,\n",
       " 0.9972533571424972,\n",
       " 0.9971354059644653,\n",
       " 0.9971749241040817,\n",
       " 0.9989786821018937]"
      ]
     },
     "execution_count": 41,
     "metadata": {},
     "output_type": "execute_result"
    }
   ],
   "source": [
    "true_postive_rate_lst"
   ]
  },
  {
   "cell_type": "code",
   "execution_count": 42,
   "metadata": {},
   "outputs": [
    {
     "data": {
      "text/plain": [
       "[0.915060165099057,\n",
       " 0.9025062327011489,\n",
       " 0.9084500197023748,\n",
       " 0.9110678469984215,\n",
       " 0.9209963401451376,\n",
       " 0.9270559005919604,\n",
       " 0.9209123347984453,\n",
       " 0.9265720731486933,\n",
       " 0.9283766376263927,\n",
       " 0.9283273237039775,\n",
       " 0.928391394312579,\n",
       " 0.93044234189818,\n",
       " 0.9319820467434257,\n",
       " 0.9318768576951735,\n",
       " 0.9295444594752268,\n",
       " 0.9324280968179166,\n",
       " 0.933428698074535,\n",
       " 0.9336237924948914,\n",
       " 0.9325516543048536,\n",
       " 0.9763126702017602]"
      ]
     },
     "execution_count": 42,
     "metadata": {},
     "output_type": "execute_result"
    }
   ],
   "source": [
    "true_negative_rate_lst"
   ]
  },
  {
   "cell_type": "markdown",
   "metadata": {},
   "source": [
    "# Compute Accuracy"
   ]
  },
  {
   "cell_type": "code",
   "execution_count": 13,
   "metadata": {},
   "outputs": [],
   "source": [
    "#Old acc list without removing invalid pixel\n",
    "# acc_lower_bound_lst = []\n",
    "# for up_img in img_load:\n",
    "#     new_up_img = src_mask_img_arr*up_img\n",
    "#     acc_lower_bound_lst.append((output_img_o.flatten()==new_up_img.flatten()).mean()*96.26)"
   ]
  },
  {
   "cell_type": "code",
   "execution_count": 56,
   "metadata": {},
   "outputs": [
    {
     "data": {
      "text/plain": [
       "0.9885611532910159"
      ]
     },
     "execution_count": 56,
     "metadata": {},
     "output_type": "execute_result"
    }
   ],
   "source": [
    "(img_load[-1].flatten()[valid_idx_new] == new_o.flatten()[valid_idx_new]).mean()"
   ]
  },
  {
   "cell_type": "code",
   "execution_count": 85,
   "metadata": {},
   "outputs": [],
   "source": [
    "new_acc_lower_bound_lst = []\n",
    "for up_img in img_load:\n",
    "    new_up_img = src_mask_img_arr*up_img\n",
    "    new_acc_lower_bound_lst.append((new_o[valid_idx_new]==new_up_img.flatten()[valid_idx_new]).mean())#*96.26)"
   ]
  },
  {
   "cell_type": "code",
   "execution_count": 86,
   "metadata": {},
   "outputs": [
    {
     "data": {
      "text/plain": [
       "[0.91185693913214,\n",
       " 0.9161857114684008,\n",
       " 0.9196952818704335,\n",
       " 0.9212390342542189,\n",
       " 0.9237594299854668,\n",
       " 0.9266356353119065,\n",
       " 0.9263619458780626,\n",
       " 0.9276943988207169,\n",
       " 0.9288108864039815,\n",
       " 0.9290867088290292,\n",
       " 0.9289952568311641,\n",
       " 0.9302253261960337,\n",
       " 0.9304690204410734,\n",
       " 0.9307120481263619,\n",
       " 0.9308693562276458,\n",
       " 0.9309605416016102,\n",
       " 0.932297127214722,\n",
       " 0.931746282236328,\n",
       " 0.9316833589958146,\n",
       " 0.9515889661579319]"
      ]
     },
     "execution_count": 86,
     "metadata": {},
     "output_type": "execute_result"
    }
   ],
   "source": [
    "new_acc_lower_bound_lst = (np.array(new_acc_lower_bound_lst)*0.9626).tolist()\n",
    "new_acc_lower_bound_lst"
   ]
  },
  {
   "cell_type": "code",
   "execution_count": 78,
   "metadata": {},
   "outputs": [],
   "source": [
    "#Old acc list without removing invalid pixel\n",
    "# mini_acc_lower_bound_lst = []\n",
    "# for up_img in mini_img_lst:\n",
    "#     new_up_img = src_mask_img_arr*up_img\n",
    "#     mini_acc_lower_bound_lst.append((output_img_o.flatten()==new_up_img.flatten()).mean()*96.26)"
   ]
  },
  {
   "cell_type": "code",
   "execution_count": 67,
   "metadata": {},
   "outputs": [],
   "source": [
    "new_mini_acc_lower_bound_lst = []\n",
    "for up_img in mini_img_load:\n",
    "    new_up_img = src_mask_img_arr*up_img\n",
    "    new_mini_acc_lower_bound_lst.append((new_o[valid_idx_new]==new_up_img.flatten()[valid_idx_new]).mean())#*96.26)"
   ]
  },
  {
   "cell_type": "code",
   "execution_count": 46,
   "metadata": {},
   "outputs": [],
   "source": [
    "#mini_acc_lower_bound_lst = (np.array(mini_acc_lower_bound_lst)*0.01).tolist()"
   ]
  },
  {
   "cell_type": "code",
   "execution_count": 68,
   "metadata": {},
   "outputs": [],
   "source": [
    "new_mini_acc_lower_bound_lst = (np.array(new_mini_acc_lower_bound_lst)*0.9626).tolist()"
   ]
  },
  {
   "cell_type": "code",
   "execution_count": null,
   "metadata": {},
   "outputs": [],
   "source": []
  },
  {
   "cell_type": "code",
   "execution_count": 69,
   "metadata": {},
   "outputs": [
    {
     "data": {
      "text/plain": [
       "[0.8236842819310927,\n",
       " 0.843534964569711,\n",
       " 0.869205780331931,\n",
       " 0.8818417535354812,\n",
       " 0.8904626374216865,\n",
       " 0.8974911100622686,\n",
       " 0.9042266963481721,\n",
       " 0.9077666618748597,\n",
       " 0.9101933393050882]"
      ]
     },
     "execution_count": 69,
     "metadata": {},
     "output_type": "execute_result"
    }
   ],
   "source": [
    "new_mini_acc_lower_bound_lst"
   ]
  },
  {
   "cell_type": "code",
   "execution_count": 40,
   "metadata": {},
   "outputs": [
    {
     "data": {
      "text/plain": [
       "[95.40195243228017,\n",
       " 95.47595843622366,\n",
       " 95.53504484061781,\n",
       " 95.55975041406508,\n",
       " 95.60321902774518,\n",
       " 95.65213534012489,\n",
       " 95.64675542697526,\n",
       " 95.6697550640815,\n",
       " 95.68787866062627,\n",
       " 95.69376922491902,\n",
       " 95.69021726210038,\n",
       " 95.71182955495048,\n",
       " 95.71699933289517,\n",
       " 95.7196949382658,\n",
       " 95.7230616205812,\n",
       " 95.72361294305432,\n",
       " 95.74684079151214,\n",
       " 95.73730110511244,\n",
       " 95.7373191812591,\n",
       " 96.07230633115816]"
      ]
     },
     "execution_count": 40,
     "metadata": {},
     "output_type": "execute_result"
    }
   ],
   "source": [
    "# old acc_lower_bound_lst "
   ]
  },
  {
   "cell_type": "markdown",
   "metadata": {},
   "source": [
    "# Compute F1 score"
   ]
  },
  {
   "cell_type": "code",
   "execution_count": 15,
   "metadata": {},
   "outputs": [],
   "source": [
    "from sklearn.metrics import f1_score"
   ]
  },
  {
   "cell_type": "code",
   "execution_count": 44,
   "metadata": {},
   "outputs": [
    {
     "name": "stderr",
     "output_type": "stream",
     "text": [
      "100%|███████████████████████████████████████████| 20/20 [07:19<00:00, 21.98s/it]\n"
     ]
    }
   ],
   "source": [
    "f1_lst = []\n",
    "for up_img in tqdm(img_lst):\n",
    "    new_up_img = src_mask_img_arr*up_img\n",
    "    f1_lst.append(f1_score(output_img_o.flatten(), new_up_img.flatten()))"
   ]
  },
  {
   "cell_type": "code",
   "execution_count": 45,
   "metadata": {},
   "outputs": [
    {
     "data": {
      "text/plain": [
       "[0.8865121650036638,\n",
       " 0.8990417557095328,\n",
       " 0.9068488163358687,\n",
       " 0.9101053490785037,\n",
       " 0.9152396968174463,\n",
       " 0.9215775898658134,\n",
       " 0.9213975683508534,\n",
       " 0.9240994976305246,\n",
       " 0.9264844861230594,\n",
       " 0.9272965592952641,\n",
       " 0.926818028007478,\n",
       " 0.9296454301356689,\n",
       " 0.9302275616765918,\n",
       " 0.9306248705330642,\n",
       " 0.9312708276573358,\n",
       " 0.9311271827568159,\n",
       " 0.9342545207796937,\n",
       " 0.9329246935201402,\n",
       " 0.9329993593167281,\n",
       " 0.9759272310809621]"
      ]
     },
     "execution_count": 45,
     "metadata": {},
     "output_type": "execute_result"
    }
   ],
   "source": [
    "f1_lst"
   ]
  },
  {
   "cell_type": "code",
   "execution_count": 49,
   "metadata": {},
   "outputs": [
    {
     "data": {
      "text/plain": [
       "array([0.02      , 0.12888889, 0.23777778, 0.34666667, 0.45555556,\n",
       "       0.56444444, 0.67333333, 0.78222222, 0.89111111, 1.        ])"
      ]
     },
     "execution_count": 49,
     "metadata": {},
     "output_type": "execute_result"
    }
   ],
   "source": [
    "nmimg_height_lst_2 = np.linspace(3525/ 50, 3525, num = 10)\n",
    "scale_percent_lst_2 = nmimg_height_lst_2/3525\n",
    "scale_percent_lst_2"
   ]
  },
  {
   "cell_type": "code",
   "execution_count": null,
   "metadata": {},
   "outputs": [
    {
     "name": "stderr",
     "output_type": "stream",
     "text": [
      " 80%|███████████████████████████████████▏        | 8/10 [03:33<01:36, 48.18s/it]"
     ]
    }
   ],
   "source": [
    "img_lst_2 = []\n",
    "for p in tqdm(scale_percent_lst_2):\n",
    "    img_lst.append(downsample_method(p))"
   ]
  },
  {
   "cell_type": "code",
   "execution_count": null,
   "metadata": {},
   "outputs": [],
   "source": [
    "f1_lst_2 = []\n",
    "for up_img in tqdm(img_lst_2):\n",
    "    new_up_img = src_mask_img_arr*up_img\n",
    "    f1_lst_2.append(f1_score(output_img_o.flatten(), new_up_img.flatten()))"
   ]
  },
  {
   "cell_type": "code",
   "execution_count": 71,
   "metadata": {},
   "outputs": [],
   "source": [
    "new_scale_percent_lst = [0.02, 0.03, 0.2 , 0.36842105,0.41052632, 0.49473684, 0.5368421052631579, 0.6631578947368421, 0.8736842105263158, 1]"
   ]
  },
  {
   "cell_type": "code",
   "execution_count": 73,
   "metadata": {},
   "outputs": [],
   "source": [
    "new_acc_lst = [93.79841520257266, 94.19762916107226, 95.38464452185343, 95.58208575278157,\n",
    " 95.62786133467912,95.65827671095255,\n",
    " 95.66526992019155,95.69798322660908,95.72664069761984,96.074493544904]"
   ]
  },
  {
   "cell_type": "code",
   "execution_count": 75,
   "metadata": {},
   "outputs": [],
   "source": [
    "new_df = pd.DataFrame()"
   ]
  },
  {
   "cell_type": "code",
   "execution_count": 44,
   "metadata": {},
   "outputs": [],
   "source": [
    "acc_lower_bound_lst = [95.40195243228017,\n",
    " 95.47595843622366,\n",
    " 95.53504484061781,\n",
    " 95.55975041406508,\n",
    " 95.60321902774518,\n",
    " 95.65213534012489,\n",
    " 95.64675542697526,\n",
    " 95.6697550640815,\n",
    " 95.68787866062627,\n",
    " 95.69376922491902,\n",
    " 95.69021726210038,\n",
    " 95.71182955495048,\n",
    " 95.71699933289517,\n",
    " 95.7196949382658,\n",
    " 95.7230616205812,\n",
    " 95.72361294305432,\n",
    " 95.74684079151214,\n",
    " 95.73730110511244,\n",
    " 95.7373191812591,\n",
    " 96.07230633115816]"
   ]
  },
  {
   "cell_type": "code",
   "execution_count": 53,
   "metadata": {},
   "outputs": [],
   "source": [
    "f1_lst = [0.8865121650036638,\n",
    " 0.8990417557095328,\n",
    " 0.9068488163358687,\n",
    " 0.9101053490785037,\n",
    " 0.9152396968174463,\n",
    " 0.9215775898658134,\n",
    " 0.9213975683508534,\n",
    " 0.9240994976305246,\n",
    " 0.9264844861230594,\n",
    " 0.9272965592952641,\n",
    " 0.926818028007478,\n",
    " 0.9296454301356689,\n",
    " 0.9302275616765918,\n",
    " 0.9306248705330642,\n",
    " 0.9312708276573358,\n",
    " 0.9311271827568159,\n",
    " 0.9342545207796937,\n",
    " 0.9329246935201402,\n",
    " 0.9329993593167281,\n",
    " 0.9759272310809621]"
   ]
  },
  {
   "cell_type": "code",
   "execution_count": 72,
   "metadata": {},
   "outputs": [
    {
     "data": {
      "text/plain": [
       "array([0.2       , 0.24210526, 0.28421053, 0.32631579, 0.36842105,\n",
       "       0.41052632, 0.45263158, 0.49473684, 0.53684211, 0.57894737,\n",
       "       0.62105263, 0.66315789, 0.70526316, 0.74736842, 0.78947368,\n",
       "       0.83157895, 0.87368421, 0.91578947, 0.95789474, 1.        ])"
      ]
     },
     "execution_count": 72,
     "metadata": {},
     "output_type": "execute_result"
    }
   ],
   "source": [
    "scale_percent_lst"
   ]
  },
  {
   "cell_type": "markdown",
   "metadata": {},
   "source": [
    "# Plot\n",
    "## ⚠️⚠️⚠️ please do not rerun this portion since some of the variables have changed, feel free to create new plots with new blocks"
   ]
  },
  {
   "cell_type": "code",
   "execution_count": 83,
   "metadata": {},
   "outputs": [
    {
     "data": {
      "text/plain": [
       "Text(0, 0.5, 'Accuracy')"
      ]
     },
     "execution_count": 83,
     "metadata": {},
     "output_type": "execute_result"
    },
    {
     "data": {
      "image/png": "[encoded data removed]",
      "text/plain": [
       "<Figure size 432x288 with 1 Axes>"
      ]
     },
     "metadata": {
      "needs_background": "light"
     },
     "output_type": "display_data"
    }
   ],
   "source": [
    "#acc plot not removing invalid pixel\n",
    "new_df = pd.DataFrame()\n",
    "new_df['accuracy lower bound'] = mini_acc_lower_bound_lst+acc_lower_bound_lst[:-1]\n",
    "new_df['Lower resolution ratio'] = mini_scale_percent_lst.tolist()+(scale_percent_lst[:-1]).tolist()\n",
    "new_df = new_df.set_index('Lower resolution ratio')\n",
    "new_df.plot(kind='line')\n",
    "plt.ylabel(\"Accuracy\")\n",
    "#plt.axvline(0.2, color='green', linestyle='dashed')\n",
    "#plt.text(0.22, 0.955, 'ratio = 0.2', fontsize=8);"
   ]
  },
  {
   "cell_type": "code",
   "execution_count": 89,
   "metadata": {},
   "outputs": [
    {
     "data": {
      "text/plain": [
       "Text(0, 0.5, 'Accuracy')"
      ]
     },
     "execution_count": 89,
     "metadata": {},
     "output_type": "execute_result"
    },
    {
     "data": {
      "image/png": "[encoded data removed]",
      "text/plain": [
       "<Figure size 432x288 with 1 Axes>"
      ]
     },
     "metadata": {
      "needs_background": "light"
     },
     "output_type": "display_data"
    }
   ],
   "source": [
    "# acc plot after removing invalid pixel\n",
    "new_df = pd.DataFrame()\n",
    "new_df['new accuracy lower bound'] = new_mini_acc_lower_bound_lst+new_acc_lower_bound_lst[:-1]\n",
    "new_df['Lower resolution ratio'] = mini_scale_percent_lst.tolist()+(scale_percent_lst[:-1]).tolist()\n",
    "new_df = new_df.set_index('Lower resolution ratio')\n",
    "new_df.plot(kind='line')\n",
    "plt.ylabel(\"Accuracy\")"
   ]
  },
  {
   "cell_type": "code",
   "execution_count": 65,
   "metadata": {},
   "outputs": [],
   "source": [
    "acc_lower_bound_lst = (np.array(acc_lower_bound_lst)*0.01).tolist()"
   ]
  },
  {
   "cell_type": "code",
   "execution_count": 68,
   "metadata": {},
   "outputs": [
    {
     "data": {
      "text/plain": [
       "Text(0, 0.5, 'percentage')"
      ]
     },
     "execution_count": 68,
     "metadata": {},
     "output_type": "execute_result"
    },
    {
     "data": {
      "image/png": "[encoded data removed]",
      "text/plain": [
       "<Figure size 432x288 with 1 Axes>"
      ]
     },
     "metadata": {
      "needs_background": "light"
     },
     "output_type": "display_data"
    }
   ],
   "source": [
    "new_df = pd.DataFrame()\n",
    "#new_df['accuracy lower bound'] = acc_lower_bound_lst[:-1]\n",
    "new_df['f1-score upper bound'] = f1_lst[:-1]\n",
    "new_df['true positive rate upper bound'] = true_postive_rate_lst[: -1]\n",
    "new_df['true negative rate upper bound'] = true_negative_rate_lst[:-1]\n",
    "new_df['Lower resolution ratio'] = scale_percent_lst[:-1]\n",
    "new_df = new_df.set_index('Lower resolution ratio')\n",
    "new_df.plot(kind='line')\n",
    "plt.ylabel(\"percentage\")\n",
    "#plt.axvline(0.2, color='green', linestyle='dashed')\n",
    "#plt.text(0.22, 0.955, 'ratio = 0.2', fontsize=8);"
   ]
  },
  {
   "cell_type": "code",
   "execution_count": 59,
   "metadata": {},
   "outputs": [
    {
     "data": {
      "text/plain": [
       "[95.40195243228017,\n",
       " 95.47595843622366,\n",
       " 95.53504484061781,\n",
       " 95.55975041406508,\n",
       " 95.60321902774518,\n",
       " 95.65213534012489,\n",
       " 95.64675542697526,\n",
       " 95.6697550640815,\n",
       " 95.68787866062627,\n",
       " 95.69376922491902,\n",
       " 95.69021726210038,\n",
       " 95.71182955495048,\n",
       " 95.71699933289517,\n",
       " 95.7196949382658,\n",
       " 95.7230616205812,\n",
       " 95.72361294305432,\n",
       " 95.74684079151214,\n",
       " 95.73730110511244,\n",
       " 95.7373191812591,\n",
       " 96.07230633115816]"
      ]
     },
     "execution_count": 59,
     "metadata": {},
     "output_type": "execute_result"
    }
   ],
   "source": [
    "acc_lower_bound_lst"
   ]
  },
  {
   "cell_type": "code",
   "execution_count": 58,
   "metadata": {},
   "outputs": [
    {
     "data": {
      "text/plain": [
       "[0.8865121650036638,\n",
       " 0.8990417557095328,\n",
       " 0.9068488163358687,\n",
       " 0.9101053490785037,\n",
       " 0.9152396968174463,\n",
       " 0.9215775898658134,\n",
       " 0.9213975683508534,\n",
       " 0.9240994976305246,\n",
       " 0.9264844861230594,\n",
       " 0.9272965592952641,\n",
       " 0.926818028007478,\n",
       " 0.9296454301356689,\n",
       " 0.9302275616765918,\n",
       " 0.9306248705330642,\n",
       " 0.9312708276573358,\n",
       " 0.9311271827568159,\n",
       " 0.9342545207796937,\n",
       " 0.9329246935201402,\n",
       " 0.9329993593167281,\n",
       " 0.9759272310809621]"
      ]
     },
     "execution_count": 58,
     "metadata": {},
     "output_type": "execute_result"
    }
   ],
   "source": [
    "f1_lst"
   ]
  },
  {
   "cell_type": "code",
   "execution_count": 57,
   "metadata": {},
   "outputs": [
    {
     "data": {
      "text/plain": [
       "[0.915060165099057,\n",
       " 0.9025062327011489,\n",
       " 0.9084500197023748,\n",
       " 0.9110678469984215,\n",
       " 0.9209963401451376,\n",
       " 0.9270559005919604,\n",
       " 0.9209123347984453,\n",
       " 0.9265720731486933,\n",
       " 0.9283766376263927,\n",
       " 0.9283273237039775,\n",
       " 0.928391394312579,\n",
       " 0.93044234189818,\n",
       " 0.9319820467434257,\n",
       " 0.9318768576951735,\n",
       " 0.9295444594752268,\n",
       " 0.9324280968179166,\n",
       " 0.933428698074535,\n",
       " 0.9336237924948914,\n",
       " 0.9325516543048536,\n",
       " 0.9763126702017602]"
      ]
     },
     "execution_count": 57,
     "metadata": {},
     "output_type": "execute_result"
    }
   ],
   "source": [
    "true_negative_rate_lst"
   ]
  },
  {
   "cell_type": "code",
   "execution_count": 56,
   "metadata": {},
   "outputs": [
    {
     "data": {
      "text/plain": [
       "[0.9940695606699155,\n",
       " 0.9955644072150862,\n",
       " 0.9959752404446999,\n",
       " 0.9961550155012908,\n",
       " 0.9961661096879143,\n",
       " 0.9964431610947005,\n",
       " 0.9966905275562217,\n",
       " 0.9966767832680593,\n",
       " 0.9968101734366228,\n",
       " 0.9968672327199529,\n",
       " 0.9968459843660192,\n",
       " 0.9969895274606548,\n",
       " 0.9969629915950214,\n",
       " 0.997016030789903,\n",
       " 0.9971607804096907,\n",
       " 0.997038366407958,\n",
       " 0.9972533571424972,\n",
       " 0.9971354059644653,\n",
       " 0.9971749241040817,\n",
       " 0.9989786821018937]"
      ]
     },
     "execution_count": 56,
     "metadata": {},
     "output_type": "execute_result"
    }
   ],
   "source": [
    "true_postive_rate_lst"
   ]
  },
  {
   "cell_type": "markdown",
   "metadata": {},
   "source": [
    "# Draft"
   ]
  },
  {
   "cell_type": "code",
   "execution_count": 32,
   "metadata": {},
   "outputs": [
    {
     "data": {
      "text/plain": [
       "(3101, 4213)"
      ]
     },
     "execution_count": 32,
     "metadata": {},
     "output_type": "execute_result"
    }
   ],
   "source": [
    "m_idx.shape"
   ]
  },
  {
   "cell_type": "code",
   "execution_count": null,
   "metadata": {},
   "outputs": [],
   "source": []
  },
  {
   "cell_type": "code",
   "execution_count": 33,
   "metadata": {},
   "outputs": [
    {
     "data": {
      "text/plain": [
       "(3525, 7528)"
      ]
     },
     "execution_count": 33,
     "metadata": {},
     "output_type": "execute_result"
    }
   ],
   "source": [
    "nm_idx.shape"
   ]
  },
  {
   "cell_type": "code",
   "execution_count": null,
   "metadata": {},
   "outputs": [],
   "source": []
  },
  {
   "cell_type": "code",
   "execution_count": 34,
   "metadata": {},
   "outputs": [
    {
     "data": {
      "text/plain": [
       "(5012, 8500)"
      ]
     },
     "execution_count": 34,
     "metadata": {},
     "output_type": "execute_result"
    }
   ],
   "source": [
    "up_img.shape"
   ]
  },
  {
   "cell_type": "code",
   "execution_count": 17,
   "metadata": {},
   "outputs": [
    {
     "data": {
      "image/png": "[encoded data removed]",
      "text/plain": [
       "<Figure size 432x288 with 1 Axes>"
      ]
     },
     "metadata": {
      "needs_background": "light"
     },
     "output_type": "display_data"
    },
    {
     "data": {
      "text/plain": [
       "<AxesSubplot:>"
      ]
     },
     "execution_count": 17,
     "metadata": {},
     "output_type": "execute_result"
    }
   ],
   "source": [
    "show(up_img)"
   ]
  },
  {
   "cell_type": "code",
   "execution_count": 37,
   "metadata": {},
   "outputs": [
    {
     "data": {
      "image/png": "[encoded data removed]",
      "text/plain": [
       "<Figure size 432x288 with 1 Axes>"
      ]
     },
     "metadata": {
      "needs_background": "light"
     },
     "output_type": "display_data"
    },
    {
     "data": {
      "text/plain": [
       "<AxesSubplot:>"
      ]
     },
     "execution_count": 37,
     "metadata": {},
     "output_type": "execute_result"
    }
   ],
   "source": [
    "show(src.read()[0])"
   ]
  },
  {
   "cell_type": "code",
   "execution_count": null,
   "metadata": {},
   "outputs": [],
   "source": []
  },
  {
   "cell_type": "code",
   "execution_count": 19,
   "metadata": {},
   "outputs": [
    {
     "data": {
      "text/plain": [
       "array([[0., 0., 0., ..., 0., 0., 0.],\n",
       "       [0., 0., 0., ..., 0., 0., 0.],\n",
       "       [0., 0., 0., ..., 0., 0., 0.],\n",
       "       ...,\n",
       "       [0., 0., 0., ..., 0., 0., 0.],\n",
       "       [0., 0., 0., ..., 0., 0., 0.],\n",
       "       [0., 0., 0., ..., 0., 0., 0.]])"
      ]
     },
     "execution_count": 19,
     "metadata": {},
     "output_type": "execute_result"
    }
   ],
   "source": [
    "up_img"
   ]
  },
  {
   "cell_type": "code",
   "execution_count": null,
   "metadata": {},
   "outputs": [],
   "source": []
  },
  {
   "cell_type": "code",
   "execution_count": null,
   "metadata": {},
   "outputs": [],
   "source": [
    "new_y = np.concatenate((np.zeros((new_m_pix.shape[0]))+1, np.zeros((new_nm_pix.shape[0]))))"
   ]
  },
  {
   "cell_type": "code",
   "execution_count": 18,
   "metadata": {},
   "outputs": [
    {
     "data": {
      "text/plain": [
       "(5012, 8500)"
      ]
     },
     "execution_count": 18,
     "metadata": {},
     "output_type": "execute_result"
    }
   ],
   "source": [
    "up_img.shape"
   ]
  },
  {
   "cell_type": "markdown",
   "metadata": {},
   "source": [
    "5. Create a training and test set using the upsampled data and the original data using the original sample seed. The y_test from this should become your y_pred.\n",
    "6. Compare the y_test from 1 and the y_pred from 5"
   ]
  },
  {
   "cell_type": "code",
   "execution_count": null,
   "metadata": {},
   "outputs": [],
   "source": [
    "#reverse ?\n",
    "new_x2 = np.concatenate((new_x_train, new_x_test), axis = 0)\n",
    "new_x2\n",
    "new_y2 = np.concatenate((new_y_train, y_pred), axis = 0)\n",
    "new_y2"
   ]
  },
  {
   "cell_type": "code",
   "execution_count": 15,
   "metadata": {},
   "outputs": [],
   "source": [
    "y_test_pred = new_clf.predict(new_x_test)"
   ]
  },
  {
   "cell_type": "code",
   "execution_count": 16,
   "metadata": {},
   "outputs": [
    {
     "data": {
      "text/plain": [
       "(207,)"
      ]
     },
     "execution_count": 16,
     "metadata": {},
     "output_type": "execute_result"
    }
   ],
   "source": [
    "y_test_pred.shape"
   ]
  },
  {
   "cell_type": "code",
   "execution_count": 205,
   "metadata": {},
   "outputs": [],
   "source": [
    "# ori_img1 = ori_img[:,:,0]\n",
    "# ori_img1 = ori_img1.reshape(ori_img1.shape[0], ori_img1.shape[1], 1)\n",
    "# up_img = mask_upsampling(ori_img1, output_img)\n",
    "# #up_img = up_img.reshape(up_img.shape[1], up_img.shape[2], 1)\n",
    "# new_acc = (y_pred==y_test).mean()\n",
    "# new_mmask = mask_upsampling(mmask, new_mmask)\n",
    "# new_nmmask = mask_upsampling(nmmask, new_nmmask)\n",
    "# new_m_image = image_upsampling(m_image, new_m_image)\n",
    "# new_nm_image = image_upsampling(nm_image, new_nm_image)"
   ]
  },
  {
   "cell_type": "code",
   "execution_count": 197,
   "metadata": {},
   "outputs": [
    {
     "data": {
      "text/plain": [
       "array([[0., 0., 0., ..., 0., 0., 0.],\n",
       "       [0., 0., 0., ..., 0., 0., 0.],\n",
       "       [0., 0., 0., ..., 0., 0., 0.],\n",
       "       ...,\n",
       "       [0., 0., 0., ..., 0., 0., 0.],\n",
       "       [0., 0., 0., ..., 0., 0., 0.],\n",
       "       [0., 0., 0., ..., 0., 0., 0.]])"
      ]
     },
     "execution_count": 197,
     "metadata": {},
     "output_type": "execute_result"
    }
   ],
   "source": [
    "up_img"
   ]
  },
  {
   "cell_type": "code",
   "execution_count": 195,
   "metadata": {},
   "outputs": [],
   "source": [
    "#from CSE 152a\n",
    "def createSplit(imgList, ratio):\n",
    "    random.shuffle(imgList)\n",
    "    trainList = imgList[:round(len(imgList)*ratio)]\n",
    "    testList = imgList[round(len(imgList)*ratio):]\n",
    "    return trainList, testList"
   ]
  },
  {
   "cell_type": "code",
   "execution_count": 190,
   "metadata": {},
   "outputs": [
    {
     "data": {
      "text/plain": [
       "(5012, 8500)"
      ]
     },
     "execution_count": 190,
     "metadata": {},
     "output_type": "execute_result"
    }
   ],
   "source": [
    "ori_img1.shape"
   ]
  },
  {
   "cell_type": "code",
   "execution_count": 191,
   "metadata": {},
   "outputs": [],
   "source": [
    "# width_out = 8500\n",
    "# height_out = 5012\n",
    "# dim_out = (width_out, height_out)\n",
    "# resized = cv2.resize(output_img[:,:,0], dim_out, interpolation = cv2.INTER_NEAREST)"
   ]
  },
  {
   "cell_type": "code",
   "execution_count": 192,
   "metadata": {},
   "outputs": [],
   "source": [
    "#ori_img1[:,:,0].shape"
   ]
  },
  {
   "cell_type": "code",
   "execution_count": 194,
   "metadata": {},
   "outputs": [
    {
     "data": {
      "image/png": "[encoded data removed]",
      "text/plain": [
       "<Figure size 432x288 with 1 Axes>"
      ]
     },
     "metadata": {
      "needs_background": "light"
     },
     "output_type": "display_data"
    }
   ],
   "source": [
    "show(up_img);"
   ]
  },
  {
   "cell_type": "code",
   "execution_count": 144,
   "metadata": {},
   "outputs": [
    {
     "data": {
      "text/plain": [
       "(100, 170, 1)"
      ]
     },
     "execution_count": 144,
     "metadata": {},
     "output_type": "execute_result"
    }
   ],
   "source": [
    "output_img.shape"
   ]
  },
  {
   "cell_type": "code",
   "execution_count": 149,
   "metadata": {},
   "outputs": [
    {
     "data": {
      "text/plain": [
       "(100, 170)"
      ]
     },
     "execution_count": 149,
     "metadata": {},
     "output_type": "execute_result"
    }
   ],
   "source": [
    "output_img[:,:,0].shape"
   ]
  },
  {
   "cell_type": "code",
   "execution_count": 145,
   "metadata": {},
   "outputs": [
    {
     "data": {
      "text/plain": [
       "(5012, 8500, 1)"
      ]
     },
     "execution_count": 145,
     "metadata": {},
     "output_type": "execute_result"
    }
   ],
   "source": [
    "ori_img1 = ori_img[:,:,0]\n",
    "ori_img1 = ori_img1.reshape(ori_img1.shape[0], ori_img1.shape[1], 1)\n",
    "ori_img1.shape"
   ]
  },
  {
   "cell_type": "code",
   "execution_count": 116,
   "metadata": {},
   "outputs": [
    {
     "data": {
      "text/plain": [
       "(5012, 8500, 1)"
      ]
     },
     "execution_count": 116,
     "metadata": {},
     "output_type": "execute_result"
    }
   ],
   "source": [
    "up_img.shape"
   ]
  },
  {
   "cell_type": "code",
   "execution_count": 15,
   "metadata": {},
   "outputs": [
    {
     "data": {
      "text/plain": [
       "array([0., 0., 0., ..., 0., 0., 0.])"
      ]
     },
     "execution_count": 15,
     "metadata": {},
     "output_type": "execute_result"
    }
   ],
   "source": [
    "new_x2 = np.concatenate((new_x_train, new_x_test), axis = 0)\n",
    "new_x2\n",
    "new_y2 = np.concatenate((new_y_train, y_pred), axis = 0)\n",
    "new_y2\n"
   ]
  },
  {
   "cell_type": "code",
   "execution_count": 21,
   "metadata": {},
   "outputs": [
    {
     "data": {
      "text/plain": [
       "(207,)"
      ]
     },
     "execution_count": 21,
     "metadata": {},
     "output_type": "execute_result"
    }
   ],
   "source": [
    "y_pred.shape"
   ]
  },
  {
   "cell_type": "code",
   "execution_count": 25,
   "metadata": {},
   "outputs": [
    {
     "data": {
      "text/plain": [
       "(9, 62, 84)"
      ]
     },
     "execution_count": 25,
     "metadata": {},
     "output_type": "execute_result"
    }
   ],
   "source": [
    "new_m_image.shape"
   ]
  },
  {
   "cell_type": "code",
   "execution_count": 26,
   "metadata": {},
   "outputs": [
    {
     "data": {
      "text/plain": [
       "(9, 70, 150)"
      ]
     },
     "execution_count": 26,
     "metadata": {},
     "output_type": "execute_result"
    }
   ],
   "source": [
    "new_nm_image.shape"
   ]
  },
  {
   "cell_type": "code",
   "execution_count": null,
   "metadata": {},
   "outputs": [],
   "source": [
    "y_pred_new = y_pred.reshape(img.shape[0], img.shape[1], 1)\n",
    "show(y_pred_new)"
   ]
  },
  {
   "cell_type": "code",
   "execution_count": 20,
   "metadata": {},
   "outputs": [
    {
     "data": {
      "text/plain": [
       "(1033, 9)"
      ]
     },
     "execution_count": 20,
     "metadata": {},
     "output_type": "execute_result"
    }
   ],
   "source": [
    "new_x2.shape"
   ]
  },
  {
   "cell_type": "code",
   "execution_count": 16,
   "metadata": {},
   "outputs": [
    {
     "data": {
      "text/plain": [
       "(1033,)"
      ]
     },
     "execution_count": 16,
     "metadata": {},
     "output_type": "execute_result"
    }
   ],
   "source": [
    "new_y2.shape"
   ]
  },
  {
   "cell_type": "code",
   "execution_count": 17,
   "metadata": {},
   "outputs": [
    {
     "data": {
      "text/plain": [
       "0.15779283639883834"
      ]
     },
     "execution_count": 17,
     "metadata": {},
     "output_type": "execute_result"
    }
   ],
   "source": [
    "new_y2.mean()"
   ]
  },
  {
   "cell_type": "code",
   "execution_count": 49,
   "metadata": {},
   "outputs": [
    {
     "data": {
      "text/plain": [
       "0.1670597883674684"
      ]
     },
     "execution_count": 49,
     "metadata": {},
     "output_type": "execute_result"
    }
   ],
   "source": [
    "y_test.mean()"
   ]
  },
  {
   "cell_type": "code",
   "execution_count": 50,
   "metadata": {},
   "outputs": [
    {
     "data": {
      "text/plain": [
       "0.14009661835748793"
      ]
     },
     "execution_count": 50,
     "metadata": {},
     "output_type": "execute_result"
    }
   ],
   "source": [
    "y_pred.mean()"
   ]
  },
  {
   "cell_type": "code",
   "execution_count": 51,
   "metadata": {},
   "outputs": [
    {
     "data": {
      "text/plain": [
       "(1, 62, 84)"
      ]
     },
     "execution_count": 51,
     "metadata": {},
     "output_type": "execute_result"
    }
   ],
   "source": [
    "new_mmask.shape"
   ]
  },
  {
   "cell_type": "code",
   "execution_count": 52,
   "metadata": {},
   "outputs": [
    {
     "data": {
      "text/plain": [
       "(1, 3101, 4213)"
      ]
     },
     "execution_count": 52,
     "metadata": {},
     "output_type": "execute_result"
    }
   ],
   "source": [
    "mmask.shape"
   ]
  },
  {
   "cell_type": "code",
   "execution_count": 53,
   "metadata": {},
   "outputs": [
    {
     "data": {
      "text/plain": [
       "(1, 70, 150)"
      ]
     },
     "execution_count": 53,
     "metadata": {},
     "output_type": "execute_result"
    }
   ],
   "source": [
    "new_nmmask.shape"
   ]
  },
  {
   "cell_type": "code",
   "execution_count": 54,
   "metadata": {},
   "outputs": [
    {
     "data": {
      "text/plain": [
       "(1, 3525, 7528)"
      ]
     },
     "execution_count": 54,
     "metadata": {},
     "output_type": "execute_result"
    }
   ],
   "source": [
    "nmmask.shape"
   ]
  },
  {
   "cell_type": "code",
   "execution_count": 55,
   "metadata": {},
   "outputs": [
    {
     "data": {
      "text/plain": [
       "(9, 62, 84)"
      ]
     },
     "execution_count": 55,
     "metadata": {},
     "output_type": "execute_result"
    }
   ],
   "source": [
    "new_m_image.shape"
   ]
  },
  {
   "cell_type": "code",
   "execution_count": 56,
   "metadata": {},
   "outputs": [
    {
     "data": {
      "text/plain": [
       "(9, 3101, 4213)"
      ]
     },
     "execution_count": 56,
     "metadata": {},
     "output_type": "execute_result"
    }
   ],
   "source": [
    "m_image.shape"
   ]
  },
  {
   "cell_type": "code",
   "execution_count": 57,
   "metadata": {},
   "outputs": [
    {
     "data": {
      "text/plain": [
       "(9, 70, 150)"
      ]
     },
     "execution_count": 57,
     "metadata": {},
     "output_type": "execute_result"
    }
   ],
   "source": [
    "new_nm_image.shape"
   ]
  },
  {
   "cell_type": "code",
   "execution_count": 58,
   "metadata": {},
   "outputs": [
    {
     "data": {
      "text/plain": [
       "(9, 3525, 7528)"
      ]
     },
     "execution_count": 58,
     "metadata": {},
     "output_type": "execute_result"
    }
   ],
   "source": [
    "nm_image.shape"
   ]
  },
  {
   "cell_type": "code",
   "execution_count": 59,
   "metadata": {},
   "outputs": [],
   "source": [
    "new_m_idx = np.squeeze(((reshape_as_image(new_mmask) == 1)), axis=-1) \n",
    "new_nm_idx = np.squeeze((reshape_as_image(new_nmmask) == 1), axis=-1)\n",
    "new_m_pix = reshape_as_image(new_m_image)[new_m_idx]\n",
    "new_nm_pix = reshape_as_image(new_nm_image)[new_nm_idx]\n",
    "new_m_pix = new_m_pix[np.all(new_m_pix != 0, axis=1)]\n",
    "new_nm_pix = new_nm_pix[np.all(new_nm_pix != 0, axis=1)]\n",
    "new_x = np.concatenate((new_m_pix, new_nm_pix), axis = 0)\n",
    "new_y = np.concatenate((np.zeros((new_m_pix.shape[0]))+1, np.zeros((new_nm_pix.shape[0]))))\n",
    "new_x_train2, new_x_test2, new_y_train2, new_y_test2 = train_test_split(new_x, new_y, test_size=0.20, random_state=42)"
   ]
  },
  {
   "cell_type": "code",
   "execution_count": 60,
   "metadata": {},
   "outputs": [
    {
     "data": {
      "text/plain": [
       "(826, 9)"
      ]
     },
     "execution_count": 60,
     "metadata": {},
     "output_type": "execute_result"
    }
   ],
   "source": [
    "new_x_train2.shape"
   ]
  },
  {
   "cell_type": "code",
   "execution_count": 61,
   "metadata": {},
   "outputs": [
    {
     "data": {
      "text/plain": [
       "(2204576, 9)"
      ]
     },
     "execution_count": 61,
     "metadata": {},
     "output_type": "execute_result"
    }
   ],
   "source": [
    "x_train.shape"
   ]
  },
  {
   "cell_type": "code",
   "execution_count": 62,
   "metadata": {},
   "outputs": [],
   "source": [
    "y_pred = new_clf.predict(new_x_test2)"
   ]
  },
  {
   "cell_type": "code",
   "execution_count": 134,
   "metadata": {},
   "outputs": [
    {
     "data": {
      "text/plain": [
       "array([1., 0., 0., ..., 0., 0., 0.])"
      ]
     },
     "execution_count": 134,
     "metadata": {},
     "output_type": "execute_result"
    }
   ],
   "source": [
    "y_pred"
   ]
  },
  {
   "cell_type": "code",
   "execution_count": 135,
   "metadata": {},
   "outputs": [
    {
     "data": {
      "text/plain": [
       "array([0., 0., 0., ..., 0., 0., 0.])"
      ]
     },
     "execution_count": 135,
     "metadata": {},
     "output_type": "execute_result"
    }
   ],
   "source": [
    "y_test"
   ]
  },
  {
   "cell_type": "code",
   "execution_count": 160,
   "metadata": {},
   "outputs": [
    {
     "data": {
      "text/plain": [
       "array([1., 0., 0., ..., 0., 0., 0.])"
      ]
     },
     "execution_count": 160,
     "metadata": {},
     "output_type": "execute_result"
    }
   ],
   "source": [
    "new_y_test2"
   ]
  },
  {
   "cell_type": "code",
   "execution_count": 136,
   "metadata": {},
   "outputs": [
    {
     "data": {
      "text/plain": [
       "(2606903, 9)"
      ]
     },
     "execution_count": 136,
     "metadata": {},
     "output_type": "execute_result"
    }
   ],
   "source": [
    "new_x.shape"
   ]
  },
  {
   "cell_type": "code",
   "execution_count": 137,
   "metadata": {},
   "outputs": [
    {
     "data": {
      "text/plain": [
       "(2755720, 9)"
      ]
     },
     "execution_count": 137,
     "metadata": {},
     "output_type": "execute_result"
    }
   ],
   "source": [
    "x.shape"
   ]
  },
  {
   "cell_type": "code",
   "execution_count": 119,
   "metadata": {},
   "outputs": [
    {
     "data": {
      "text/plain": [
       "521381"
      ]
     },
     "execution_count": 119,
     "metadata": {},
     "output_type": "execute_result"
    }
   ],
   "source": [
    "len(y_pred)"
   ]
  },
  {
   "cell_type": "code",
   "execution_count": 120,
   "metadata": {},
   "outputs": [
    {
     "data": {
      "text/plain": [
       "551144"
      ]
     },
     "execution_count": 120,
     "metadata": {},
     "output_type": "execute_result"
    }
   ],
   "source": [
    "len(y_test)"
   ]
  },
  {
   "cell_type": "code",
   "execution_count": 161,
   "metadata": {},
   "outputs": [
    {
     "data": {
      "text/plain": [
       "521381"
      ]
     },
     "execution_count": 161,
     "metadata": {},
     "output_type": "execute_result"
    }
   ],
   "source": [
    "len(new_y_test2)"
   ]
  },
  {
   "cell_type": "code",
   "execution_count": null,
   "metadata": {},
   "outputs": [],
   "source": []
  },
  {
   "cell_type": "code",
   "execution_count": 63,
   "metadata": {},
   "outputs": [
    {
     "name": "stderr",
     "output_type": "stream",
     "text": [
      "/var/folders/8p/rkfnf83x2xj054q1r8n6xhjm0000gn/T/ipykernel_5225/3343971228.py:1: DeprecationWarning: elementwise comparison failed; this will raise an error in the future.\n",
      "  new_acc = np.array(y_pred==y_test).mean()\n"
     ]
    },
    {
     "data": {
      "text/plain": [
       "0.0"
      ]
     },
     "execution_count": 63,
     "metadata": {},
     "output_type": "execute_result"
    }
   ],
   "source": [
    "new_acc = np.array(y_pred==y_test).mean()\n",
    "new_acc"
   ]
  },
  {
   "cell_type": "code",
   "execution_count": 99,
   "metadata": {},
   "outputs": [
    {
     "data": {
      "image/png": "[encoded data removed]",
      "text/plain": [
       "<Figure size 432x288 with 1 Axes>"
      ]
     },
     "metadata": {
      "needs_background": "light"
     },
     "output_type": "display_data"
    },
    {
     "data": {
      "text/plain": [
       "<AxesSubplot:>"
      ]
     },
     "execution_count": 99,
     "metadata": {},
     "output_type": "execute_result"
    }
   ],
   "source": [
    "show(nmmask)"
   ]
  },
  {
   "cell_type": "code",
   "execution_count": 100,
   "metadata": {},
   "outputs": [
    {
     "data": {
      "image/png": "[encoded data removed]",
      "text/plain": [
       "<Figure size 432x288 with 1 Axes>"
      ]
     },
     "metadata": {
      "needs_background": "light"
     },
     "output_type": "display_data"
    },
    {
     "data": {
      "text/plain": [
       "<AxesSubplot:>"
      ]
     },
     "execution_count": 100,
     "metadata": {},
     "output_type": "execute_result"
    }
   ],
   "source": [
    "show(new_nmmask)"
   ]
  },
  {
   "cell_type": "code",
   "execution_count": 101,
   "metadata": {},
   "outputs": [
    {
     "data": {
      "text/plain": [
       "(1, 3525, 7528)"
      ]
     },
     "execution_count": 101,
     "metadata": {},
     "output_type": "execute_result"
    }
   ],
   "source": [
    "nmmask.shape"
   ]
  },
  {
   "cell_type": "code",
   "execution_count": 102,
   "metadata": {},
   "outputs": [
    {
     "data": {
      "text/plain": [
       "(1, 3525, 7528)"
      ]
     },
     "execution_count": 102,
     "metadata": {},
     "output_type": "execute_result"
    }
   ],
   "source": [
    "new_nmmask.shape"
   ]
  },
  {
   "cell_type": "code",
   "execution_count": 95,
   "metadata": {},
   "outputs": [
    {
     "data": {
      "image/png": "[encoded data removed]",
      "text/plain": [
       "<Figure size 432x288 with 1 Axes>"
      ]
     },
     "metadata": {
      "needs_background": "light"
     },
     "output_type": "display_data"
    },
    {
     "data": {
      "text/plain": [
       "<AxesSubplot:>"
      ]
     },
     "execution_count": 95,
     "metadata": {},
     "output_type": "execute_result"
    }
   ],
   "source": [
    "show(m_image[7])"
   ]
  },
  {
   "cell_type": "code",
   "execution_count": 96,
   "metadata": {},
   "outputs": [
    {
     "data": {
      "image/png": "[encoded data removed]",
      "text/plain": [
       "<Figure size 432x288 with 1 Axes>"
      ]
     },
     "metadata": {
      "needs_background": "light"
     },
     "output_type": "display_data"
    },
    {
     "data": {
      "text/plain": [
       "<AxesSubplot:>"
      ]
     },
     "execution_count": 96,
     "metadata": {},
     "output_type": "execute_result"
    }
   ],
   "source": [
    "show(new_m_image[7])"
   ]
  },
  {
   "cell_type": "code",
   "execution_count": 97,
   "metadata": {},
   "outputs": [
    {
     "data": {
      "text/plain": [
       "(9, 3101, 4213)"
      ]
     },
     "execution_count": 97,
     "metadata": {},
     "output_type": "execute_result"
    }
   ],
   "source": [
    "m_image.shape"
   ]
  },
  {
   "cell_type": "code",
   "execution_count": 98,
   "metadata": {},
   "outputs": [
    {
     "data": {
      "text/plain": [
       "(9, 3101, 4213)"
      ]
     },
     "execution_count": 98,
     "metadata": {},
     "output_type": "execute_result"
    }
   ],
   "source": [
    "new_m_image.shape"
   ]
  },
  {
   "cell_type": "markdown",
   "metadata": {},
   "source": [
    "# Downsampling"
   ]
  },
  {
   "cell_type": "code",
   "execution_count": 4,
   "metadata": {},
   "outputs": [],
   "source": [
    "#openCV resize\n",
    "#https://www.tutorialkart.com/opencv/python/opencv-python-resize-image/"
   ]
  },
  {
   "cell_type": "code",
   "execution_count": 5,
   "metadata": {},
   "outputs": [],
   "source": [
    "from scipy import ndimage\n",
    "import matplotlib.pyplot as plt"
   ]
  },
  {
   "cell_type": "code",
   "execution_count": 32,
   "metadata": {},
   "outputs": [
    {
     "data": {
      "text/plain": [
       "array([[1., 0., 0., ..., 0., 0., 0.],\n",
       "       [0., 1., 0., ..., 0., 0., 0.],\n",
       "       [0., 0., 1., ..., 0., 0., 0.],\n",
       "       ...,\n",
       "       [0., 0., 0., ..., 1., 0., 0.],\n",
       "       [0., 0., 0., ..., 0., 1., 0.],\n",
       "       [0., 0., 0., ..., 0., 0., 1.]])"
      ]
     },
     "execution_count": 32,
     "metadata": {},
     "output_type": "execute_result"
    }
   ],
   "source": [
    "identity_matrix = np.identity(100)\n",
    "identity_matrix"
   ]
  },
  {
   "cell_type": "code",
   "execution_count": 33,
   "metadata": {},
   "outputs": [
    {
     "data": {
      "image/png": "[encoded data removed]",
      "text/plain": [
       "<Figure size 432x288 with 1 Axes>"
      ]
     },
     "metadata": {
      "needs_background": "light"
     },
     "output_type": "display_data"
    },
    {
     "data": {
      "text/plain": [
       "<AxesSubplot:>"
      ]
     },
     "execution_count": 33,
     "metadata": {},
     "output_type": "execute_result"
    }
   ],
   "source": [
    "show(identity_matrix)"
   ]
  },
  {
   "cell_type": "code",
   "execution_count": 34,
   "metadata": {},
   "outputs": [],
   "source": [
    "identity_matrix_down = downsampling_2d(identity_matrix, 0.1)"
   ]
  },
  {
   "cell_type": "code",
   "execution_count": 35,
   "metadata": {},
   "outputs": [
    {
     "data": {
      "image/png": "[encoded data removed]",
      "text/plain": [
       "<Figure size 432x288 with 1 Axes>"
      ]
     },
     "metadata": {
      "needs_background": "light"
     },
     "output_type": "display_data"
    },
    {
     "data": {
      "text/plain": [
       "<AxesSubplot:>"
      ]
     },
     "execution_count": 35,
     "metadata": {},
     "output_type": "execute_result"
    }
   ],
   "source": [
    "show(identity_matrix_down)"
   ]
  },
  {
   "cell_type": "code",
   "execution_count": 36,
   "metadata": {},
   "outputs": [],
   "source": [
    "identity_matrix_up = upsampling_2d(identity_matrix, identity_matrix_down)"
   ]
  },
  {
   "cell_type": "code",
   "execution_count": 37,
   "metadata": {},
   "outputs": [
    {
     "data": {
      "image/png": "[encoded data removed]",
      "text/plain": [
       "<Figure size 432x288 with 1 Axes>"
      ]
     },
     "metadata": {
      "needs_background": "light"
     },
     "output_type": "display_data"
    },
    {
     "data": {
      "text/plain": [
       "<AxesSubplot:>"
      ]
     },
     "execution_count": 37,
     "metadata": {},
     "output_type": "execute_result"
    }
   ],
   "source": [
    "show(identity_matrix_up)"
   ]
  },
  {
   "cell_type": "code",
   "execution_count": 20,
   "metadata": {},
   "outputs": [],
   "source": [
    "def downsampling_and_upsampling_2d(img, scale_percent):\n",
    "    width = int(img.shape[1] * scale_percent)\n",
    "    height = int(img.shape[0] * scale_percent)\n",
    "    dim = (width, height)\n",
    "    # downsampling image\n",
    "    resized = cv2.resize(img, dim, interpolation = cv2.INTER_LINEAR)\n",
    "    width_out = img.shape[1]\n",
    "    height_out = img.shape[0]\n",
    "    dim_out = (width_out, height_out)\n",
    "    # upsampling image \n",
    "    resized = cv2.resize(resized, dim_out, interpolation = cv2.INTER_NEAREST)\n",
    "    return resized"
   ]
  },
  {
   "cell_type": "code",
   "execution_count": 6,
   "metadata": {},
   "outputs": [],
   "source": [
    "def mask_downsampling(mask, scale_percent):\n",
    "    img = mask[0]\n",
    "    resized = downsampling_2d(img, scale_percent)\n",
    "    return np.array([resized])"
   ]
  },
  {
   "cell_type": "code",
   "execution_count": 7,
   "metadata": {},
   "outputs": [],
   "source": [
    "def image_downsampling(imgs, scale_percent):\n",
    "    img_down = []\n",
    "    for i in range(len(imgs)):\n",
    "        img_new = downsampling_2d(imgs[i], scale_percent)\n",
    "        img_down.append(img_new)\n",
    "    img_down = np.array(img_down)\n",
    "    return img_down "
   ]
  },
  {
   "cell_type": "markdown",
   "metadata": {},
   "source": [
    "The accuracy should change from that high training accuracy if we are comparing to the original labels\n",
    "\n",
    "It may be a bit of a convoluted process but here is what I am thinking:\n",
    "\n",
    "1. Create training and test set of the original imagery (you will only be using the test set for this), use the same sample seed\n",
    "1. Downsample the training imagery to the lower resolution, create a separate train/test set. (you will only be using the training set for this)\n",
    "1. Train a model using the downsampled training set\n",
    "1. Classify the downsampled imagery, reshape it back to the original image, and upsample it\n",
    "1. Create a training and test set using the upsampled data and the original data using the original sample seed. The y_test from this should become your y_pred.\n",
    "1. Compare the y_test from 1 and the y_pred from 5\n",
    "\n",
    "So essentially your y_test is from the original dataset, and y_pred is from the downsampled -> upsampled -> reshaped data from the same indices"
   ]
  },
  {
   "cell_type": "code",
   "execution_count": 87,
   "metadata": {},
   "outputs": [
    {
     "data": {
      "text/plain": [
       "(1, 3101, 4213)"
      ]
     },
     "execution_count": 87,
     "metadata": {},
     "output_type": "execute_result"
    }
   ],
   "source": [
    "mask_downsampling(mmask, 0.32631579).shape"
   ]
  },
  {
   "cell_type": "code",
   "execution_count": 88,
   "metadata": {},
   "outputs": [
    {
     "data": {
      "image/png": "[encoded data removed]",
      "text/plain": [
       "<Figure size 432x288 with 1 Axes>"
      ]
     },
     "metadata": {
      "needs_background": "light"
     },
     "output_type": "display_data"
    },
    {
     "data": {
      "text/plain": [
       "<AxesSubplot:>"
      ]
     },
     "execution_count": 88,
     "metadata": {},
     "output_type": "execute_result"
    }
   ],
   "source": [
    "show(image_downsampling(m_image, 0.03)[0])"
   ]
  },
  {
   "cell_type": "code",
   "execution_count": 89,
   "metadata": {},
   "outputs": [
    {
     "data": {
      "image/png": "[encoded data removed]",
      "text/plain": [
       "<Figure size 432x288 with 1 Axes>"
      ]
     },
     "metadata": {
      "needs_background": "light"
     },
     "output_type": "display_data"
    },
    {
     "data": {
      "text/plain": [
       "<AxesSubplot:>"
      ]
     },
     "execution_count": 89,
     "metadata": {},
     "output_type": "execute_result"
    }
   ],
   "source": [
    "show(m_image[0])"
   ]
  },
  {
   "cell_type": "code",
   "execution_count": 18,
   "metadata": {},
   "outputs": [
    {
     "data": {
      "text/plain": [
       "(1, 3101, 4213)"
      ]
     },
     "execution_count": 18,
     "metadata": {},
     "output_type": "execute_result"
    }
   ],
   "source": [
    "mmask.shape"
   ]
  },
  {
   "cell_type": "code",
   "execution_count": 31,
   "metadata": {},
   "outputs": [
    {
     "data": {
      "text/plain": [
       "(1, 3101, 4213)"
      ]
     },
     "execution_count": 31,
     "metadata": {},
     "output_type": "execute_result"
    }
   ],
   "source": [
    "mmask.shape"
   ]
  },
  {
   "cell_type": "code",
   "execution_count": 32,
   "metadata": {},
   "outputs": [
    {
     "data": {
      "text/plain": [
       "93.03"
      ]
     },
     "execution_count": 32,
     "metadata": {},
     "output_type": "execute_result"
    }
   ],
   "source": [
    "0.03*3101"
   ]
  },
  {
   "cell_type": "code",
   "execution_count": 136,
   "metadata": {},
   "outputs": [],
   "source": [
    "k = mask_downsampling(mmask, 0.01)"
   ]
  },
  {
   "cell_type": "code",
   "execution_count": 137,
   "metadata": {},
   "outputs": [
    {
     "data": {
      "image/png": "[encoded data removed]",
      "text/plain": [
       "<Figure size 432x288 with 1 Axes>"
      ]
     },
     "metadata": {
      "needs_background": "light"
     },
     "output_type": "display_data"
    },
    {
     "data": {
      "text/plain": [
       "<AxesSubplot:>"
      ]
     },
     "execution_count": 137,
     "metadata": {},
     "output_type": "execute_result"
    }
   ],
   "source": [
    "show(k)"
   ]
  },
  {
   "cell_type": "code",
   "execution_count": 149,
   "metadata": {},
   "outputs": [
    {
     "data": {
      "image/png": "[encoded data removed]",
      "text/plain": [
       "<Figure size 432x288 with 1 Axes>"
      ]
     },
     "metadata": {
      "needs_background": "light"
     },
     "output_type": "display_data"
    },
    {
     "data": {
      "text/plain": [
       "<AxesSubplot:>"
      ]
     },
     "execution_count": 149,
     "metadata": {},
     "output_type": "execute_result"
    }
   ],
   "source": [
    "show(image_downsampling(m_image, 0.01)[7])"
   ]
  },
  {
   "cell_type": "code",
   "execution_count": 151,
   "metadata": {},
   "outputs": [
    {
     "data": {
      "text/plain": [
       "0.9451817300805625"
      ]
     },
     "execution_count": 151,
     "metadata": {},
     "output_type": "execute_result"
    }
   ],
   "source": [
    "(image_downsampling(m_image, 0.01)[7] == m_image[7]).mean()"
   ]
  },
  {
   "cell_type": "code",
   "execution_count": 150,
   "metadata": {},
   "outputs": [
    {
     "data": {
      "image/png": "[encoded data removed]",
      "text/plain": [
       "<Figure size 432x288 with 1 Axes>"
      ]
     },
     "metadata": {
      "needs_background": "light"
     },
     "output_type": "display_data"
    },
    {
     "data": {
      "text/plain": [
       "<AxesSubplot:>"
      ]
     },
     "execution_count": 150,
     "metadata": {},
     "output_type": "execute_result"
    }
   ],
   "source": [
    "show(m_image[7])"
   ]
  },
  {
   "cell_type": "code",
   "execution_count": 141,
   "metadata": {},
   "outputs": [
    {
     "data": {
      "text/plain": [
       "0.9452067427065807"
      ]
     },
     "execution_count": 141,
     "metadata": {},
     "output_type": "execute_result"
    }
   ],
   "source": [
    "(image_downsampling(m_image, 0.01)==m_image).mean()"
   ]
  },
  {
   "cell_type": "code",
   "execution_count": 138,
   "metadata": {},
   "outputs": [
    {
     "data": {
      "image/png": "[encoded data removed]",
      "text/plain": [
       "<Figure size 432x288 with 1 Axes>"
      ]
     },
     "metadata": {
      "needs_background": "light"
     },
     "output_type": "display_data"
    },
    {
     "data": {
      "text/plain": [
       "<AxesSubplot:>"
      ]
     },
     "execution_count": 138,
     "metadata": {},
     "output_type": "execute_result"
    }
   ],
   "source": [
    "show(mmask)"
   ]
  },
  {
   "cell_type": "code",
   "execution_count": 90,
   "metadata": {},
   "outputs": [
    {
     "data": {
      "text/plain": [
       "(1, 3525, 7528)"
      ]
     },
     "execution_count": 90,
     "metadata": {},
     "output_type": "execute_result"
    }
   ],
   "source": [
    "mask_downsampling(nmmask, 0.95789474).shape"
   ]
  },
  {
   "cell_type": "code",
   "execution_count": 24,
   "metadata": {},
   "outputs": [
    {
     "data": {
      "text/plain": [
       "(1, 3525, 7528)"
      ]
     },
     "execution_count": 24,
     "metadata": {},
     "output_type": "execute_result"
    }
   ],
   "source": [
    "nmmask.shape"
   ]
  },
  {
   "cell_type": "code",
   "execution_count": 152,
   "metadata": {},
   "outputs": [
    {
     "data": {
      "image/png": "[encoded data removed]",
      "text/plain": [
       "<Figure size 432x288 with 1 Axes>"
      ]
     },
     "metadata": {
      "needs_background": "light"
     },
     "output_type": "display_data"
    },
    {
     "data": {
      "text/plain": [
       "<AxesSubplot:>"
      ]
     },
     "execution_count": 152,
     "metadata": {},
     "output_type": "execute_result"
    }
   ],
   "source": [
    "show(nmmask)"
   ]
  },
  {
   "cell_type": "code",
   "execution_count": 25,
   "metadata": {},
   "outputs": [
    {
     "data": {
      "text/plain": [
       "7211.03160272"
      ]
     },
     "execution_count": 25,
     "metadata": {},
     "output_type": "execute_result"
    }
   ],
   "source": [
    "7528*0.95789474"
   ]
  },
  {
   "cell_type": "code",
   "execution_count": 22,
   "metadata": {},
   "outputs": [
    {
     "data": {
      "text/plain": [
       "2970.43158874"
      ]
     },
     "execution_count": 22,
     "metadata": {},
     "output_type": "execute_result"
    }
   ],
   "source": [
    "3101*0.95789474"
   ]
  },
  {
   "cell_type": "code",
   "execution_count": 9,
   "metadata": {},
   "outputs": [
    {
     "data": {
      "text/plain": [
       "(9, 3525, 7528)"
      ]
     },
     "execution_count": 9,
     "metadata": {},
     "output_type": "execute_result"
    }
   ],
   "source": [
    "nm_image.shape"
   ]
  },
  {
   "cell_type": "code",
   "execution_count": 17,
   "metadata": {},
   "outputs": [
    {
     "data": {
      "text/plain": [
       "array([ 705.        ,  853.42105263, 1001.84210526, 1150.26315789,\n",
       "       1298.68421053, 1447.10526316, 1595.52631579, 1743.94736842,\n",
       "       1892.36842105, 2040.78947368, 2189.21052632, 2337.63157895,\n",
       "       2486.05263158, 2634.47368421, 2782.89473684, 2931.31578947,\n",
       "       3079.73684211, 3228.15789474, 3376.57894737, 3525.        ])"
      ]
     },
     "execution_count": 17,
     "metadata": {},
     "output_type": "execute_result"
    }
   ],
   "source": [
    "nmimg_height_lst = np.linspace(3525/ 5, 3525, num = 20)\n",
    "nmimg_height_lst"
   ]
  },
  {
   "cell_type": "code",
   "execution_count": 18,
   "metadata": {},
   "outputs": [
    {
     "data": {
      "text/plain": [
       "array([0.2       , 0.24210526, 0.28421053, 0.32631579, 0.36842105,\n",
       "       0.41052632, 0.45263158, 0.49473684, 0.53684211, 0.57894737,\n",
       "       0.62105263, 0.66315789, 0.70526316, 0.74736842, 0.78947368,\n",
       "       0.83157895, 0.87368421, 0.91578947, 0.95789474, 1.        ])"
      ]
     },
     "execution_count": 18,
     "metadata": {},
     "output_type": "execute_result"
    }
   ],
   "source": [
    "scale_percent_lst = nmimg_height_lst/3525\n",
    "scale_percent_lst "
   ]
  },
  {
   "cell_type": "code",
   "execution_count": 8,
   "metadata": {},
   "outputs": [],
   "source": [
    "from sklearn.model_selection import train_test_split\n",
    "from sklearn.ensemble import RandomForestClassifier, ExtraTreesClassifier"
   ]
  },
  {
   "cell_type": "code",
   "execution_count": 9,
   "metadata": {},
   "outputs": [],
   "source": [
    "from tqdm import tqdm"
   ]
  },
  {
   "cell_type": "code",
   "execution_count": 10,
   "metadata": {},
   "outputs": [],
   "source": [
    "m_idx = np.squeeze(((reshape_as_image(mmask) == 1)), axis=-1) \n",
    "nm_idx = np.squeeze((reshape_as_image(nmmask) == 1), axis=-1)\n",
    "m_pix = reshape_as_image(m_image)[m_idx]\n",
    "nm_pix = reshape_as_image(nm_image)[nm_idx]\n",
    "m_pix = m_pix[np.all(m_pix != 0, axis=1)]\n",
    "nm_pix = nm_pix[np.all(nm_pix != 0, axis=1)]\n",
    "x = np.concatenate((m_pix, nm_pix), axis = 0)\n",
    "y = np.concatenate((np.zeros((m_pix.shape[0]))+1, np.zeros((nm_pix.shape[0]))))\n",
    "x_train, x_test, y_train, y_test = train_test_split(x, y, test_size=0.20, random_state=42)"
   ]
  },
  {
   "cell_type": "code",
   "execution_count": null,
   "metadata": {},
   "outputs": [],
   "source": []
  },
  {
   "cell_type": "code",
   "execution_count": 60,
   "metadata": {},
   "outputs": [
    {
     "data": {
      "text/plain": [
       "0.9626086830302063"
      ]
     },
     "execution_count": 60,
     "metadata": {},
     "output_type": "execute_result"
    }
   ],
   "source": [
    "clf = ExtraTreesClassifier(n_jobs=4)\n",
    "clf.fit(x_train, y_train)\n",
    "y_pred = clf.predict(x_test)\n",
    "acc = (y_pred==y_test).mean()\n",
    "acc"
   ]
  },
  {
   "cell_type": "code",
   "execution_count": null,
   "metadata": {},
   "outputs": [],
   "source": []
  },
  {
   "cell_type": "code",
   "execution_count": 16,
   "metadata": {},
   "outputs": [
    {
     "name": "stdout",
     "output_type": "stream",
     "text": [
      "0.2\n",
      "0.24210526315789474\n",
      "0.28421052631578947\n",
      "0.3263157894736842\n",
      "0.368421052631579\n",
      "0.4105263157894737\n",
      "0.45263157894736844\n",
      "0.4947368421052632\n",
      "0.5368421052631579\n",
      "0.5789473684210527\n",
      "0.6210526315789474\n",
      "0.6631578947368421\n",
      "0.7052631578947369\n",
      "0.7473684210526317\n",
      "0.7894736842105263\n",
      "0.8315789473684211\n",
      "0.8736842105263158\n",
      "0.9157894736842106\n",
      "0.9578947368421054\n",
      "1.0\n"
     ]
    }
   ],
   "source": [
    "for p in (scale_percent_lst):\n",
    "    print(p)"
   ]
  },
  {
   "cell_type": "code",
   "execution_count": 13,
   "metadata": {},
   "outputs": [],
   "source": [
    "p =  0.01\n",
    "new_mmask = mask_downsampling(mmask, p)\n",
    "new_nmmask = mask_downsampling(nmmask, p)\n",
    "new_m_image = image_downsampling(m_image, p)\n",
    "new_nm_image = image_downsampling(nm_image, p)"
   ]
  },
  {
   "cell_type": "code",
   "execution_count": 14,
   "metadata": {},
   "outputs": [],
   "source": [
    "new_m_idx = np.squeeze(((reshape_as_image(new_mmask) == 1)), axis=-1) \n",
    "new_nm_idx = np.squeeze((reshape_as_image(new_nmmask) == 1), axis=-1)\n",
    "new_m_pix = reshape_as_image(new_m_image)[new_m_idx]\n",
    "new_nm_pix = reshape_as_image(new_nm_image)[new_nm_idx]\n",
    "new_m_pix = new_m_pix[np.all(new_m_pix != 0, axis=1)]\n",
    "new_nm_pix = new_nm_pix[np.all(new_nm_pix != 0, axis=1)]\n",
    "new_x = np.concatenate((new_m_pix, new_nm_pix), axis = 0)\n",
    "new_y = np.concatenate((np.zeros((new_m_pix.shape[0]))+1, np.zeros((new_nm_pix.shape[0]))))\n",
    "new_x_train, new_x_test, new_y_train, new_y_test = train_test_split(new_x, new_y, test_size=0.20, random_state=42)"
   ]
  },
  {
   "cell_type": "code",
   "execution_count": null,
   "metadata": {},
   "outputs": [],
   "source": []
  },
  {
   "cell_type": "code",
   "execution_count": 15,
   "metadata": {},
   "outputs": [
    {
     "data": {
      "text/plain": [
       "1.0"
      ]
     },
     "execution_count": 15,
     "metadata": {},
     "output_type": "execute_result"
    }
   ],
   "source": [
    "new_clf = ExtraTreesClassifier(n_jobs=4)\n",
    "new_clf.fit(new_x_train, new_y_train)\n",
    "new_y_pred = new_clf.predict(new_x_test)\n",
    "acc = (new_y_pred==new_y_test).mean()\n",
    "acc"
   ]
  },
  {
   "cell_type": "code",
   "execution_count": 38,
   "metadata": {},
   "outputs": [
    {
     "data": {
      "text/plain": [
       "array([0., 0., 0., ..., 0., 1., 0.])"
      ]
     },
     "execution_count": 38,
     "metadata": {},
     "output_type": "execute_result"
    }
   ],
   "source": [
    "new_y_test"
   ]
  },
  {
   "cell_type": "code",
   "execution_count": 37,
   "metadata": {},
   "outputs": [
    {
     "data": {
      "text/plain": [
       "array([0., 0., 0., ..., 0., 1., 0.])"
      ]
     },
     "execution_count": 37,
     "metadata": {},
     "output_type": "execute_result"
    }
   ],
   "source": [
    "new_y_pred == "
   ]
  },
  {
   "cell_type": "code",
   "execution_count": 24,
   "metadata": {},
   "outputs": [],
   "source": [
    "y_test_1 = np.array([y_test])"
   ]
  },
  {
   "cell_type": "code",
   "execution_count": 25,
   "metadata": {},
   "outputs": [
    {
     "data": {
      "text/plain": [
       "(551144, 1)"
      ]
     },
     "execution_count": 25,
     "metadata": {},
     "output_type": "execute_result"
    }
   ],
   "source": [
    "width_out = y_test_1.shape[1]\n",
    "height_out = y_test_1.shape[0]\n",
    "dim_out = (width_out, height_out)\n",
    "dim_out"
   ]
  },
  {
   "cell_type": "code",
   "execution_count": 34,
   "metadata": {},
   "outputs": [],
   "source": [
    "new_y_pred2 = cv2.resize(new_y_pred, dim_out, interpolation = cv2.INTER_NEAREST)"
   ]
  },
  {
   "cell_type": "code",
   "execution_count": 35,
   "metadata": {},
   "outputs": [],
   "source": [
    "new_y_test2 = cv2.resize(new_y_test, dim_out, interpolation = cv2.INTER_NEAREST)"
   ]
  },
  {
   "cell_type": "code",
   "execution_count": 36,
   "metadata": {},
   "outputs": [
    {
     "data": {
      "text/plain": [
       "1.0"
      ]
     },
     "execution_count": 36,
     "metadata": {},
     "output_type": "execute_result"
    }
   ],
   "source": [
    "(new_y_pred2[0]==new_y_test2[0]).mean()"
   ]
  },
  {
   "cell_type": "code",
   "execution_count": 160,
   "metadata": {},
   "outputs": [
    {
     "data": {
      "text/plain": [
       "551144"
      ]
     },
     "execution_count": 160,
     "metadata": {},
     "output_type": "execute_result"
    }
   ],
   "source": [
    "len(x_test)"
   ]
  },
  {
   "cell_type": "code",
   "execution_count": 161,
   "metadata": {},
   "outputs": [
    {
     "data": {
      "text/plain": [
       "520677"
      ]
     },
     "execution_count": 161,
     "metadata": {},
     "output_type": "execute_result"
    }
   ],
   "source": [
    "len(new_y_pred)"
   ]
  },
  {
   "cell_type": "code",
   "execution_count": 76,
   "metadata": {},
   "outputs": [
    {
     "name": "stdout",
     "output_type": "stream",
     "text": [
      "              precision    recall  f1-score   support\n",
      "\n",
      "         0.0       0.98      0.98      0.98    459070\n",
      "         1.0       0.89      0.89      0.89     92074\n",
      "\n",
      "    accuracy                           0.96    551144\n",
      "   macro avg       0.93      0.93      0.93    551144\n",
      "weighted avg       0.96      0.96      0.96    551144\n",
      "\n"
     ]
    }
   ],
   "source": [
    "print(classification_report(y_test, y_pred))"
   ]
  },
  {
   "cell_type": "code",
   "execution_count": 77,
   "metadata": {},
   "outputs": [
    {
     "name": "stdout",
     "output_type": "stream",
     "text": [
      "              precision    recall  f1-score   support\n",
      "\n",
      "         0.0       0.99      0.99      0.99    459070\n",
      "         1.0       0.97      0.97      0.97     92074\n",
      "\n",
      "    accuracy                           0.99    551144\n",
      "   macro avg       0.98      0.98      0.98    551144\n",
      "weighted avg       0.99      0.99      0.99    551144\n",
      "\n"
     ]
    }
   ],
   "source": [
    "print(classification_report(y_test, new_y_pred))"
   ]
  },
  {
   "cell_type": "code",
   "execution_count": 55,
   "metadata": {},
   "outputs": [
    {
     "data": {
      "text/plain": [
       "<sklearn.metrics._plot.confusion_matrix.ConfusionMatrixDisplay at 0x179133790>"
      ]
     },
     "execution_count": 55,
     "metadata": {},
     "output_type": "execute_result"
    },
    {
     "data": {
      "image/png": "[encoded data removed]",
      "text/plain": [
       "<Figure size 432x288 with 2 Axes>"
      ]
     },
     "metadata": {
      "needs_background": "light"
     },
     "output_type": "display_data"
    }
   ],
   "source": [
    "from sklearn.metrics import confusion_matrix, ConfusionMatrixDisplay\n",
    "cm = confusion_matrix(y_test, new_y_pred)\n",
    "disp = ConfusionMatrixDisplay(confusion_matrix=cm)\n",
    "disp.plot()"
   ]
  },
  {
   "cell_type": "code",
   "execution_count": 19,
   "metadata": {},
   "outputs": [],
   "source": [
    "def downsampling_2d(img, scale_percent):\n",
    "    width = int(img.shape[1] * scale_percent)\n",
    "    height = int(img.shape[0] * scale_percent)\n",
    "    dim = (width, height)\n",
    "    # downsampling image\n",
    "    resized = cv2.resize(img, dim, interpolation = cv2.INTER_LINEAR)\n",
    "    width_out = img.shape[1]\n",
    "    height_out = img.shape[0]\n",
    "    dim_out = (width_out, height_out)\n",
    "    # upsampling image \n",
    "    resized = cv2.resize(resized, dim_out, interpolation = cv2.INTER_NEAREST)\n",
    "    return resized\n",
    "def mask_downsampling(mask, scale_percent):\n",
    "    img = mask[0]\n",
    "    resized = downsampling_2d(img, scale_percent)\n",
    "    return np.array([resized])\n",
    "def image_downsampling(imgs, scale_percent):\n",
    "    img_down = []\n",
    "    for i in range(len(imgs)):\n",
    "        img_new = downsampling_2d(imgs[i], scale_percent)\n",
    "        img_down.append(img_new)\n",
    "    img_down = np.array(img_down)\n",
    "    return img_down "
   ]
  },
  {
   "cell_type": "code",
   "execution_count": 22,
   "metadata": {},
   "outputs": [],
   "source": [
    "from tqdm import tqdm\n",
    "from sklearn.metrics import f1_score"
   ]
  },
  {
   "cell_type": "code",
   "execution_count": 23,
   "metadata": {},
   "outputs": [
    {
     "name": "stderr",
     "output_type": "stream",
     "text": [
      "  5%|██▏                                         | 1/20 [00:37<11:55, 37.67s/it]"
     ]
    },
    {
     "name": "stdout",
     "output_type": "stream",
     "text": [
      "0.873365068066554\n"
     ]
    },
    {
     "name": "stderr",
     "output_type": "stream",
     "text": [
      "\r",
      " 10%|████▍                                       | 2/20 [01:13<11:01, 36.76s/it]"
     ]
    },
    {
     "name": "stdout",
     "output_type": "stream",
     "text": [
      "0.8792736264753781\n"
     ]
    },
    {
     "name": "stderr",
     "output_type": "stream",
     "text": [
      "\r",
      " 15%|██████▌                                     | 3/20 [01:52<10:40, 37.70s/it]"
     ]
    },
    {
     "name": "stdout",
     "output_type": "stream",
     "text": [
      "0.8809108068560736\n"
     ]
    },
    {
     "name": "stderr",
     "output_type": "stream",
     "text": [
      "\r",
      " 20%|████████▊                                   | 4/20 [02:29<09:56, 37.26s/it]"
     ]
    },
    {
     "name": "stdout",
     "output_type": "stream",
     "text": [
      "0.8837636971022534\n"
     ]
    },
    {
     "name": "stderr",
     "output_type": "stream",
     "text": [
      "\r",
      " 25%|███████████                                 | 5/20 [03:10<09:41, 38.74s/it]"
     ]
    },
    {
     "name": "stdout",
     "output_type": "stream",
     "text": [
      "0.8852742425642726\n"
     ]
    },
    {
     "name": "stderr",
     "output_type": "stream",
     "text": [
      "\r",
      " 30%|█████████████▏                              | 6/20 [03:51<09:13, 39.55s/it]"
     ]
    },
    {
     "name": "stdout",
     "output_type": "stream",
     "text": [
      "0.8864567297492832\n"
     ]
    },
    {
     "name": "stderr",
     "output_type": "stream",
     "text": [
      "\r",
      " 35%|███████████████▍                            | 7/20 [04:32<08:41, 40.09s/it]"
     ]
    },
    {
     "name": "stdout",
     "output_type": "stream",
     "text": [
      "0.8884891499872288\n"
     ]
    },
    {
     "name": "stderr",
     "output_type": "stream",
     "text": [
      "\r",
      " 40%|█████████████████▌                          | 8/20 [05:18<08:22, 41.85s/it]"
     ]
    },
    {
     "name": "stdout",
     "output_type": "stream",
     "text": [
      "0.8899265597225469\n"
     ]
    },
    {
     "name": "stderr",
     "output_type": "stream",
     "text": [
      "\r",
      " 45%|███████████████████▊                        | 9/20 [05:59<07:38, 41.70s/it]"
     ]
    },
    {
     "name": "stdout",
     "output_type": "stream",
     "text": [
      "0.8908944609964552\n"
     ]
    },
    {
     "name": "stderr",
     "output_type": "stream",
     "text": [
      "\r",
      " 50%|█████████████████████▌                     | 10/20 [06:45<07:10, 43.00s/it]"
     ]
    },
    {
     "name": "stdout",
     "output_type": "stream",
     "text": [
      "0.8923465005273402\n"
     ]
    },
    {
     "name": "stderr",
     "output_type": "stream",
     "text": [
      "\r",
      " 55%|███████████████████████▋                   | 11/20 [07:27<06:23, 42.60s/it]"
     ]
    },
    {
     "name": "stdout",
     "output_type": "stream",
     "text": [
      "0.8936896210729927\n"
     ]
    },
    {
     "name": "stderr",
     "output_type": "stream",
     "text": [
      "\r",
      " 60%|█████████████████████████▊                 | 12/20 [08:19<06:04, 45.58s/it]"
     ]
    },
    {
     "name": "stdout",
     "output_type": "stream",
     "text": [
      "0.8955724726605346\n"
     ]
    },
    {
     "name": "stderr",
     "output_type": "stream",
     "text": [
      "\r",
      " 65%|███████████████████████████▉               | 13/20 [09:01<05:11, 44.43s/it]"
     ]
    },
    {
     "name": "stdout",
     "output_type": "stream",
     "text": [
      "0.8959359572469001\n"
     ]
    },
    {
     "name": "stderr",
     "output_type": "stream",
     "text": [
      "\r",
      " 70%|██████████████████████████████             | 14/20 [09:47<04:29, 44.84s/it]"
     ]
    },
    {
     "name": "stdout",
     "output_type": "stream",
     "text": [
      "0.896829489385493\n"
     ]
    },
    {
     "name": "stderr",
     "output_type": "stream",
     "text": [
      "\r",
      " 75%|████████████████████████████████▎          | 15/20 [10:41<03:58, 47.61s/it]"
     ]
    },
    {
     "name": "stdout",
     "output_type": "stream",
     "text": [
      "0.8985066851884007\n"
     ]
    },
    {
     "name": "stderr",
     "output_type": "stream",
     "text": [
      "\r",
      " 80%|██████████████████████████████████▍        | 16/20 [11:57<03:44, 56.06s/it]"
     ]
    },
    {
     "name": "stdout",
     "output_type": "stream",
     "text": [
      "0.8989488772097467\n"
     ]
    },
    {
     "name": "stderr",
     "output_type": "stream",
     "text": [
      "\r",
      " 85%|████████████████████████████████████▌      | 17/20 [13:02<02:56, 58.86s/it]"
     ]
    },
    {
     "name": "stdout",
     "output_type": "stream",
     "text": [
      "0.9002921404446182\n"
     ]
    },
    {
     "name": "stderr",
     "output_type": "stream",
     "text": [
      "\r",
      " 90%|██████████████████████████████████████▋    | 18/20 [14:07<02:01, 60.61s/it]"
     ]
    },
    {
     "name": "stdout",
     "output_type": "stream",
     "text": [
      "0.9016182529816352\n"
     ]
    },
    {
     "name": "stderr",
     "output_type": "stream",
     "text": [
      "\r",
      " 95%|████████████████████████████████████████▊  | 19/20 [15:02<00:59, 59.08s/it]"
     ]
    },
    {
     "name": "stdout",
     "output_type": "stream",
     "text": [
      "0.9021144920061888\n"
     ]
    },
    {
     "name": "stderr",
     "output_type": "stream",
     "text": [
      "100%|███████████████████████████████████████████| 20/20 [16:07<00:00, 48.37s/it]"
     ]
    },
    {
     "name": "stdout",
     "output_type": "stream",
     "text": [
      "0.8887648244910348\n"
     ]
    },
    {
     "name": "stderr",
     "output_type": "stream",
     "text": [
      "\n"
     ]
    }
   ],
   "source": [
    "acc_lst = []\n",
    "for p in tqdm(scale_percent_lst):\n",
    "    new_mmask = mask_downsampling(mmask, p)\n",
    "    new_nmmask = mask_downsampling(nmmask, p)\n",
    "    new_m_image = image_downsampling(m_image, p)\n",
    "    new_nm_image = image_downsampling(nm_image, p)\n",
    "    #reshape\n",
    "    new_m_idx = np.squeeze(((reshape_as_image(new_mmask) == 1)), axis=-1) \n",
    "    new_nm_idx = np.squeeze((reshape_as_image(new_nmmask) == 1), axis=-1)\n",
    "    new_m_pix = reshape_as_image(new_m_image)[new_m_idx]\n",
    "    new_nm_pix = reshape_as_image(new_nm_image)[new_nm_idx]\n",
    "    new_m_pix = new_m_pix[np.all(new_m_pix != 0, axis=1)]\n",
    "    new_nm_pix = new_nm_pix[np.all(new_nm_pix != 0, axis=1)]\n",
    "    new_x = np.concatenate((new_m_pix, new_nm_pix), axis = 0)\n",
    "    new_y = np.concatenate((np.zeros((new_m_pix.shape[0]))+1, np.zeros((new_nm_pix.shape[0]))))\n",
    "    new_x_train, new_x_test, new_y_train, new_y_test = train_test_split(new_x, new_y, test_size=0.20, random_state=42)\n",
    "    #train with ERT\n",
    "    new_clf = ExtraTreesClassifier(n_jobs=4)\n",
    "    new_clf.fit(new_x_train, new_y_train)\n",
    "    y_pred = new_clf.predict(x_test)\n",
    "    #new_acc = (y_pred==y_test).mean()\n",
    "    #print(new_acc)\n",
    "    #acc_lst.append(new_acc)\n",
    "    new_f1 = f1_score(y_test, y_pred)\n",
    "    print(new_f1)\n",
    "    acc_lst.append(new_f1)"
   ]
  },
  {
   "cell_type": "code",
   "execution_count": null,
   "metadata": {},
   "outputs": [],
   "source": [
    "new_acc_lst2 = []\n",
    "for p in tqdm(scale_percent_lst):\n",
    "    new_mmask = mask_downsampling(mmask, p)\n",
    "    new_nmmask = mask_downsampling(nmmask, p)\n",
    "    new_m_image = image_downsampling(m_image, p)\n",
    "    new_nm_image = image_downsampling(nm_image, p)\n",
    "    #reshape\n",
    "    new_m_idx = np.squeeze(((reshape_as_image(new_mmask) == 1)), axis=-1) \n",
    "    new_nm_idx = np.squeeze((reshape_as_image(new_nmmask) == 1), axis=-1)\n",
    "    new_m_pix = reshape_as_image(new_m_image)[new_m_idx]\n",
    "    new_nm_pix = reshape_as_image(new_nm_image)[new_nm_idx]\n",
    "    new_m_pix = new_m_pix[np.all(new_m_pix != 0, axis=1)]\n",
    "    new_nm_pix = new_nm_pix[np.all(new_nm_pix != 0, axis=1)]\n",
    "    new_x = np.concatenate((new_m_pix, new_nm_pix), axis = 0)\n",
    "    new_y = np.concatenate((np.zeros((new_m_pix.shape[0]))+1, np.zeros((new_nm_pix.shape[0]))))\n",
    "    new_x_train, new_x_test, new_y_train, new_y_test = train_test_split(new_x, new_y, test_size=0.20, random_state=42)\n",
    "    #train with ERT\n",
    "    new_clf = ExtraTreesClassifier(n_jobs=4)\n",
    "    new_clf.fit(new_x_train, new_y_train)\n",
    "    new_y_pred = new_clf.predict(new_x_test)\n",
    "    new_acc = (new_y_pred==new_y_test).mean()\n",
    "    print(new_acc)\n",
    "    new_acc_lst2.append(new_acc)"
   ]
  },
  {
   "cell_type": "code",
   "execution_count": null,
   "metadata": {},
   "outputs": [],
   "source": [
    "acc_lst"
   ]
  },
  {
   "cell_type": "code",
   "execution_count": 11,
   "metadata": {},
   "outputs": [
    {
     "data": {
      "text/plain": [
       "array([  35.25      ,  218.92105263,  402.59210526,  586.26315789,\n",
       "        769.93421053,  953.60526316, 1137.27631579, 1320.94736842,\n",
       "       1504.61842105, 1688.28947368, 1871.96052632, 2055.63157895,\n",
       "       2239.30263158, 2422.97368421, 2606.64473684, 2790.31578947,\n",
       "       2973.98684211, 3157.65789474, 3341.32894737, 3525.        ])"
      ]
     },
     "execution_count": 11,
     "metadata": {},
     "output_type": "execute_result"
    }
   ],
   "source": [
    "new_nmimg_height_lst = np.linspace(3525/ 100, 3525, num = 20)\n",
    "new_nmimg_height_lst"
   ]
  },
  {
   "cell_type": "code",
   "execution_count": 12,
   "metadata": {},
   "outputs": [
    {
     "data": {
      "text/plain": [
       "array([0.01      , 0.06210526, 0.11421053, 0.16631579, 0.21842105,\n",
       "       0.27052632, 0.32263158, 0.37473684, 0.42684211, 0.47894737,\n",
       "       0.53105263, 0.58315789, 0.63526316, 0.68736842, 0.73947368,\n",
       "       0.79157895, 0.84368421, 0.89578947, 0.94789474, 1.        ])"
      ]
     },
     "execution_count": 12,
     "metadata": {},
     "output_type": "execute_result"
    }
   ],
   "source": [
    "new_scale_percent_lst = new_nmimg_height_lst/3525\n",
    "new_scale_percent_lst "
   ]
  },
  {
   "cell_type": "code",
   "execution_count": 13,
   "metadata": {},
   "outputs": [],
   "source": [
    "from xgboost import XGBClassifier\n",
    "from sklearn.metrics import accuracy_score"
   ]
  },
  {
   "cell_type": "code",
   "execution_count": 15,
   "metadata": {},
   "outputs": [
    {
     "name": "stderr",
     "output_type": "stream",
     "text": [
      "  5%|██▏                                         | 1/20 [00:00<00:02,  9.02it/s]"
     ]
    },
    {
     "name": "stdout",
     "output_type": "stream",
     "text": [
      "0.9328723527789471\n"
     ]
    },
    {
     "name": "stderr",
     "output_type": "stream",
     "text": [
      "\r",
      " 10%|████▍                                       | 2/20 [00:00<00:07,  2.43it/s]"
     ]
    },
    {
     "name": "stdout",
     "output_type": "stream",
     "text": [
      "0.9541299551478379\n"
     ]
    },
    {
     "name": "stderr",
     "output_type": "stream",
     "text": [
      "\r",
      " 15%|██████▌                                     | 3/20 [00:02<00:14,  1.19it/s]"
     ]
    },
    {
     "name": "stdout",
     "output_type": "stream",
     "text": [
      "0.9560332689823349\n"
     ]
    },
    {
     "name": "stderr",
     "output_type": "stream",
     "text": [
      "\r",
      " 20%|████████▊                                   | 4/20 [00:04<00:23,  1.45s/it]"
     ]
    },
    {
     "name": "stdout",
     "output_type": "stream",
     "text": [
      "0.956978575472109\n"
     ]
    },
    {
     "name": "stderr",
     "output_type": "stream",
     "text": [
      "\r",
      " 25%|███████████                                 | 5/20 [00:08<00:34,  2.30s/it]"
     ]
    },
    {
     "name": "stdout",
     "output_type": "stream",
     "text": [
      "0.9579964582758771\n"
     ]
    },
    {
     "name": "stderr",
     "output_type": "stream",
     "text": [
      "\r",
      " 30%|█████████████▏                              | 6/20 [00:13<00:48,  3.44s/it]"
     ]
    },
    {
     "name": "stdout",
     "output_type": "stream",
     "text": [
      "0.9579946438680272\n"
     ]
    },
    {
     "name": "stderr",
     "output_type": "stream",
     "text": [
      "\r",
      " 35%|███████████████▍                            | 7/20 [00:21<01:03,  4.88s/it]"
     ]
    },
    {
     "name": "stdout",
     "output_type": "stream",
     "text": [
      "0.9585171933287853\n"
     ]
    },
    {
     "name": "stderr",
     "output_type": "stream",
     "text": [
      "\r",
      " 40%|█████████████████▌                          | 8/20 [00:32<01:19,  6.60s/it]"
     ]
    },
    {
     "name": "stdout",
     "output_type": "stream",
     "text": [
      "0.9590342995659936\n"
     ]
    },
    {
     "name": "stderr",
     "output_type": "stream",
     "text": [
      "\r",
      " 45%|███████████████████▊                        | 9/20 [00:44<01:33,  8.53s/it]"
     ]
    },
    {
     "name": "stdout",
     "output_type": "stream",
     "text": [
      "0.9590560724601919\n"
     ]
    },
    {
     "name": "stderr",
     "output_type": "stream",
     "text": [
      "\r",
      " 50%|█████████████████████▌                     | 10/20 [01:00<01:46, 10.70s/it]"
     ]
    },
    {
     "name": "stdout",
     "output_type": "stream",
     "text": [
      "0.9593754082417663\n"
     ]
    },
    {
     "name": "stderr",
     "output_type": "stream",
     "text": [
      "\r",
      " 55%|███████████████████████▋                   | 11/20 [01:19<01:58, 13.14s/it]"
     ]
    },
    {
     "name": "stdout",
     "output_type": "stream",
     "text": [
      "0.9594969735677065\n"
     ]
    },
    {
     "name": "stderr",
     "output_type": "stream",
     "text": [
      "\r",
      " 60%|█████████████████████████▊                 | 12/20 [01:42<02:09, 16.14s/it]"
     ]
    },
    {
     "name": "stdout",
     "output_type": "stream",
     "text": [
      "0.9597292177724878\n"
     ]
    },
    {
     "name": "stderr",
     "output_type": "stream",
     "text": [
      "\r",
      " 65%|███████████████████████████▉               | 13/20 [02:09<02:17, 19.66s/it]"
     ]
    },
    {
     "name": "stdout",
     "output_type": "stream",
     "text": [
      "0.9595078600148056\n"
     ]
    },
    {
     "name": "stderr",
     "output_type": "stream",
     "text": [
      "\r",
      " 70%|██████████████████████████████             | 14/20 [02:43<02:22, 23.81s/it]"
     ]
    },
    {
     "name": "stdout",
     "output_type": "stream",
     "text": [
      "0.9597165169175388\n"
     ]
    },
    {
     "name": "stderr",
     "output_type": "stream",
     "text": [
      "\r",
      " 75%|████████████████████████████████▎          | 15/20 [03:23<02:24, 28.86s/it]"
     ]
    },
    {
     "name": "stdout",
     "output_type": "stream",
     "text": [
      "0.9597890932315329\n"
     ]
    },
    {
     "name": "stderr",
     "output_type": "stream",
     "text": [
      "\r",
      " 80%|██████████████████████████████████▍        | 16/20 [04:10<02:17, 34.37s/it]"
     ]
    },
    {
     "name": "stdout",
     "output_type": "stream",
     "text": [
      "0.9597709491530344\n"
     ]
    },
    {
     "name": "stderr",
     "output_type": "stream",
     "text": [
      "\r",
      " 85%|████████████████████████████████████▌      | 17/20 [05:08<02:04, 41.45s/it]"
     ]
    },
    {
     "name": "stdout",
     "output_type": "stream",
     "text": [
      "0.9599832348714673\n"
     ]
    },
    {
     "name": "stderr",
     "output_type": "stream",
     "text": [
      "\r",
      " 90%|██████████████████████████████████████▋    | 18/20 [06:16<01:38, 49.26s/it]"
     ]
    },
    {
     "name": "stdout",
     "output_type": "stream",
     "text": [
      "0.9599015865182239\n"
     ]
    },
    {
     "name": "stderr",
     "output_type": "stream",
     "text": [
      "\r",
      " 95%|████████████████████████████████████████▊  | 19/20 [07:35<00:58, 58.29s/it]"
     ]
    },
    {
     "name": "stdout",
     "output_type": "stream",
     "text": [
      "0.9603297867707895\n"
     ]
    },
    {
     "name": "stderr",
     "output_type": "stream",
     "text": [
      "100%|███████████████████████████████████████████| 20/20 [09:10<00:00, 27.54s/it]"
     ]
    },
    {
     "name": "stdout",
     "output_type": "stream",
     "text": [
      "0.9592901310728231\n"
     ]
    },
    {
     "name": "stderr",
     "output_type": "stream",
     "text": [
      "\n"
     ]
    }
   ],
   "source": [
    "new_acc_lst = []\n",
    "for p in tqdm(new_scale_percent_lst):\n",
    "    new_mmask = mask_downsampling(mmask, p)\n",
    "    new_nmmask = mask_downsampling(nmmask, p)\n",
    "    new_m_image = image_downsampling(m_image, p)\n",
    "    new_nm_image = image_downsampling(nm_image, p)\n",
    "    #reshape\n",
    "    new_m_idx = np.squeeze(((reshape_as_image(new_mmask) == 1)), axis=-1) \n",
    "    new_nm_idx = np.squeeze((reshape_as_image(new_nmmask) == 1), axis=-1)\n",
    "    new_m_pix = reshape_as_image(new_m_image)[new_m_idx]\n",
    "    new_nm_pix = reshape_as_image(new_nm_image)[new_nm_idx]\n",
    "    new_m_pix = new_m_pix[np.all(new_m_pix != 0, axis=1)]\n",
    "    new_nm_pix = new_nm_pix[np.all(new_nm_pix != 0, axis=1)]\n",
    "    new_x = np.concatenate((new_m_pix, new_nm_pix), axis = 0)\n",
    "    new_y = np.concatenate((np.zeros((new_m_pix.shape[0]))+1, np.zeros((new_nm_pix.shape[0]))))\n",
    "    new_x_train, new_x_test, new_y_train, new_y_test = train_test_split(new_x, new_y, test_size=0.20, random_state=42)\n",
    "    #train with XGBoost\n",
    "    new_xgb_model = XGBClassifier()\n",
    "    new_xgb_model.fit(new_x_train, new_y_train)\n",
    "    y_pred = new_xgb_model.predict(x_test)\n",
    "    new_acc = (y_pred==y_test).mean()\n",
    "    print(new_acc)\n",
    "    new_acc_lst.append(new_acc)"
   ]
  },
  {
   "cell_type": "code",
   "execution_count": 107,
   "metadata": {},
   "outputs": [
    {
     "name": "stderr",
     "output_type": "stream",
     "text": [
      "  5%|██▏                                         | 1/20 [00:18<05:44, 18.12s/it]"
     ]
    },
    {
     "name": "stdout",
     "output_type": "stream",
     "text": [
      "0.9425939500384655\n"
     ]
    },
    {
     "name": "stderr",
     "output_type": "stream",
     "text": [
      "\r",
      " 10%|████▍                                       | 2/20 [00:48<07:31, 25.08s/it]"
     ]
    },
    {
     "name": "stdout",
     "output_type": "stream",
     "text": [
      "0.9553564948543394\n"
     ]
    },
    {
     "name": "stderr",
     "output_type": "stream",
     "text": [
      "\r",
      " 15%|██████▌                                     | 3/20 [01:20<08:04, 28.53s/it]"
     ]
    },
    {
     "name": "stdout",
     "output_type": "stream",
     "text": [
      "0.957301540069383\n"
     ]
    },
    {
     "name": "stderr",
     "output_type": "stream",
     "text": [
      "\r",
      " 20%|████████▊                                   | 4/20 [01:52<07:59, 30.00s/it]"
     ]
    },
    {
     "name": "stdout",
     "output_type": "stream",
     "text": [
      "0.9584881628031876\n"
     ]
    },
    {
     "name": "stderr",
     "output_type": "stream",
     "text": [
      "\r",
      " 25%|███████████                                 | 5/20 [02:26<07:50, 31.34s/it]"
     ]
    },
    {
     "name": "stdout",
     "output_type": "stream",
     "text": [
      "0.9595985804072983\n"
     ]
    },
    {
     "name": "stderr",
     "output_type": "stream",
     "text": [
      "\r",
      " 30%|█████████████▏                              | 6/20 [03:00<07:30, 32.18s/it]"
     ]
    },
    {
     "name": "stdout",
     "output_type": "stream",
     "text": [
      "0.9602354375625971\n"
     ]
    },
    {
     "name": "stderr",
     "output_type": "stream",
     "text": [
      "\r",
      " 35%|███████████████▍                            | 7/20 [03:35<07:10, 33.09s/it]"
     ]
    },
    {
     "name": "stdout",
     "output_type": "stream",
     "text": [
      "0.9610646219499804\n"
     ]
    },
    {
     "name": "stderr",
     "output_type": "stream",
     "text": [
      "\r",
      " 40%|█████████████████▌                          | 8/20 [04:10<06:45, 33.75s/it]"
     ]
    },
    {
     "name": "stdout",
     "output_type": "stream",
     "text": [
      "0.9617305096308769\n"
     ]
    },
    {
     "name": "stderr",
     "output_type": "stream",
     "text": [
      "\r",
      " 45%|███████████████████▊                        | 9/20 [04:46<06:17, 34.33s/it]"
     ]
    },
    {
     "name": "stdout",
     "output_type": "stream",
     "text": [
      "0.9623419650762777\n"
     ]
    },
    {
     "name": "stderr",
     "output_type": "stream",
     "text": [
      "\r",
      " 50%|█████████████████████▌                     | 10/20 [05:21<05:47, 34.75s/it]"
     ]
    },
    {
     "name": "stdout",
     "output_type": "stream",
     "text": [
      "0.9630405120984715\n"
     ]
    },
    {
     "name": "stderr",
     "output_type": "stream",
     "text": [
      "\r",
      " 55%|███████████████████████▋                   | 11/20 [05:56<05:12, 34.71s/it]"
     ]
    },
    {
     "name": "stdout",
     "output_type": "stream",
     "text": [
      "0.9639059846428519\n"
     ]
    },
    {
     "name": "stderr",
     "output_type": "stream",
     "text": [
      "\r",
      " 60%|█████████████████████████▊                 | 12/20 [06:33<04:42, 35.33s/it]"
     ]
    },
    {
     "name": "stdout",
     "output_type": "stream",
     "text": [
      "0.9641128271377353\n"
     ]
    },
    {
     "name": "stderr",
     "output_type": "stream",
     "text": [
      "\r",
      " 65%|███████████████████████████▉               | 13/20 [07:10<04:10, 35.76s/it]"
     ]
    },
    {
     "name": "stdout",
     "output_type": "stream",
     "text": [
      "0.9643704730524146\n"
     ]
    },
    {
     "name": "stderr",
     "output_type": "stream",
     "text": [
      "\r",
      " 70%|██████████████████████████████             | 14/20 [07:45<03:34, 35.80s/it]"
     ]
    },
    {
     "name": "stdout",
     "output_type": "stream",
     "text": [
      "0.9651923998083985\n"
     ]
    },
    {
     "name": "stderr",
     "output_type": "stream",
     "text": [
      "\r",
      " 75%|████████████████████████████████▎          | 15/20 [08:22<03:00, 36.13s/it]"
     ]
    },
    {
     "name": "stdout",
     "output_type": "stream",
     "text": [
      "0.9655661678254684\n"
     ]
    },
    {
     "name": "stderr",
     "output_type": "stream",
     "text": [
      "\r",
      " 80%|██████████████████████████████████▍        | 16/20 [08:59<02:25, 36.34s/it]"
     ]
    },
    {
     "name": "stdout",
     "output_type": "stream",
     "text": [
      "0.9659054620933912\n"
     ]
    },
    {
     "name": "stderr",
     "output_type": "stream",
     "text": [
      "\r",
      " 85%|████████████████████████████████████▌      | 17/20 [09:37<01:50, 36.86s/it]"
     ]
    },
    {
     "name": "stdout",
     "output_type": "stream",
     "text": [
      "0.9663137038596084\n"
     ]
    },
    {
     "name": "stderr",
     "output_type": "stream",
     "text": [
      "\r",
      " 90%|██████████████████████████████████████▋    | 18/20 [10:14<01:13, 36.95s/it]"
     ]
    },
    {
     "name": "stdout",
     "output_type": "stream",
     "text": [
      "0.9667092447708766\n"
     ]
    },
    {
     "name": "stderr",
     "output_type": "stream",
     "text": [
      "\r",
      " 95%|████████████████████████████████████████▊  | 19/20 [10:53<00:37, 37.56s/it]"
     ]
    },
    {
     "name": "stdout",
     "output_type": "stream",
     "text": [
      "0.9672227221923853\n"
     ]
    },
    {
     "name": "stderr",
     "output_type": "stream",
     "text": [
      "100%|███████████████████████████████████████████| 20/20 [11:38<00:00, 34.93s/it]"
     ]
    },
    {
     "name": "stdout",
     "output_type": "stream",
     "text": [
      "0.9626431567793535\n"
     ]
    },
    {
     "name": "stderr",
     "output_type": "stream",
     "text": [
      "\n"
     ]
    }
   ],
   "source": [
    "new_acc_lst = []\n",
    "for p in tqdm(new_scale_percent_lst):\n",
    "    new_mmask = mask_downsampling(mmask, p)\n",
    "    new_nmmask = mask_downsampling(nmmask, p)\n",
    "    new_m_image = image_downsampling(m_image, p)\n",
    "    new_nm_image = image_downsampling(nm_image, p)\n",
    "    #reshape\n",
    "    new_m_idx = np.squeeze(((reshape_as_image(new_mmask) == 1)), axis=-1) \n",
    "    new_nm_idx = np.squeeze((reshape_as_image(new_nmmask) == 1), axis=-1)\n",
    "    new_m_pix = reshape_as_image(new_m_image)[new_m_idx]\n",
    "    new_nm_pix = reshape_as_image(new_nm_image)[new_nm_idx]\n",
    "    new_m_pix = new_m_pix[np.all(new_m_pix != 0, axis=1)]\n",
    "    new_nm_pix = new_nm_pix[np.all(new_nm_pix != 0, axis=1)]\n",
    "    new_x = np.concatenate((new_m_pix, new_nm_pix), axis = 0)\n",
    "    new_y = np.concatenate((np.zeros((new_m_pix.shape[0]))+1, np.zeros((new_nm_pix.shape[0]))))\n",
    "    new_x_train, new_x_test, new_y_train, new_y_test = train_test_split(new_x, new_y, test_size=0.20, random_state=42)\n",
    "    #train with ERT\n",
    "    new_clf = ExtraTreesClassifier(n_jobs=4)\n",
    "    new_clf.fit(new_x_train, new_y_train)\n",
    "    y_pred = new_clf.predict(x_test)\n",
    "    new_acc = (y_pred==y_test).mean()\n",
    "    print(new_acc)\n",
    "    new_acc_lst.append(new_acc)"
   ]
  },
  {
   "cell_type": "code",
   "execution_count": 15,
   "metadata": {},
   "outputs": [],
   "source": [
    "y_test_1 = np.array([y_test])\n",
    "width_out = y_test_1.shape[1]\n",
    "height_out = y_test_1.shape[0]\n",
    "dim_out = (width_out, height_out)"
   ]
  },
  {
   "cell_type": "code",
   "execution_count": 17,
   "metadata": {},
   "outputs": [
    {
     "ename": "NameError",
     "evalue": "name 'y_pred' is not defined",
     "output_type": "error",
     "traceback": [
      "\u001b[0;31m---------------------------------------------------------------------------\u001b[0m",
      "\u001b[0;31mNameError\u001b[0m                                 Traceback (most recent call last)",
      "Input \u001b[0;32mIn [17]\u001b[0m, in \u001b[0;36m<cell line: 1>\u001b[0;34m()\u001b[0m\n\u001b[0;32m----> 1\u001b[0m y_pred_1\u001b[38;5;241m=\u001b[39m cv2\u001b[38;5;241m.\u001b[39mresize(\u001b[43my_pred\u001b[49m, dim_out, interpolation \u001b[38;5;241m=\u001b[39m cv2\u001b[38;5;241m.\u001b[39mINTER_NEAREST)\n",
      "\u001b[0;31mNameError\u001b[0m: name 'y_pred' is not defined"
     ]
    }
   ],
   "source": [
    "y_pred_1= cv2.resize(y_pred, dim_out, interpolation = cv2.INTER_NEAREST)"
   ]
  },
  {
   "cell_type": "code",
   "execution_count": 20,
   "metadata": {},
   "outputs": [
    {
     "data": {
      "text/plain": [
       "array([1., 1., 1., ..., 0., 0., 0.])"
      ]
     },
     "execution_count": 20,
     "metadata": {},
     "output_type": "execute_result"
    }
   ],
   "source": [
    "cv2.resize(np.identity(2), dim_out, interpolation = cv2.INTER_NEAREST)[0]"
   ]
  },
  {
   "cell_type": "code",
   "execution_count": 26,
   "metadata": {},
   "outputs": [
    {
     "name": "stderr",
     "output_type": "stream",
     "text": [
      " 10%|████▍                                       | 2/20 [00:00<00:02,  8.87it/s]"
     ]
    },
    {
     "name": "stdout",
     "output_type": "stream",
     "text": [
      "0.1670597883674684\n",
      "0.8329402116325316\n"
     ]
    },
    {
     "name": "stderr",
     "output_type": "stream",
     "text": [
      "\r",
      " 15%|██████▌                                     | 3/20 [00:00<00:03,  5.49it/s]"
     ]
    },
    {
     "name": "stdout",
     "output_type": "stream",
     "text": [
      "0.1670597883674684\n"
     ]
    },
    {
     "name": "stderr",
     "output_type": "stream",
     "text": [
      "\r",
      " 20%|████████▊                                   | 4/20 [00:01<00:05,  2.98it/s]"
     ]
    },
    {
     "name": "stdout",
     "output_type": "stream",
     "text": [
      "0.8329402116325316\n"
     ]
    },
    {
     "name": "stderr",
     "output_type": "stream",
     "text": [
      "\r",
      " 25%|███████████                                 | 5/20 [00:02<00:08,  1.81it/s]"
     ]
    },
    {
     "name": "stdout",
     "output_type": "stream",
     "text": [
      "0.8329402116325316\n"
     ]
    },
    {
     "name": "stderr",
     "output_type": "stream",
     "text": [
      "\r",
      " 30%|█████████████▏                              | 6/20 [00:03<00:11,  1.20it/s]"
     ]
    },
    {
     "name": "stdout",
     "output_type": "stream",
     "text": [
      "0.8329402116325316\n"
     ]
    },
    {
     "name": "stderr",
     "output_type": "stream",
     "text": [
      "\r",
      " 35%|███████████████▍                            | 7/20 [00:05<00:16,  1.24s/it]"
     ]
    },
    {
     "name": "stdout",
     "output_type": "stream",
     "text": [
      "0.8329402116325316\n"
     ]
    },
    {
     "name": "stderr",
     "output_type": "stream",
     "text": [
      "\r",
      " 40%|█████████████████▌                          | 8/20 [00:08<00:21,  1.80s/it]"
     ]
    },
    {
     "name": "stdout",
     "output_type": "stream",
     "text": [
      "0.8329402116325316\n"
     ]
    },
    {
     "name": "stderr",
     "output_type": "stream",
     "text": [
      "\r",
      " 45%|███████████████████▊                        | 9/20 [00:12<00:28,  2.61s/it]"
     ]
    },
    {
     "name": "stdout",
     "output_type": "stream",
     "text": [
      "0.8329402116325316\n"
     ]
    },
    {
     "name": "stderr",
     "output_type": "stream",
     "text": [
      "\r",
      " 50%|█████████████████████▌                     | 10/20 [00:19<00:37,  3.78s/it]"
     ]
    },
    {
     "name": "stdout",
     "output_type": "stream",
     "text": [
      "0.8329402116325316\n"
     ]
    },
    {
     "name": "stderr",
     "output_type": "stream",
     "text": [
      "\r",
      " 55%|███████████████████████▋                   | 11/20 [00:27<00:45,  5.05s/it]"
     ]
    },
    {
     "name": "stdout",
     "output_type": "stream",
     "text": [
      "0.8329402116325316\n"
     ]
    },
    {
     "name": "stderr",
     "output_type": "stream",
     "text": [
      "\r",
      " 60%|█████████████████████████▊                 | 12/20 [00:37<00:53,  6.66s/it]"
     ]
    },
    {
     "name": "stdout",
     "output_type": "stream",
     "text": [
      "0.8329402116325316\n"
     ]
    },
    {
     "name": "stderr",
     "output_type": "stream",
     "text": [
      "\r",
      " 65%|███████████████████████████▉               | 13/20 [00:50<00:59,  8.56s/it]"
     ]
    },
    {
     "name": "stdout",
     "output_type": "stream",
     "text": [
      "0.1670597883674684\n"
     ]
    },
    {
     "name": "stderr",
     "output_type": "stream",
     "text": [
      "\r",
      " 70%|██████████████████████████████             | 14/20 [01:05<01:03, 10.51s/it]"
     ]
    },
    {
     "name": "stdout",
     "output_type": "stream",
     "text": [
      "0.1670597883674684\n"
     ]
    },
    {
     "name": "stderr",
     "output_type": "stream",
     "text": [
      " 70%|██████████████████████████████             | 14/20 [01:14<00:31,  5.33s/it]\n"
     ]
    },
    {
     "ename": "KeyboardInterrupt",
     "evalue": "",
     "output_type": "error",
     "traceback": [
      "\u001b[0;31m---------------------------------------------------------------------------\u001b[0m",
      "\u001b[0;31mKeyboardInterrupt\u001b[0m                         Traceback (most recent call last)",
      "Input \u001b[0;32mIn [26]\u001b[0m, in \u001b[0;36m<cell line: 2>\u001b[0;34m()\u001b[0m\n\u001b[1;32m     17\u001b[0m \u001b[38;5;66;03m#train with ERT\u001b[39;00m\n\u001b[1;32m     18\u001b[0m new_clf \u001b[38;5;241m=\u001b[39m ExtraTreesClassifier(n_jobs\u001b[38;5;241m=\u001b[39m\u001b[38;5;241m4\u001b[39m)\n\u001b[0;32m---> 19\u001b[0m \u001b[43mnew_clf\u001b[49m\u001b[38;5;241;43m.\u001b[39;49m\u001b[43mfit\u001b[49m\u001b[43m(\u001b[49m\u001b[43mnew_x_train\u001b[49m\u001b[43m,\u001b[49m\u001b[43m \u001b[49m\u001b[43mnew_y_train\u001b[49m\u001b[43m)\u001b[49m\n\u001b[1;32m     20\u001b[0m new_y_pred \u001b[38;5;241m=\u001b[39m new_clf\u001b[38;5;241m.\u001b[39mpredict(new_x_test)\n\u001b[1;32m     21\u001b[0m new_y_pred_1\u001b[38;5;241m=\u001b[39m cv2\u001b[38;5;241m.\u001b[39mresize(new_y_pred, dim_out, interpolation \u001b[38;5;241m=\u001b[39m cv2\u001b[38;5;241m.\u001b[39mINTER_NEAREST)\n",
      "File \u001b[0;32m~/Library/Python/3.8/lib/python/site-packages/sklearn/ensemble/_forest.py:473\u001b[0m, in \u001b[0;36mBaseForest.fit\u001b[0;34m(self, X, y, sample_weight)\u001b[0m\n\u001b[1;32m    462\u001b[0m trees \u001b[38;5;241m=\u001b[39m [\n\u001b[1;32m    463\u001b[0m     \u001b[38;5;28mself\u001b[39m\u001b[38;5;241m.\u001b[39m_make_estimator(append\u001b[38;5;241m=\u001b[39m\u001b[38;5;28;01mFalse\u001b[39;00m, random_state\u001b[38;5;241m=\u001b[39mrandom_state)\n\u001b[1;32m    464\u001b[0m     \u001b[38;5;28;01mfor\u001b[39;00m i \u001b[38;5;129;01min\u001b[39;00m \u001b[38;5;28mrange\u001b[39m(n_more_estimators)\n\u001b[1;32m    465\u001b[0m ]\n\u001b[1;32m    467\u001b[0m \u001b[38;5;66;03m# Parallel loop: we prefer the threading backend as the Cython code\u001b[39;00m\n\u001b[1;32m    468\u001b[0m \u001b[38;5;66;03m# for fitting the trees is internally releasing the Python GIL\u001b[39;00m\n\u001b[1;32m    469\u001b[0m \u001b[38;5;66;03m# making threading more efficient than multiprocessing in\u001b[39;00m\n\u001b[1;32m    470\u001b[0m \u001b[38;5;66;03m# that case. However, for joblib 0.12+ we respect any\u001b[39;00m\n\u001b[1;32m    471\u001b[0m \u001b[38;5;66;03m# parallel_backend contexts set at a higher level,\u001b[39;00m\n\u001b[1;32m    472\u001b[0m \u001b[38;5;66;03m# since correctness does not rely on using threads.\u001b[39;00m\n\u001b[0;32m--> 473\u001b[0m trees \u001b[38;5;241m=\u001b[39m \u001b[43mParallel\u001b[49m\u001b[43m(\u001b[49m\n\u001b[1;32m    474\u001b[0m \u001b[43m    \u001b[49m\u001b[43mn_jobs\u001b[49m\u001b[38;5;241;43m=\u001b[39;49m\u001b[38;5;28;43mself\u001b[39;49m\u001b[38;5;241;43m.\u001b[39;49m\u001b[43mn_jobs\u001b[49m\u001b[43m,\u001b[49m\n\u001b[1;32m    475\u001b[0m \u001b[43m    \u001b[49m\u001b[43mverbose\u001b[49m\u001b[38;5;241;43m=\u001b[39;49m\u001b[38;5;28;43mself\u001b[39;49m\u001b[38;5;241;43m.\u001b[39;49m\u001b[43mverbose\u001b[49m\u001b[43m,\u001b[49m\n\u001b[1;32m    476\u001b[0m \u001b[43m    \u001b[49m\u001b[43mprefer\u001b[49m\u001b[38;5;241;43m=\u001b[39;49m\u001b[38;5;124;43m\"\u001b[39;49m\u001b[38;5;124;43mthreads\u001b[39;49m\u001b[38;5;124;43m\"\u001b[39;49m\u001b[43m,\u001b[49m\n\u001b[1;32m    477\u001b[0m \u001b[43m\u001b[49m\u001b[43m)\u001b[49m\u001b[43m(\u001b[49m\n\u001b[1;32m    478\u001b[0m \u001b[43m    \u001b[49m\u001b[43mdelayed\u001b[49m\u001b[43m(\u001b[49m\u001b[43m_parallel_build_trees\u001b[49m\u001b[43m)\u001b[49m\u001b[43m(\u001b[49m\n\u001b[1;32m    479\u001b[0m \u001b[43m        \u001b[49m\u001b[43mt\u001b[49m\u001b[43m,\u001b[49m\n\u001b[1;32m    480\u001b[0m \u001b[43m        \u001b[49m\u001b[38;5;28;43mself\u001b[39;49m\u001b[38;5;241;43m.\u001b[39;49m\u001b[43mbootstrap\u001b[49m\u001b[43m,\u001b[49m\n\u001b[1;32m    481\u001b[0m \u001b[43m        \u001b[49m\u001b[43mX\u001b[49m\u001b[43m,\u001b[49m\n\u001b[1;32m    482\u001b[0m \u001b[43m        \u001b[49m\u001b[43my\u001b[49m\u001b[43m,\u001b[49m\n\u001b[1;32m    483\u001b[0m \u001b[43m        \u001b[49m\u001b[43msample_weight\u001b[49m\u001b[43m,\u001b[49m\n\u001b[1;32m    484\u001b[0m \u001b[43m        \u001b[49m\u001b[43mi\u001b[49m\u001b[43m,\u001b[49m\n\u001b[1;32m    485\u001b[0m \u001b[43m        \u001b[49m\u001b[38;5;28;43mlen\u001b[39;49m\u001b[43m(\u001b[49m\u001b[43mtrees\u001b[49m\u001b[43m)\u001b[49m\u001b[43m,\u001b[49m\n\u001b[1;32m    486\u001b[0m \u001b[43m        \u001b[49m\u001b[43mverbose\u001b[49m\u001b[38;5;241;43m=\u001b[39;49m\u001b[38;5;28;43mself\u001b[39;49m\u001b[38;5;241;43m.\u001b[39;49m\u001b[43mverbose\u001b[49m\u001b[43m,\u001b[49m\n\u001b[1;32m    487\u001b[0m \u001b[43m        \u001b[49m\u001b[43mclass_weight\u001b[49m\u001b[38;5;241;43m=\u001b[39;49m\u001b[38;5;28;43mself\u001b[39;49m\u001b[38;5;241;43m.\u001b[39;49m\u001b[43mclass_weight\u001b[49m\u001b[43m,\u001b[49m\n\u001b[1;32m    488\u001b[0m \u001b[43m        \u001b[49m\u001b[43mn_samples_bootstrap\u001b[49m\u001b[38;5;241;43m=\u001b[39;49m\u001b[43mn_samples_bootstrap\u001b[49m\u001b[43m,\u001b[49m\n\u001b[1;32m    489\u001b[0m \u001b[43m    \u001b[49m\u001b[43m)\u001b[49m\n\u001b[1;32m    490\u001b[0m \u001b[43m    \u001b[49m\u001b[38;5;28;43;01mfor\u001b[39;49;00m\u001b[43m \u001b[49m\u001b[43mi\u001b[49m\u001b[43m,\u001b[49m\u001b[43m \u001b[49m\u001b[43mt\u001b[49m\u001b[43m \u001b[49m\u001b[38;5;129;43;01min\u001b[39;49;00m\u001b[43m \u001b[49m\u001b[38;5;28;43menumerate\u001b[39;49m\u001b[43m(\u001b[49m\u001b[43mtrees\u001b[49m\u001b[43m)\u001b[49m\n\u001b[1;32m    491\u001b[0m \u001b[43m\u001b[49m\u001b[43m)\u001b[49m\n\u001b[1;32m    493\u001b[0m \u001b[38;5;66;03m# Collect newly grown trees\u001b[39;00m\n\u001b[1;32m    494\u001b[0m \u001b[38;5;28mself\u001b[39m\u001b[38;5;241m.\u001b[39mestimators_\u001b[38;5;241m.\u001b[39mextend(trees)\n",
      "File \u001b[0;32m~/Library/Python/3.8/lib/python/site-packages/sklearn/utils/parallel.py:63\u001b[0m, in \u001b[0;36mParallel.__call__\u001b[0;34m(self, iterable)\u001b[0m\n\u001b[1;32m     58\u001b[0m config \u001b[38;5;241m=\u001b[39m get_config()\n\u001b[1;32m     59\u001b[0m iterable_with_config \u001b[38;5;241m=\u001b[39m (\n\u001b[1;32m     60\u001b[0m     (_with_config(delayed_func, config), args, kwargs)\n\u001b[1;32m     61\u001b[0m     \u001b[38;5;28;01mfor\u001b[39;00m delayed_func, args, kwargs \u001b[38;5;129;01min\u001b[39;00m iterable\n\u001b[1;32m     62\u001b[0m )\n\u001b[0;32m---> 63\u001b[0m \u001b[38;5;28;01mreturn\u001b[39;00m \u001b[38;5;28;43msuper\u001b[39;49m\u001b[43m(\u001b[49m\u001b[43m)\u001b[49m\u001b[38;5;241;43m.\u001b[39;49m\u001b[38;5;21;43m__call__\u001b[39;49m\u001b[43m(\u001b[49m\u001b[43miterable_with_config\u001b[49m\u001b[43m)\u001b[49m\n",
      "File \u001b[0;32m~/Library/Python/3.8/lib/python/site-packages/joblib/parallel.py:1098\u001b[0m, in \u001b[0;36mParallel.__call__\u001b[0;34m(self, iterable)\u001b[0m\n\u001b[1;32m   1095\u001b[0m     \u001b[38;5;28mself\u001b[39m\u001b[38;5;241m.\u001b[39m_iterating \u001b[38;5;241m=\u001b[39m \u001b[38;5;28;01mFalse\u001b[39;00m\n\u001b[1;32m   1097\u001b[0m \u001b[38;5;28;01mwith\u001b[39;00m \u001b[38;5;28mself\u001b[39m\u001b[38;5;241m.\u001b[39m_backend\u001b[38;5;241m.\u001b[39mretrieval_context():\n\u001b[0;32m-> 1098\u001b[0m     \u001b[38;5;28;43mself\u001b[39;49m\u001b[38;5;241;43m.\u001b[39;49m\u001b[43mretrieve\u001b[49m\u001b[43m(\u001b[49m\u001b[43m)\u001b[49m\n\u001b[1;32m   1099\u001b[0m \u001b[38;5;66;03m# Make sure that we get a last message telling us we are done\u001b[39;00m\n\u001b[1;32m   1100\u001b[0m elapsed_time \u001b[38;5;241m=\u001b[39m time\u001b[38;5;241m.\u001b[39mtime() \u001b[38;5;241m-\u001b[39m \u001b[38;5;28mself\u001b[39m\u001b[38;5;241m.\u001b[39m_start_time\n",
      "File \u001b[0;32m~/Library/Python/3.8/lib/python/site-packages/joblib/parallel.py:975\u001b[0m, in \u001b[0;36mParallel.retrieve\u001b[0;34m(self)\u001b[0m\n\u001b[1;32m    973\u001b[0m \u001b[38;5;28;01mtry\u001b[39;00m:\n\u001b[1;32m    974\u001b[0m     \u001b[38;5;28;01mif\u001b[39;00m \u001b[38;5;28mgetattr\u001b[39m(\u001b[38;5;28mself\u001b[39m\u001b[38;5;241m.\u001b[39m_backend, \u001b[38;5;124m'\u001b[39m\u001b[38;5;124msupports_timeout\u001b[39m\u001b[38;5;124m'\u001b[39m, \u001b[38;5;28;01mFalse\u001b[39;00m):\n\u001b[0;32m--> 975\u001b[0m         \u001b[38;5;28mself\u001b[39m\u001b[38;5;241m.\u001b[39m_output\u001b[38;5;241m.\u001b[39mextend(\u001b[43mjob\u001b[49m\u001b[38;5;241;43m.\u001b[39;49m\u001b[43mget\u001b[49m\u001b[43m(\u001b[49m\u001b[43mtimeout\u001b[49m\u001b[38;5;241;43m=\u001b[39;49m\u001b[38;5;28;43mself\u001b[39;49m\u001b[38;5;241;43m.\u001b[39;49m\u001b[43mtimeout\u001b[49m\u001b[43m)\u001b[49m)\n\u001b[1;32m    976\u001b[0m     \u001b[38;5;28;01melse\u001b[39;00m:\n\u001b[1;32m    977\u001b[0m         \u001b[38;5;28mself\u001b[39m\u001b[38;5;241m.\u001b[39m_output\u001b[38;5;241m.\u001b[39mextend(job\u001b[38;5;241m.\u001b[39mget())\n",
      "File \u001b[0;32m/Library/Developer/CommandLineTools/Library/Frameworks/Python3.framework/Versions/3.8/lib/python3.8/multiprocessing/pool.py:765\u001b[0m, in \u001b[0;36mApplyResult.get\u001b[0;34m(self, timeout)\u001b[0m\n\u001b[1;32m    764\u001b[0m \u001b[38;5;28;01mdef\u001b[39;00m \u001b[38;5;21mget\u001b[39m(\u001b[38;5;28mself\u001b[39m, timeout\u001b[38;5;241m=\u001b[39m\u001b[38;5;28;01mNone\u001b[39;00m):\n\u001b[0;32m--> 765\u001b[0m     \u001b[38;5;28;43mself\u001b[39;49m\u001b[38;5;241;43m.\u001b[39;49m\u001b[43mwait\u001b[49m\u001b[43m(\u001b[49m\u001b[43mtimeout\u001b[49m\u001b[43m)\u001b[49m\n\u001b[1;32m    766\u001b[0m     \u001b[38;5;28;01mif\u001b[39;00m \u001b[38;5;129;01mnot\u001b[39;00m \u001b[38;5;28mself\u001b[39m\u001b[38;5;241m.\u001b[39mready():\n\u001b[1;32m    767\u001b[0m         \u001b[38;5;28;01mraise\u001b[39;00m \u001b[38;5;167;01mTimeoutError\u001b[39;00m\n",
      "File \u001b[0;32m/Library/Developer/CommandLineTools/Library/Frameworks/Python3.framework/Versions/3.8/lib/python3.8/multiprocessing/pool.py:762\u001b[0m, in \u001b[0;36mApplyResult.wait\u001b[0;34m(self, timeout)\u001b[0m\n\u001b[1;32m    761\u001b[0m \u001b[38;5;28;01mdef\u001b[39;00m \u001b[38;5;21mwait\u001b[39m(\u001b[38;5;28mself\u001b[39m, timeout\u001b[38;5;241m=\u001b[39m\u001b[38;5;28;01mNone\u001b[39;00m):\n\u001b[0;32m--> 762\u001b[0m     \u001b[38;5;28;43mself\u001b[39;49m\u001b[38;5;241;43m.\u001b[39;49m\u001b[43m_event\u001b[49m\u001b[38;5;241;43m.\u001b[39;49m\u001b[43mwait\u001b[49m\u001b[43m(\u001b[49m\u001b[43mtimeout\u001b[49m\u001b[43m)\u001b[49m\n",
      "File \u001b[0;32m/Library/Developer/CommandLineTools/Library/Frameworks/Python3.framework/Versions/3.8/lib/python3.8/threading.py:558\u001b[0m, in \u001b[0;36mEvent.wait\u001b[0;34m(self, timeout)\u001b[0m\n\u001b[1;32m    556\u001b[0m signaled \u001b[38;5;241m=\u001b[39m \u001b[38;5;28mself\u001b[39m\u001b[38;5;241m.\u001b[39m_flag\n\u001b[1;32m    557\u001b[0m \u001b[38;5;28;01mif\u001b[39;00m \u001b[38;5;129;01mnot\u001b[39;00m signaled:\n\u001b[0;32m--> 558\u001b[0m     signaled \u001b[38;5;241m=\u001b[39m \u001b[38;5;28;43mself\u001b[39;49m\u001b[38;5;241;43m.\u001b[39;49m\u001b[43m_cond\u001b[49m\u001b[38;5;241;43m.\u001b[39;49m\u001b[43mwait\u001b[49m\u001b[43m(\u001b[49m\u001b[43mtimeout\u001b[49m\u001b[43m)\u001b[49m\n\u001b[1;32m    559\u001b[0m \u001b[38;5;28;01mreturn\u001b[39;00m signaled\n",
      "File \u001b[0;32m/Library/Developer/CommandLineTools/Library/Frameworks/Python3.framework/Versions/3.8/lib/python3.8/threading.py:302\u001b[0m, in \u001b[0;36mCondition.wait\u001b[0;34m(self, timeout)\u001b[0m\n\u001b[1;32m    300\u001b[0m \u001b[38;5;28;01mtry\u001b[39;00m:    \u001b[38;5;66;03m# restore state no matter what (e.g., KeyboardInterrupt)\u001b[39;00m\n\u001b[1;32m    301\u001b[0m     \u001b[38;5;28;01mif\u001b[39;00m timeout \u001b[38;5;129;01mis\u001b[39;00m \u001b[38;5;28;01mNone\u001b[39;00m:\n\u001b[0;32m--> 302\u001b[0m         \u001b[43mwaiter\u001b[49m\u001b[38;5;241;43m.\u001b[39;49m\u001b[43macquire\u001b[49m\u001b[43m(\u001b[49m\u001b[43m)\u001b[49m\n\u001b[1;32m    303\u001b[0m         gotit \u001b[38;5;241m=\u001b[39m \u001b[38;5;28;01mTrue\u001b[39;00m\n\u001b[1;32m    304\u001b[0m     \u001b[38;5;28;01melse\u001b[39;00m:\n",
      "\u001b[0;31mKeyboardInterrupt\u001b[0m: "
     ]
    }
   ],
   "source": [
    "new_acc_lst = []\n",
    "for p in tqdm(new_scale_percent_lst):\n",
    "    new_mmask = mask_downsampling(mmask, p)\n",
    "    new_nmmask = mask_downsampling(nmmask, p)\n",
    "    new_m_image = image_downsampling(m_image, p)\n",
    "    new_nm_image = image_downsampling(nm_image, p)\n",
    "    #reshape\n",
    "    new_m_idx = np.squeeze(((reshape_as_image(new_mmask) == 1)), axis=-1) \n",
    "    new_nm_idx = np.squeeze((reshape_as_image(new_nmmask) == 1), axis=-1)\n",
    "    new_m_pix = reshape_as_image(new_m_image)[new_m_idx]\n",
    "    new_nm_pix = reshape_as_image(new_nm_image)[new_nm_idx]\n",
    "    new_m_pix = new_m_pix[np.all(new_m_pix != 0, axis=1)]\n",
    "    new_nm_pix = new_nm_pix[np.all(new_nm_pix != 0, axis=1)]\n",
    "    new_x = np.concatenate((new_m_pix, new_nm_pix), axis = 0)\n",
    "    new_y = np.concatenate((np.zeros((new_m_pix.shape[0]))+1, np.zeros((new_nm_pix.shape[0]))))\n",
    "    new_x_train, new_x_test, new_y_train, new_y_test = train_test_split(new_x, new_y, test_size=0.20, random_state=42)\n",
    "    #train with ERT\n",
    "    new_clf = ExtraTreesClassifier(n_jobs=4)\n",
    "    new_clf.fit(new_x_train, new_y_train)\n",
    "    new_y_pred = new_clf.predict(new_x_test)\n",
    "    new_y_pred_1= cv2.resize(new_y_pred, dim_out, interpolation = cv2.INTER_NEAREST)\n",
    "    new_acc = (new_y_pred_1[0]==y_test).mean()\n",
    "    print(new_acc)\n",
    "    new_acc_lst.append(new_acc)"
   ]
  },
  {
   "cell_type": "code",
   "execution_count": 114,
   "metadata": {},
   "outputs": [],
   "source": [
    "new_df = pd.DataFrame()"
   ]
  },
  {
   "cell_type": "code",
   "execution_count": 117,
   "metadata": {},
   "outputs": [
    {
     "data": {
      "text/plain": [
       "array([0.01      , 0.06210526, 0.11421053, 0.16631579, 0.21842105,\n",
       "       0.27052632, 0.32263158, 0.37473684, 0.42684211, 0.47894737,\n",
       "       0.53105263, 0.58315789, 0.63526316, 0.68736842, 0.73947368,\n",
       "       0.79157895, 0.84368421, 0.89578947, 0.94789474, 1.        ])"
      ]
     },
     "execution_count": 117,
     "metadata": {},
     "output_type": "execute_result"
    }
   ],
   "source": [
    "new_scale_percent_lst"
   ]
  },
  {
   "cell_type": "code",
   "execution_count": 135,
   "metadata": {},
   "outputs": [
    {
     "data": {
      "image/png": "[encoded data removed]",
      "text/plain": [
       "<Figure size 432x288 with 1 Axes>"
      ]
     },
     "metadata": {
      "needs_background": "light"
     },
     "output_type": "display_data"
    }
   ],
   "source": [
    "plt.plot(new_scale_percent_lst[:-1], new_acc_lst[:-1], color = 'orange')\n",
    "plt.ylabel(\"accuracy\")\n",
    "plt.xlabel(\"lower resolution ratio\")\n",
    "plt.axvline(0.2, color='green', linestyle='dashed')\n",
    "plt.text(0.22, 0.955, 'ratio = 0.2', fontsize=8);"
   ]
  },
  {
   "cell_type": "code",
   "execution_count": 131,
   "metadata": {},
   "outputs": [
    {
     "data": {
      "image/png": "[encoded data removed]",
      "text/plain": [
       "<Figure size 432x288 with 1 Axes>"
      ]
     },
     "metadata": {
      "needs_background": "light"
     },
     "output_type": "display_data"
    }
   ],
   "source": [
    "new_df['accuracy'] = new_acc_lst[:-1]\n",
    "new_df['Lower resolution ratio'] = new_scale_percent_lst[:-1]\n",
    "new_df = new_df.set_index('Lower resolution ratio')\n",
    "new_df.plot(kind='line')\n",
    "plt.ylabel(\"Accuracy\")\n",
    "plt.axvline(0.2, color='green', linestyle='dashed')\n",
    "plt.text(0.22, 0.955, 'ratio = 0.2', fontsize=8);"
   ]
  },
  {
   "cell_type": "code",
   "execution_count": 108,
   "metadata": {},
   "outputs": [
    {
     "name": "stderr",
     "output_type": "stream",
     "text": [
      "  5%|██▏                                         | 1/20 [00:17<05:24, 17.08s/it]"
     ]
    },
    {
     "name": "stdout",
     "output_type": "stream",
     "text": [
      "1.0\n"
     ]
    },
    {
     "name": "stderr",
     "output_type": "stream",
     "text": [
      "\r",
      " 10%|████▍                                       | 2/20 [00:46<07:17, 24.31s/it]"
     ]
    },
    {
     "name": "stdout",
     "output_type": "stream",
     "text": [
      "1.0\n"
     ]
    },
    {
     "name": "stderr",
     "output_type": "stream",
     "text": [
      "\r",
      " 15%|██████▌                                     | 3/20 [01:16<07:36, 26.85s/it]"
     ]
    },
    {
     "name": "stdout",
     "output_type": "stream",
     "text": [
      "1.0\n"
     ]
    },
    {
     "name": "stderr",
     "output_type": "stream",
     "text": [
      "\r",
      " 20%|████████▊                                   | 4/20 [01:48<07:41, 28.83s/it]"
     ]
    },
    {
     "name": "stdout",
     "output_type": "stream",
     "text": [
      "1.0\n"
     ]
    },
    {
     "name": "stderr",
     "output_type": "stream",
     "text": [
      " 20%|████████▊                                   | 4/20 [01:57<07:49, 29.31s/it]\n"
     ]
    },
    {
     "ename": "KeyboardInterrupt",
     "evalue": "",
     "output_type": "error",
     "traceback": [
      "\u001b[0;31m---------------------------------------------------------------------------\u001b[0m",
      "\u001b[0;31mKeyboardInterrupt\u001b[0m                         Traceback (most recent call last)",
      "Input \u001b[0;32mIn [108]\u001b[0m, in \u001b[0;36m<cell line: 2>\u001b[0;34m()\u001b[0m\n\u001b[1;32m     17\u001b[0m \u001b[38;5;66;03m#train with ERT\u001b[39;00m\n\u001b[1;32m     18\u001b[0m new_clf \u001b[38;5;241m=\u001b[39m ExtraTreesClassifier(n_jobs\u001b[38;5;241m=\u001b[39m\u001b[38;5;241m4\u001b[39m)\n\u001b[0;32m---> 19\u001b[0m \u001b[43mnew_clf\u001b[49m\u001b[38;5;241;43m.\u001b[39;49m\u001b[43mfit\u001b[49m\u001b[43m(\u001b[49m\u001b[43mnew_x_train\u001b[49m\u001b[43m,\u001b[49m\u001b[43m \u001b[49m\u001b[43mnew_y_train\u001b[49m\u001b[43m)\u001b[49m\n\u001b[1;32m     20\u001b[0m new_y_pred \u001b[38;5;241m=\u001b[39m new_clf\u001b[38;5;241m.\u001b[39mpredict(new_x_test)\n\u001b[1;32m     21\u001b[0m new_acc \u001b[38;5;241m=\u001b[39m (new_y_pred\u001b[38;5;241m==\u001b[39mnew_y_test)\u001b[38;5;241m.\u001b[39mmean()\n",
      "File \u001b[0;32m~/Library/Python/3.8/lib/python/site-packages/sklearn/ensemble/_forest.py:473\u001b[0m, in \u001b[0;36mBaseForest.fit\u001b[0;34m(self, X, y, sample_weight)\u001b[0m\n\u001b[1;32m    462\u001b[0m trees \u001b[38;5;241m=\u001b[39m [\n\u001b[1;32m    463\u001b[0m     \u001b[38;5;28mself\u001b[39m\u001b[38;5;241m.\u001b[39m_make_estimator(append\u001b[38;5;241m=\u001b[39m\u001b[38;5;28;01mFalse\u001b[39;00m, random_state\u001b[38;5;241m=\u001b[39mrandom_state)\n\u001b[1;32m    464\u001b[0m     \u001b[38;5;28;01mfor\u001b[39;00m i \u001b[38;5;129;01min\u001b[39;00m \u001b[38;5;28mrange\u001b[39m(n_more_estimators)\n\u001b[1;32m    465\u001b[0m ]\n\u001b[1;32m    467\u001b[0m \u001b[38;5;66;03m# Parallel loop: we prefer the threading backend as the Cython code\u001b[39;00m\n\u001b[1;32m    468\u001b[0m \u001b[38;5;66;03m# for fitting the trees is internally releasing the Python GIL\u001b[39;00m\n\u001b[1;32m    469\u001b[0m \u001b[38;5;66;03m# making threading more efficient than multiprocessing in\u001b[39;00m\n\u001b[1;32m    470\u001b[0m \u001b[38;5;66;03m# that case. However, for joblib 0.12+ we respect any\u001b[39;00m\n\u001b[1;32m    471\u001b[0m \u001b[38;5;66;03m# parallel_backend contexts set at a higher level,\u001b[39;00m\n\u001b[1;32m    472\u001b[0m \u001b[38;5;66;03m# since correctness does not rely on using threads.\u001b[39;00m\n\u001b[0;32m--> 473\u001b[0m trees \u001b[38;5;241m=\u001b[39m \u001b[43mParallel\u001b[49m\u001b[43m(\u001b[49m\n\u001b[1;32m    474\u001b[0m \u001b[43m    \u001b[49m\u001b[43mn_jobs\u001b[49m\u001b[38;5;241;43m=\u001b[39;49m\u001b[38;5;28;43mself\u001b[39;49m\u001b[38;5;241;43m.\u001b[39;49m\u001b[43mn_jobs\u001b[49m\u001b[43m,\u001b[49m\n\u001b[1;32m    475\u001b[0m \u001b[43m    \u001b[49m\u001b[43mverbose\u001b[49m\u001b[38;5;241;43m=\u001b[39;49m\u001b[38;5;28;43mself\u001b[39;49m\u001b[38;5;241;43m.\u001b[39;49m\u001b[43mverbose\u001b[49m\u001b[43m,\u001b[49m\n\u001b[1;32m    476\u001b[0m \u001b[43m    \u001b[49m\u001b[43mprefer\u001b[49m\u001b[38;5;241;43m=\u001b[39;49m\u001b[38;5;124;43m\"\u001b[39;49m\u001b[38;5;124;43mthreads\u001b[39;49m\u001b[38;5;124;43m\"\u001b[39;49m\u001b[43m,\u001b[49m\n\u001b[1;32m    477\u001b[0m \u001b[43m\u001b[49m\u001b[43m)\u001b[49m\u001b[43m(\u001b[49m\n\u001b[1;32m    478\u001b[0m \u001b[43m    \u001b[49m\u001b[43mdelayed\u001b[49m\u001b[43m(\u001b[49m\u001b[43m_parallel_build_trees\u001b[49m\u001b[43m)\u001b[49m\u001b[43m(\u001b[49m\n\u001b[1;32m    479\u001b[0m \u001b[43m        \u001b[49m\u001b[43mt\u001b[49m\u001b[43m,\u001b[49m\n\u001b[1;32m    480\u001b[0m \u001b[43m        \u001b[49m\u001b[38;5;28;43mself\u001b[39;49m\u001b[38;5;241;43m.\u001b[39;49m\u001b[43mbootstrap\u001b[49m\u001b[43m,\u001b[49m\n\u001b[1;32m    481\u001b[0m \u001b[43m        \u001b[49m\u001b[43mX\u001b[49m\u001b[43m,\u001b[49m\n\u001b[1;32m    482\u001b[0m \u001b[43m        \u001b[49m\u001b[43my\u001b[49m\u001b[43m,\u001b[49m\n\u001b[1;32m    483\u001b[0m \u001b[43m        \u001b[49m\u001b[43msample_weight\u001b[49m\u001b[43m,\u001b[49m\n\u001b[1;32m    484\u001b[0m \u001b[43m        \u001b[49m\u001b[43mi\u001b[49m\u001b[43m,\u001b[49m\n\u001b[1;32m    485\u001b[0m \u001b[43m        \u001b[49m\u001b[38;5;28;43mlen\u001b[39;49m\u001b[43m(\u001b[49m\u001b[43mtrees\u001b[49m\u001b[43m)\u001b[49m\u001b[43m,\u001b[49m\n\u001b[1;32m    486\u001b[0m \u001b[43m        \u001b[49m\u001b[43mverbose\u001b[49m\u001b[38;5;241;43m=\u001b[39;49m\u001b[38;5;28;43mself\u001b[39;49m\u001b[38;5;241;43m.\u001b[39;49m\u001b[43mverbose\u001b[49m\u001b[43m,\u001b[49m\n\u001b[1;32m    487\u001b[0m \u001b[43m        \u001b[49m\u001b[43mclass_weight\u001b[49m\u001b[38;5;241;43m=\u001b[39;49m\u001b[38;5;28;43mself\u001b[39;49m\u001b[38;5;241;43m.\u001b[39;49m\u001b[43mclass_weight\u001b[49m\u001b[43m,\u001b[49m\n\u001b[1;32m    488\u001b[0m \u001b[43m        \u001b[49m\u001b[43mn_samples_bootstrap\u001b[49m\u001b[38;5;241;43m=\u001b[39;49m\u001b[43mn_samples_bootstrap\u001b[49m\u001b[43m,\u001b[49m\n\u001b[1;32m    489\u001b[0m \u001b[43m    \u001b[49m\u001b[43m)\u001b[49m\n\u001b[1;32m    490\u001b[0m \u001b[43m    \u001b[49m\u001b[38;5;28;43;01mfor\u001b[39;49;00m\u001b[43m \u001b[49m\u001b[43mi\u001b[49m\u001b[43m,\u001b[49m\u001b[43m \u001b[49m\u001b[43mt\u001b[49m\u001b[43m \u001b[49m\u001b[38;5;129;43;01min\u001b[39;49;00m\u001b[43m \u001b[49m\u001b[38;5;28;43menumerate\u001b[39;49m\u001b[43m(\u001b[49m\u001b[43mtrees\u001b[49m\u001b[43m)\u001b[49m\n\u001b[1;32m    491\u001b[0m \u001b[43m\u001b[49m\u001b[43m)\u001b[49m\n\u001b[1;32m    493\u001b[0m \u001b[38;5;66;03m# Collect newly grown trees\u001b[39;00m\n\u001b[1;32m    494\u001b[0m \u001b[38;5;28mself\u001b[39m\u001b[38;5;241m.\u001b[39mestimators_\u001b[38;5;241m.\u001b[39mextend(trees)\n",
      "File \u001b[0;32m~/Library/Python/3.8/lib/python/site-packages/sklearn/utils/parallel.py:63\u001b[0m, in \u001b[0;36mParallel.__call__\u001b[0;34m(self, iterable)\u001b[0m\n\u001b[1;32m     58\u001b[0m config \u001b[38;5;241m=\u001b[39m get_config()\n\u001b[1;32m     59\u001b[0m iterable_with_config \u001b[38;5;241m=\u001b[39m (\n\u001b[1;32m     60\u001b[0m     (_with_config(delayed_func, config), args, kwargs)\n\u001b[1;32m     61\u001b[0m     \u001b[38;5;28;01mfor\u001b[39;00m delayed_func, args, kwargs \u001b[38;5;129;01min\u001b[39;00m iterable\n\u001b[1;32m     62\u001b[0m )\n\u001b[0;32m---> 63\u001b[0m \u001b[38;5;28;01mreturn\u001b[39;00m \u001b[38;5;28;43msuper\u001b[39;49m\u001b[43m(\u001b[49m\u001b[43m)\u001b[49m\u001b[38;5;241;43m.\u001b[39;49m\u001b[38;5;21;43m__call__\u001b[39;49m\u001b[43m(\u001b[49m\u001b[43miterable_with_config\u001b[49m\u001b[43m)\u001b[49m\n",
      "File \u001b[0;32m~/Library/Python/3.8/lib/python/site-packages/joblib/parallel.py:1098\u001b[0m, in \u001b[0;36mParallel.__call__\u001b[0;34m(self, iterable)\u001b[0m\n\u001b[1;32m   1095\u001b[0m     \u001b[38;5;28mself\u001b[39m\u001b[38;5;241m.\u001b[39m_iterating \u001b[38;5;241m=\u001b[39m \u001b[38;5;28;01mFalse\u001b[39;00m\n\u001b[1;32m   1097\u001b[0m \u001b[38;5;28;01mwith\u001b[39;00m \u001b[38;5;28mself\u001b[39m\u001b[38;5;241m.\u001b[39m_backend\u001b[38;5;241m.\u001b[39mretrieval_context():\n\u001b[0;32m-> 1098\u001b[0m     \u001b[38;5;28;43mself\u001b[39;49m\u001b[38;5;241;43m.\u001b[39;49m\u001b[43mretrieve\u001b[49m\u001b[43m(\u001b[49m\u001b[43m)\u001b[49m\n\u001b[1;32m   1099\u001b[0m \u001b[38;5;66;03m# Make sure that we get a last message telling us we are done\u001b[39;00m\n\u001b[1;32m   1100\u001b[0m elapsed_time \u001b[38;5;241m=\u001b[39m time\u001b[38;5;241m.\u001b[39mtime() \u001b[38;5;241m-\u001b[39m \u001b[38;5;28mself\u001b[39m\u001b[38;5;241m.\u001b[39m_start_time\n",
      "File \u001b[0;32m~/Library/Python/3.8/lib/python/site-packages/joblib/parallel.py:975\u001b[0m, in \u001b[0;36mParallel.retrieve\u001b[0;34m(self)\u001b[0m\n\u001b[1;32m    973\u001b[0m \u001b[38;5;28;01mtry\u001b[39;00m:\n\u001b[1;32m    974\u001b[0m     \u001b[38;5;28;01mif\u001b[39;00m \u001b[38;5;28mgetattr\u001b[39m(\u001b[38;5;28mself\u001b[39m\u001b[38;5;241m.\u001b[39m_backend, \u001b[38;5;124m'\u001b[39m\u001b[38;5;124msupports_timeout\u001b[39m\u001b[38;5;124m'\u001b[39m, \u001b[38;5;28;01mFalse\u001b[39;00m):\n\u001b[0;32m--> 975\u001b[0m         \u001b[38;5;28mself\u001b[39m\u001b[38;5;241m.\u001b[39m_output\u001b[38;5;241m.\u001b[39mextend(\u001b[43mjob\u001b[49m\u001b[38;5;241;43m.\u001b[39;49m\u001b[43mget\u001b[49m\u001b[43m(\u001b[49m\u001b[43mtimeout\u001b[49m\u001b[38;5;241;43m=\u001b[39;49m\u001b[38;5;28;43mself\u001b[39;49m\u001b[38;5;241;43m.\u001b[39;49m\u001b[43mtimeout\u001b[49m\u001b[43m)\u001b[49m)\n\u001b[1;32m    976\u001b[0m     \u001b[38;5;28;01melse\u001b[39;00m:\n\u001b[1;32m    977\u001b[0m         \u001b[38;5;28mself\u001b[39m\u001b[38;5;241m.\u001b[39m_output\u001b[38;5;241m.\u001b[39mextend(job\u001b[38;5;241m.\u001b[39mget())\n",
      "File \u001b[0;32m/Library/Developer/CommandLineTools/Library/Frameworks/Python3.framework/Versions/3.8/lib/python3.8/multiprocessing/pool.py:765\u001b[0m, in \u001b[0;36mApplyResult.get\u001b[0;34m(self, timeout)\u001b[0m\n\u001b[1;32m    764\u001b[0m \u001b[38;5;28;01mdef\u001b[39;00m \u001b[38;5;21mget\u001b[39m(\u001b[38;5;28mself\u001b[39m, timeout\u001b[38;5;241m=\u001b[39m\u001b[38;5;28;01mNone\u001b[39;00m):\n\u001b[0;32m--> 765\u001b[0m     \u001b[38;5;28;43mself\u001b[39;49m\u001b[38;5;241;43m.\u001b[39;49m\u001b[43mwait\u001b[49m\u001b[43m(\u001b[49m\u001b[43mtimeout\u001b[49m\u001b[43m)\u001b[49m\n\u001b[1;32m    766\u001b[0m     \u001b[38;5;28;01mif\u001b[39;00m \u001b[38;5;129;01mnot\u001b[39;00m \u001b[38;5;28mself\u001b[39m\u001b[38;5;241m.\u001b[39mready():\n\u001b[1;32m    767\u001b[0m         \u001b[38;5;28;01mraise\u001b[39;00m \u001b[38;5;167;01mTimeoutError\u001b[39;00m\n",
      "File \u001b[0;32m/Library/Developer/CommandLineTools/Library/Frameworks/Python3.framework/Versions/3.8/lib/python3.8/multiprocessing/pool.py:762\u001b[0m, in \u001b[0;36mApplyResult.wait\u001b[0;34m(self, timeout)\u001b[0m\n\u001b[1;32m    761\u001b[0m \u001b[38;5;28;01mdef\u001b[39;00m \u001b[38;5;21mwait\u001b[39m(\u001b[38;5;28mself\u001b[39m, timeout\u001b[38;5;241m=\u001b[39m\u001b[38;5;28;01mNone\u001b[39;00m):\n\u001b[0;32m--> 762\u001b[0m     \u001b[38;5;28;43mself\u001b[39;49m\u001b[38;5;241;43m.\u001b[39;49m\u001b[43m_event\u001b[49m\u001b[38;5;241;43m.\u001b[39;49m\u001b[43mwait\u001b[49m\u001b[43m(\u001b[49m\u001b[43mtimeout\u001b[49m\u001b[43m)\u001b[49m\n",
      "File \u001b[0;32m/Library/Developer/CommandLineTools/Library/Frameworks/Python3.framework/Versions/3.8/lib/python3.8/threading.py:558\u001b[0m, in \u001b[0;36mEvent.wait\u001b[0;34m(self, timeout)\u001b[0m\n\u001b[1;32m    556\u001b[0m signaled \u001b[38;5;241m=\u001b[39m \u001b[38;5;28mself\u001b[39m\u001b[38;5;241m.\u001b[39m_flag\n\u001b[1;32m    557\u001b[0m \u001b[38;5;28;01mif\u001b[39;00m \u001b[38;5;129;01mnot\u001b[39;00m signaled:\n\u001b[0;32m--> 558\u001b[0m     signaled \u001b[38;5;241m=\u001b[39m \u001b[38;5;28;43mself\u001b[39;49m\u001b[38;5;241;43m.\u001b[39;49m\u001b[43m_cond\u001b[49m\u001b[38;5;241;43m.\u001b[39;49m\u001b[43mwait\u001b[49m\u001b[43m(\u001b[49m\u001b[43mtimeout\u001b[49m\u001b[43m)\u001b[49m\n\u001b[1;32m    559\u001b[0m \u001b[38;5;28;01mreturn\u001b[39;00m signaled\n",
      "File \u001b[0;32m/Library/Developer/CommandLineTools/Library/Frameworks/Python3.framework/Versions/3.8/lib/python3.8/threading.py:302\u001b[0m, in \u001b[0;36mCondition.wait\u001b[0;34m(self, timeout)\u001b[0m\n\u001b[1;32m    300\u001b[0m \u001b[38;5;28;01mtry\u001b[39;00m:    \u001b[38;5;66;03m# restore state no matter what (e.g., KeyboardInterrupt)\u001b[39;00m\n\u001b[1;32m    301\u001b[0m     \u001b[38;5;28;01mif\u001b[39;00m timeout \u001b[38;5;129;01mis\u001b[39;00m \u001b[38;5;28;01mNone\u001b[39;00m:\n\u001b[0;32m--> 302\u001b[0m         \u001b[43mwaiter\u001b[49m\u001b[38;5;241;43m.\u001b[39;49m\u001b[43macquire\u001b[49m\u001b[43m(\u001b[49m\u001b[43m)\u001b[49m\n\u001b[1;32m    303\u001b[0m         gotit \u001b[38;5;241m=\u001b[39m \u001b[38;5;28;01mTrue\u001b[39;00m\n\u001b[1;32m    304\u001b[0m     \u001b[38;5;28;01melse\u001b[39;00m:\n",
      "\u001b[0;31mKeyboardInterrupt\u001b[0m: "
     ]
    }
   ],
   "source": [
    "new_acc_lst1 = []\n",
    "for p in tqdm(new_scale_percent_lst):\n",
    "    new_mmask = mask_downsampling(mmask, p)\n",
    "    new_nmmask = mask_downsampling(nmmask, p)\n",
    "    new_m_image = image_downsampling(m_image, p)\n",
    "    new_nm_image = image_downsampling(nm_image, p)\n",
    "    #reshape\n",
    "    new_m_idx = np.squeeze(((reshape_as_image(new_mmask) == 1)), axis=-1) \n",
    "    new_nm_idx = np.squeeze((reshape_as_image(new_nmmask) == 1), axis=-1)\n",
    "    new_m_pix = reshape_as_image(new_m_image)[new_m_idx]\n",
    "    new_nm_pix = reshape_as_image(new_nm_image)[new_nm_idx]\n",
    "    new_m_pix = new_m_pix[np.all(new_m_pix != 0, axis=1)]\n",
    "    new_nm_pix = new_nm_pix[np.all(new_nm_pix != 0, axis=1)]\n",
    "    new_x = np.concatenate((new_m_pix, new_nm_pix), axis = 0)\n",
    "    new_y = np.concatenate((np.zeros((new_m_pix.shape[0]))+1, np.zeros((new_nm_pix.shape[0]))))\n",
    "    new_x_train, new_x_test, new_y_train, new_y_test = train_test_split(new_x, new_y, test_size=0.20, random_state=42)\n",
    "    #train with ERT\n",
    "    new_clf = ExtraTreesClassifier(n_jobs=4)\n",
    "    new_clf.fit(new_x_train, new_y_train)\n",
    "    new_y_pred = new_clf.predict(new_x_test)\n",
    "    new_acc = (new_y_pred==new_y_test).mean()\n",
    "    print(new_acc)\n",
    "    new_acc_lst1.append(new_acc)"
   ]
  },
  {
   "cell_type": "markdown",
   "metadata": {},
   "source": [
    "The accuracy should change from that high training accuracy if we are comparing to the original labels\n",
    "\n",
    "It may be a bit of a convoluted process but here is what I am thinking:\n",
    "\n",
    "1. Create training and test set of the original imagery (you will only be using the test set for this), use the same sample seed\n",
    "1. Downsample the training imagery to the lower resolution, create a separate train/test set. (you will only be using the training set for this)\n",
    "1. Train a model using the downsampled training set\n",
    "1. Classify the downsampled imagery, reshape it back to the original image, and upsample it\n",
    "1. Create a training and test set using the upsampled data and the original data using the original sample seed. The y_test from this should become your y_pred.\n",
    "1. Compare the y_test from 1 and the y_pred from 5\n",
    "\n",
    "So essentially your y_test is from the original dataset, and y_pred is from the downsampled -> upsampled -> reshaped data from the same indices"
   ]
  },
  {
   "cell_type": "code",
   "execution_count": null,
   "metadata": {},
   "outputs": [],
   "source": [
    "#1. Create training and test set of the original imagery \n",
    "#(you will only be using the test set for this), use the same sample seed\n",
    "m_idx = np.squeeze(((reshape_as_image(mmask) == 1)), axis=-1) \n",
    "nm_idx = np.squeeze((reshape_as_image(nmmask) == 1), axis=-1)\n",
    "m_pix = reshape_as_image(m_image)[m_idx]\n",
    "nm_pix = reshape_as_image(nm_image)[nm_idx]\n",
    "m_pix = m_pix[np.all(m_pix != 0, axis=1)]\n",
    "nm_pix = nm_pix[np.all(nm_pix != 0, axis=1)]\n",
    "x = np.concatenate((m_pix, nm_pix), axis = 0)\n",
    "y = np.concatenate((np.zeros((m_pix.shape[0]))+1, np.zeros((nm_pix.shape[0]))))\n",
    "#get all the pix of mangrove\n",
    "from sklearn.model_selection import train_test_split\n",
    "x_train, x_test, y_train, y_test = train_test_split(x, y, test_size=0.20, random_state=42)\n",
    "\n",
    "#2. Downsample the training imagery to the lower resolution, \n",
    "#create a separate train/test set. (you will only be using the training set for this)\n",
    "#downsampling masks and images\n",
    "p = 0.02\n",
    "new_mmask = mask_downsampling(mmask, p)\n",
    "new_nmmask = mask_downsampling(nmmask, p)\n",
    "new_m_image = image_downsampling(m_image, p)\n",
    "new_nm_image = image_downsampling(nm_image, p)\n",
    "#reshape original image and downsampling\n",
    "ori_img = reshape_as_image(src.read())\n",
    "new_img = image_downsampling(src.read(), p)\n",
    "new_img = reshape_as_image(new_img)\n",
    "array = new_img.reshape(new_img.shape[0] * new_img.shape[1], new_img.shape[2])\n",
    "#use down sampled masks and images to create train-test split\n",
    "new_m_idx = np.squeeze(((reshape_as_image(new_mmask) == 1)), axis=-1) \n",
    "new_nm_idx = np.squeeze((reshape_as_image(new_nmmask) == 1), axis=-1)\n",
    "new_m_pix = reshape_as_image(new_m_image)[new_m_idx]\n",
    "new_nm_pix = reshape_as_image(new_nm_image)[new_nm_idx]\n",
    "new_m_pix = new_m_pix[np.all(new_m_pix != 0, axis=1)]\n",
    "new_nm_pix = new_nm_pix[np.all(new_nm_pix != 0, axis=1)]\n",
    "new_x = np.concatenate((new_m_pix, new_nm_pix), axis = 0)\n",
    "new_y = np.concatenate((np.zeros((new_m_pix.shape[0]))+1, np.zeros((new_nm_pix.shape[0]))))\n",
    "new_x_train, new_x_test, new_y_train, new_y_test = train_test_split(new_x, new_y, test_size=0.20, random_state=42)\n",
    "#didn't match\n",
    "\n",
    "#3. Train a model using the downsampled training set\n",
    "#train with ERT on training set of the downsample image\n",
    "new_clf = ExtraTreesClassifier(n_jobs=4)\n",
    "new_clf.fit(new_x_train, new_y_train)\n",
    "\n",
    "#4. Classify the downsampled imagery, reshape it back to the original image, and upsample it\n",
    "#classify downsampled image\n",
    "output = new_clf.predict(array)\n",
    "output_img = output.reshape(new_img.shape[0], new_img.shape[1], 1)\n",
    "#upsample calssified image\n",
    "ori_img1 = ori_img[:,:,0]\n",
    "width_out = ori_img1.shape[1]\n",
    "height_out = ori_img1.shape[0]\n",
    "dim_out = (width_out, height_out)\n",
    "up_img = cv2.resize(output_img[:,:,0], dim_out, interpolation = cv2.INTER_NEAREST)\n",
    "#how to create train test split with this single image?\n",
    "#reform the y\n",
    "#compare original y and \n",
    "#ori_y and up_y\n",
    "#slicing "
   ]
  },
  {
   "cell_type": "markdown",
   "metadata": {},
   "source": [
    "np.concat((up_img[m_idx], up_img[nm_idx]))\n",
    "\n",
    "x, y (original data)\n",
    "new_x, new_y (downsampled model training)\n",
    "up_y = np.concat((up_img[m_idx], up_img[nm_idx]))\n",
    "(upsampled from downsampled labels)"
   ]
  },
  {
   "cell_type": "code",
   "execution_count": null,
   "metadata": {},
   "outputs": [],
   "source": []
  }
 ],
 "metadata": {
  "kernelspec": {
   "display_name": "Python 3 (ipykernel)",
   "language": "python",
   "name": "python3"
  },
  "language_info": {
   "codemirror_mode": {
    "name": "ipython",
    "version": 3
   },
   "file_extension": ".py",
   "mimetype": "text/x-python",
   "name": "python",
   "nbconvert_exporter": "python",
   "pygments_lexer": "ipython3",
   "version": "3.8.9"
  }
 },
 "nbformat": 4,
 "nbformat_minor": 4
}
