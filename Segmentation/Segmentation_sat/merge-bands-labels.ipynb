{
 "cells": [
  {
   "cell_type": "code",
   "execution_count": 1,
   "metadata": {},
   "outputs": [],
   "source": [
    "import rasterio\n",
    "import geopandas as gpd\n",
    "import numpy as np\n",
    "import os\n",
    "from shapely.geometry import shape\n",
    "from rasterio.features import geometry_mask\n",
    "import fiona\n",
    "from rasterio.transform import from_origin\n",
    "\n",
    "\n"
   ]
  },
  {
   "cell_type": "code",
   "execution_count": 2,
   "metadata": {},
   "outputs": [],
   "source": [
    "tif_path = 'jamaica-03-2022.tif'\n",
    "shapefile_path = 'jamaica-labels.shp'"
   ]
  },
  {
   "cell_type": "code",
   "execution_count": 3,
   "metadata": {},
   "outputs": [],
   "source": [
    "# Load the shapefile containing labels\n",
    "os.environ['SHAPE_RESTORE_SHX'] = 'YES'\n",
    "gdf = gpd.read_file(shapefile_path)\n",
    "# labels = gdf['geometry'] "
   ]
  },
  {
   "cell_type": "code",
   "execution_count": 4,
   "metadata": {},
   "outputs": [
    {
     "ename": "AttributeError",
     "evalue": "'NoneType' object has no attribute 'get'",
     "output_type": "error",
     "traceback": [
      "\u001b[0;31m---------------------------------------------------------------------------\u001b[0m",
      "\u001b[0;31mAttributeError\u001b[0m                            Traceback (most recent call last)",
      "Cell \u001b[0;32mIn[4], line 10\u001b[0m\n\u001b[1;32m      8\u001b[0m \u001b[39mwith\u001b[39;00m fiona\u001b[39m.\u001b[39mopen(shapefile_path, \u001b[39m\"\u001b[39m\u001b[39mr\u001b[39m\u001b[39m\"\u001b[39m) \u001b[39mas\u001b[39;00m shapefile:\n\u001b[1;32m      9\u001b[0m     \u001b[39mfor\u001b[39;00m feature \u001b[39min\u001b[39;00m shapefile:\n\u001b[0;32m---> 10\u001b[0m         shapefile_geoms\u001b[39m.\u001b[39mappend(shape(feature[\u001b[39m'\u001b[39;49m\u001b[39mgeometry\u001b[39;49m\u001b[39m'\u001b[39;49m]))\n\u001b[1;32m     12\u001b[0m \u001b[39m# Calculate the extent and resolution for the raster\u001b[39;00m\n\u001b[1;32m     13\u001b[0m xmin, ymin, xmax, ymax \u001b[39m=\u001b[39m shapefile\u001b[39m.\u001b[39mbounds\n",
      "File \u001b[0;32m~/.local/lib/python3.8/site-packages/shapely/geometry/geo.py:92\u001b[0m, in \u001b[0;36mshape\u001b[0;34m(context)\u001b[0m\n\u001b[1;32m     90\u001b[0m \u001b[39melse\u001b[39;00m:\n\u001b[1;32m     91\u001b[0m     ob \u001b[39m=\u001b[39m context\n\u001b[0;32m---> 92\u001b[0m geom_type \u001b[39m=\u001b[39m ob\u001b[39m.\u001b[39;49mget(\u001b[39m\"\u001b[39m\u001b[39mtype\u001b[39m\u001b[39m\"\u001b[39m)\u001b[39m.\u001b[39mlower()\n\u001b[1;32m     93\u001b[0m \u001b[39mif\u001b[39;00m \u001b[39m\"\u001b[39m\u001b[39mcoordinates\u001b[39m\u001b[39m\"\u001b[39m \u001b[39min\u001b[39;00m ob \u001b[39mand\u001b[39;00m _is_coordinates_empty(ob[\u001b[39m\"\u001b[39m\u001b[39mcoordinates\u001b[39m\u001b[39m\"\u001b[39m]):\n\u001b[1;32m     94\u001b[0m     \u001b[39mreturn\u001b[39;00m _empty_shape_for_no_coordinates(geom_type)\n",
      "\u001b[0;31mAttributeError\u001b[0m: 'NoneType' object has no attribute 'get'"
     ]
    }
   ],
   "source": [
    "# shapefile_path = 'path_to_your_shapefile.shp'\n",
    "\n",
    "# Path to save the output raster\n",
    "output_raster_path = 'output_raster.tif'\n",
    "\n",
    "# Load the shapefile's geometries as Shapely objects\n",
    "shapefile_geoms = []\n",
    "with fiona.open(shapefile_path, \"r\") as shapefile:\n",
    "    for feature in shapefile:\n",
    "        shapefile_geoms.append(shape(feature['geometry']))\n",
    "\n",
    "# Calculate the extent and resolution for the raster\n",
    "xmin, ymin, xmax, ymax = shapefile.bounds\n",
    "pixel_size = 10  # Choose an appropriate pixel size\n",
    "width = int((xmax - xmin) / pixel_size)\n",
    "height = int((ymax - ymin) / pixel_size)\n",
    "\n",
    "# Create a transform for the raster\n",
    "transform = from_origin(xmin, ymax, pixel_size, pixel_size)\n",
    "\n",
    "# Create an empty binary array\n",
    "binary_array = np.zeros((height, width), dtype=np.uint8)\n",
    "\n",
    "# Rasterize the shapefile's polygons into the binary array\n",
    "for geom in shapefile_geoms:\n",
    "    mask = geometry_mask([geom], out_shape=(height, width), transform=transform, invert=False)\n",
    "    binary_array[mask] = 1\n",
    "\n",
    "# Write the binary array as a raster\n",
    "with rasterio.open(output_raster_path, 'w', driver='GTiff', height=height, width=width, count=1, dtype=np.uint8, crs='EPSG:4326', transform=transform) as dst:\n",
    "    dst.write(binary_array, 1)"
   ]
  },
  {
   "cell_type": "code",
   "execution_count": null,
   "metadata": {},
   "outputs": [
    {
     "name": "stdout",
     "output_type": "stream",
     "text": [
      "Number of ones: 0\n"
     ]
    }
   ],
   "source": [
    "count_ones = np.count_nonzero(binary_array == 1)\n",
    "\n",
    "print(\"Number of ones:\", count_ones)"
   ]
  },
  {
   "cell_type": "code",
   "execution_count": null,
   "metadata": {},
   "outputs": [],
   "source": [
    "# Load the GeoTIFF image\n",
    "with rasterio.open(tif_path) as tif_src:\n",
    "    tif_transform = tif_src.transform\n",
    "\n"
   ]
  },
  {
   "cell_type": "code",
   "execution_count": null,
   "metadata": {},
   "outputs": [],
   "source": [
    "# Set the CRS for the GeoDataFrame\n",
    "gdf = gdf.set_crs(tif_src.crs)\n",
    "gdf = gdf[gdf.geometry.is_valid]\n",
    "\n",
    "# Reproject the GeoDataFrame to match the GeoTIFF's coordinate system\n",
    "gdf_reprojected = gdf.to_crs(tif_src.crs)\n",
    "\n",
    "# Create an empty binary array\n",
    "binary_array = np.zeros((tif_src.height, tif_src.width), dtype=np.uint8)\n",
    "\n",
    "# Load polygons from the GeoDataFrame and assign 1 to pixels within polygons\n",
    "# cum = 0\n",
    "for geom in gdf_reprojected.geometry:\n",
    "    # cum += 1\n",
    "    mask = geometry_mask([geom], out_shape=(tif_src.height, tif_src.width), transform=tif_transform, invert=True)\n",
    "    binary_array[mask] = 1\n",
    "\n",
    "# print(cum)"
   ]
  },
  {
   "cell_type": "code",
   "execution_count": null,
   "metadata": {},
   "outputs": [
    {
     "name": "stdout",
     "output_type": "stream",
     "text": [
      "Raster Transformation Matrix:\n",
      "| 10.00, 0.00, 881520.00|\n",
      "| 0.00,-10.00, 1983400.00|\n",
      "| 0.00, 0.00, 1.00|\n"
     ]
    }
   ],
   "source": [
    "with rasterio.open(tif_path) as tif_src:\n",
    "    # Get the raster transformation\n",
    "    raster_transform = tif_src.transform\n",
    "\n",
    "    # Print the transformation matrix\n",
    "    print(\"Raster Transformation Matrix:\")\n",
    "    print(raster_transform)"
   ]
  },
  {
   "cell_type": "code",
   "execution_count": null,
   "metadata": {},
   "outputs": [
    {
     "name": "stdout",
     "output_type": "stream",
     "text": [
      "Number of ones: 0\n"
     ]
    }
   ],
   "source": [
    "count_ones = np.count_nonzero(binary_array == 0)\n",
    "\n",
    "print(\"Number of ones:\", count_ones)"
   ]
  }
 ],
 "metadata": {
  "kernelspec": {
   "display_name": "Python 3",
   "language": "python",
   "name": "python3"
  },
  "language_info": {
   "codemirror_mode": {
    "name": "ipython",
    "version": 3
   },
   "file_extension": ".py",
   "mimetype": "text/x-python",
   "name": "python",
   "nbconvert_exporter": "python",
   "pygments_lexer": "ipython3",
   "version": "3.8.10"
  },
  "orig_nbformat": 4
 },
 "nbformat": 4,
 "nbformat_minor": 2
}
