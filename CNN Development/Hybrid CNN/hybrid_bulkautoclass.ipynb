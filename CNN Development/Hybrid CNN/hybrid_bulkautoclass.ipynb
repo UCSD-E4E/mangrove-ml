{
  "nbformat": 4,
  "nbformat_minor": 0,
  "metadata": {
    "colab": {
      "name": "hybrid_bulkautoclass.ipynb",
      "provenance": [],
      "collapsed_sections": [],
      "toc_visible": true,
      "machine_shape": "hm"
    },
    "kernelspec": {
      "name": "python3",
      "display_name": "Python 3"
    },
    "accelerator": "GPU"
  },
  "cells": [
    {
      "cell_type": "markdown",
      "metadata": {
        "id": "axtzhyZfreyi",
        "colab_type": "text"
      },
      "source": [
        "# Predictions from drone and satellite images using model\n"
      ]
    },
    {
      "cell_type": "code",
      "metadata": {
        "id": "lXnXJ_6cgXsp",
        "colab_type": "code",
        "colab": {}
      },
      "source": [
        "%%capture\n",
        "!apt-get update\n",
        "!apt-get install libgdal-dev -y\n",
        "!apt-get install python-gdal -y\n",
        "!apt-get install python-numpy python-scipy -y\n",
        "!pip install rasterio\n",
        "!pip install fiona\n",
        "!pip install geopandas\n",
        "!pip install PyCRS\n",
        "!pip install -i https://test.pypi.org/simple/ gis-utils-pkg-dillhicks==0.0.76"
      ],
      "execution_count": null,
      "outputs": []
    },
    {
      "cell_type": "code",
      "metadata": {
        "id": "5kWKd1til6iM",
        "colab_type": "code",
        "colab": {
          "base_uri": "https://localhost:8080/",
          "height": 71
        },
        "outputId": "72b71e50-5f02-4495-f08c-8cafe450379f"
      },
      "source": [
        "#Importing GIS Software \n",
        "import rasterio\n",
        "from shapely.geometry import box\n",
        "import geopandas as gpd\n",
        "from rasterio.mask import mask\n",
        "from rasterio.plot import show\n",
        "from tqdm.autonotebook import tqdm\n",
        "import os\n",
        "from rasterio import windows as wind\n",
        "from fiona.crs import from_epsg\n",
        "from gis_utils import raster\n",
        "import matplotlib.pyplot as plt\n",
        "import fiona\n",
        "import numpy as np\n",
        "import pandas as pd"
      ],
      "execution_count": null,
      "outputs": [
        {
          "output_type": "stream",
          "text": [
            "/usr/local/lib/python3.6/dist-packages/ipykernel_launcher.py:7: TqdmExperimentalWarning: Using `tqdm.autonotebook.tqdm` in notebook mode. Use `tqdm.tqdm` instead to force console mode (e.g. in jupyter console)\n",
            "  import sys\n"
          ],
          "name": "stderr"
        }
      ]
    },
    {
      "cell_type": "code",
      "metadata": {
        "id": "h66eu_80mOO4",
        "colab_type": "code",
        "colab": {
          "base_uri": "https://localhost:8080/",
          "height": 122
        },
        "outputId": "8dea2526-d0c2-4e14-e7b8-ea591cbff1fd"
      },
      "source": [
        "from google.colab import drive\n",
        "drive.mount('/content/drive2')"
      ],
      "execution_count": null,
      "outputs": [
        {
          "output_type": "stream",
          "text": [
            "Go to this URL in a browser: https://accounts.google.com/o/oauth2/auth?client_id=947318989803-6bn6qk8qdgf4n4g3pfee6491hc0brc4i.apps.googleusercontent.com&redirect_uri=urn%3aietf%3awg%3aoauth%3a2.0%3aoob&scope=email%20https%3a%2f%2fwww.googleapis.com%2fauth%2fdocs.test%20https%3a%2f%2fwww.googleapis.com%2fauth%2fdrive%20https%3a%2f%2fwww.googleapis.com%2fauth%2fdrive.photos.readonly%20https%3a%2f%2fwww.googleapis.com%2fauth%2fpeopleapi.readonly&response_type=code\n",
            "\n",
            "Enter your authorization code:\n",
            "··········\n",
            "Mounted at /content/drive2\n"
          ],
          "name": "stdout"
        }
      ]
    },
    {
      "cell_type": "markdown",
      "metadata": {
        "id": "bPTBra4tq-v3",
        "colab_type": "text"
      },
      "source": [
        "# Image Generation Functions\n"
      ]
    },
    {
      "cell_type": "code",
      "metadata": {
        "id": "TAjHfEp6uTRG",
        "colab_type": "code",
        "colab": {}
      },
      "source": [
        "def write_ndvi(image_file):\n",
        "    np.seterr(divide='ignore', invalid='ignore')\n",
        "    p_img, p_meta = raster.load_image(image_file)\n",
        "\n",
        "    red = p_img.read(1)\n",
        "    nir = p_img.read(4)\n",
        "    array = p_img.read()\n",
        "    ndvi = (nir - red)/(nir + red)\n",
        "    show(ndvi)\n",
        "    p_meta.update({\"count\": p_img.count+1})\n",
        "    out_img = np.concatenate((array, np.expand_dims(ndvi, axis=0)))\n",
        "\n",
        "    with rasterio.open(image_file, 'w', **p_meta) as outds:\n",
        "        outds.write(out_img)"
      ],
      "execution_count": 13,
      "outputs": []
    },
    {
      "cell_type": "code",
      "metadata": {
        "id": "Po9_zier5xUj",
        "colab_type": "code",
        "colab": {}
      },
      "source": [
        "def write_ndwi(image_file):\n",
        "    np.seterr(divide='ignore', invalid='ignore')\n",
        "    p_img, p_meta = raster.load_image(image_file)\n",
        "\n",
        "    green = p_img.read(2)\n",
        "    nir = p_img.read(4)\n",
        "    array = p_img.read()\n",
        "    ndwi = (green - nir)/(nir + green)\n",
        "    show(ndwi)\n",
        "    p_meta.update({\"count\": p_img.count+1})\n",
        "    out_img = np.concatenate((array, np.expand_dims(ndwi, axis=0)))\n",
        "\n",
        "    with rasterio.open(image_file, 'w', **p_meta) as outds:\n",
        "        outds.write(out_img)"
      ],
      "execution_count": 14,
      "outputs": []
    },
    {
      "cell_type": "code",
      "metadata": {
        "id": "-ZL29ae3-UOb",
        "colab_type": "code",
        "colab": {}
      },
      "source": [
        "def write_vari(image_file):\n",
        "    np.seterr(divide='ignore', invalid='ignore')\n",
        "    p_img, p_meta = raster.load_image(image_file)\n",
        "\n",
        "    red = p_img.read(1)\n",
        "    green = p_img.read(2)\n",
        "    blue = p_img.read(3)\n",
        "    array = p_img.read()\n",
        "    vari = (green - red)/(green + red - blue)\n",
        "    show(vari)\n",
        "    p_meta.update({\"count\": p_img.count+1})\n",
        "    out_img = np.concatenate((array, np.expand_dims(vari, axis=0)))\n",
        "\n",
        "    with rasterio.open(image_file, 'w', **p_meta) as outds:\n",
        "        outds.write(out_img)"
      ],
      "execution_count": 15,
      "outputs": []
    },
    {
      "cell_type": "code",
      "metadata": {
        "id": "mnCZPFARApLn",
        "colab_type": "code",
        "colab": {}
      },
      "source": [
        "#getting features from the gdf for rasterio\n",
        "from os.path import join\n",
        "\n",
        "def getFeatures(gdf):\n",
        "\n",
        "    import json\n",
        "    return [json.loads(gdf.to_json())['features'][0]['geometry']]\n",
        "          "
      ],
      "execution_count": 16,
      "outputs": []
    },
    {
      "cell_type": "code",
      "metadata": {
        "id": "Txnc2_BRtx5p",
        "colab_type": "code",
        "colab": {}
      },
      "source": [
        "#for creating corresponding HR tiles from LR pixels\n",
        "def transfer_tiles(img, meta, tile_path, output_path):\n",
        "    out_meta = meta\n",
        "    output_filename = 'hr_{}.tif'\n",
        "    d_bbox = box(img.bounds.left, img.bounds.bottom, img.bounds.right, img.bounds.top)\n",
        "\n",
        "    for root, dirs, files in os.walk(tile_path):\n",
        "        for file in tqdm(files):\n",
        "            name = os.path.splitext(file)[0]\n",
        "            dataset, _ = raster.load_image(join(root,file))\n",
        "            bounds = dataset.bounds\n",
        "            bbox = box(bounds.left, bounds.bottom, bounds.right, bounds.top)\n",
        "\n",
        "            if bbox.within(d_bbox):\n",
        "                geo = gpd.GeoDataFrame({'geometry': bbox}, index=[0], crs=from_epsg(4326))\n",
        "                geo = geo.to_crs(crs=dataset.crs.data)\n",
        "                coords = getFeatures(geo)\n",
        "                out_img, out_transform = mask(img, shapes=coords, crop=True)\n",
        "                out_meta.update({\"driver\": \"GTiff\",\"height\": out_img.shape[1], \"width\": out_img.shape[2], \"transform\": out_transform, \"crs\": from_epsg(4326)})\n",
        "                outpath = os.path.join(output_path, output_filename.format(name))\n",
        "                with rasterio.open(outpath, 'w', **out_meta) as outds:\n",
        "                    outds.write(out_img)\n",
        "            "
      ],
      "execution_count": 17,
      "outputs": []
    },
    {
      "cell_type": "code",
      "metadata": {
        "id": "m5f6dXTvme5z",
        "colab_type": "code",
        "colab": {}
      },
      "source": [
        "#for removing tiles created \n",
        "def remove_zero(img_dir):\n",
        "    for filename in tqdm(os.listdir(img_dir)):\n",
        "        filepath = os.path.join(img_dir, filename)\n",
        "        tile, meta = raster.load_image(filepath)\n",
        "        if np.array_equal(np.unique(np.array(tile.read())), [0.]):\n",
        "            os.remove(filepath)"
      ],
      "execution_count": 18,
      "outputs": []
    },
    {
      "cell_type": "markdown",
      "metadata": {
        "id": "xlZjKOp8rPKb",
        "colab_type": "text"
      },
      "source": [
        "# Workflow Functions"
      ]
    },
    {
      "cell_type": "code",
      "metadata": {
        "id": "ypX3793uBQoP",
        "colab_type": "code",
        "colab": {}
      },
      "source": [
        "#Function for getting files needed for data generation process from the drive\n",
        "\n",
        "from os.path import join\n",
        "from os.path import splitext\n",
        "\n",
        "def get_filelist():\n",
        "    cur = []\n",
        "\n",
        "    #horrible search method, do not do this, only works because how we specifically set up the drive structure\n",
        "\n",
        "    #iterating through all files in orthomosaics directory\n",
        "    for root, dirs, files in os.walk(\"/content/drive2/Shared drives/SIO and E4E Mangroves /Data/Orthomosaics/\"):\n",
        "        for file in files:\n",
        "            #finding all normal tifs\n",
        "            if not((\"dem\" in file) or (\"DEM\" in file) or (\"downsampled\" in file) or (\"CNN_prob\" in file) or (\"kompsat\" in file) or (\"planetscope\" in file)) and not(file.startswith(\"un_\")) and not(file.endswith(\"CNN_nm.tif\")) and not(file.endswith(\"CNN_m.tif\")) and not(file.startswith(\"prob_\"))  and  (file.endswith(\".tif\")):\n",
        "                #detecting planetscope images\n",
        "                for ortho in os.listdir(root):\n",
        "                    if (\"planetscope\" in ortho):\n",
        "                        print(ortho)\n",
        "                        #since we will get dupicates\n",
        "                        file_list = [join(root,file),\n",
        "                                     join(root,ortho),\n",
        "                                     join(root, \"hybrid_\" + splitext(file)[0] + \"_classifications\")]\n",
        "                        if not(file_list in cur):\n",
        "                            cur.append(file_list)\n",
        "                                    \n",
        "\n",
        "\n",
        "\n",
        "    return cur"
      ],
      "execution_count": null,
      "outputs": []
    },
    {
      "cell_type": "code",
      "metadata": {
        "id": "Oq8LYbe4S9tQ",
        "colab_type": "code",
        "colab": {}
      },
      "source": [
        "# for copying files over from google drive to \n",
        "def copy_files(file_list):\n",
        "    print(\"Copying Files\")\n",
        "\n",
        "    !cp {\"\\\"\" + file_list[0] + \"\\\"\" } .\n",
        "    !cp {\"\\\"\" + file_list[1] + \"\\\"\" } .\n",
        "\n",
        "    d_name = os.path.basename(file_list[0])\n",
        "    p_name = os.path.basename(file_list[1])\n",
        "\n",
        "    !mv {d_name} /content/drone.tif\n",
        "    !mv {p_name} /content/planetscope.tif\n",
        "\n",
        "    !rm -rf /content/lr\n",
        "    !rm -rf /content/hr \n",
        "    !mkdir lr\n",
        "    !mkdir hr"
      ],
      "execution_count": 19,
      "outputs": []
    },
    {
      "cell_type": "code",
      "metadata": {
        "id": "bhHP06wyVPjD",
        "colab_type": "code",
        "colab": {}
      },
      "source": [
        "def retile(file_list):\n",
        "    print(\"Clipping and pixelizing satellite data\")\n",
        "\n",
        "    !gdal_retile.py -ps 1 1 -targetDir \"/content/lr\" \"planetscope.tif\"\n",
        "    \n",
        "    remove_zero(\"/content/lr/\")\n"
      ],
      "execution_count": 20,
      "outputs": []
    },
    {
      "cell_type": "code",
      "metadata": {
        "id": "u7O-49gCWE8J",
        "colab_type": "code",
        "colab": {}
      },
      "source": [
        "def gen_drone(file_list):\n",
        "    print(\"Generating Satellite Data\")\n",
        "\n",
        "    d_img, d_meta = raster.load_image(\"/content/drone.tif\")\n",
        "    \n",
        "    transfer_tiles(d_img, d_meta, \"/content/lr\", \"/content/hr\")\n"
      ],
      "execution_count": 21,
      "outputs": []
    },
    {
      "cell_type": "code",
      "metadata": {
        "id": "GKomk28GohOJ",
        "colab_type": "code",
        "colab": {}
      },
      "source": [
        "from tempfile import mkdtemp\n",
        "from skimage.transform import resize\n",
        "from os.path import basename, dirname\n",
        "from rasterio.plot import reshape_as_image\n",
        "import glob\n",
        "\n",
        "\n",
        "def load_images(image_dir,n_bands):\n",
        "    hr_name = join(mkdtemp(), 'hr.memmap')\n",
        "    lr_name = join(mkdtemp(), 'lr.memmap')\n",
        "\n",
        "    num_images = len(glob.glob1(\"/content/hr\",\"*.tif\"))\n",
        "    hr_mem = np.memmap(hr_name, dtype='float32', mode='w+', shape=(int(num_images),112,112,3))\n",
        "    lr_mem = np.memmap(lr_name, dtype='float32', mode='w+', shape=(int(num_images),n_bands))\n",
        "\n",
        "    index = 0\n",
        "    file_list = []\n",
        "\n",
        "    for root, dirs, files in os.walk(image_dir):\n",
        "        for file in tqdm(files):\n",
        "            if (file.endswith(\".tif\")):\n",
        "                file_path = os.path.join(root, file)\n",
        "                file_list.append(file_path)\n",
        "\n",
        "                lr_file = file.replace(\"hr_\", \"\")\n",
        "                lr_root = root.replace(\"hr\", \"lr\")\n",
        "                lr_path = join(lr_root,lr_file)\n",
        "\n",
        "                hr_image, _ = raster.load_image(file_path)\n",
        "                lr_image, _ = raster.load_image(lr_path)\n",
        "\n",
        "                hr_mem[index,:,:,:] = resize(reshape_as_image(hr_image.read()), (112,112,3))\n",
        "                lr_mem[index,:] = np.squeeze(np.squeeze(reshape_as_image(lr_image.read())))\n",
        "                index += 1\n",
        "    \n",
        "    return hr_mem, lr_mem, file_list"
      ],
      "execution_count": 22,
      "outputs": []
    },
    {
      "cell_type": "code",
      "metadata": {
        "id": "i3lZja0hX0dP",
        "colab_type": "code",
        "colab": {}
      },
      "source": [
        "\n",
        "def clean_tiles(image_dir):\n",
        "    num = 0\n",
        "\n",
        "    for root, dirs, files in os.walk(image_dir):\n",
        "        for file in tqdm(files):\n",
        "            if (file.endswith(\".tif\")):\n",
        "                file_path = os.path.join(root, file)\n",
        "                hr_image, _ = raster.load_image(file_path)\n",
        "                if np.array_equal(np.unique(hr_image.read()), [0]):\n",
        "                    lr_file = file.replace(\"hr_\", \"\")\n",
        "                    lr_root = root.replace(\"hr\", \"lr\")\n",
        "                    lr_path = join(lr_root,lr_file)\n",
        "                    os.remove(file_path)\n",
        "                    os.remove(lr_path)\n",
        "                    num += 1\n",
        "            \n",
        "    print(num)"
      ],
      "execution_count": 23,
      "outputs": []
    },
    {
      "cell_type": "code",
      "metadata": {
        "id": "o0tOkg6BearK",
        "colab_type": "code",
        "colab": {}
      },
      "source": [
        "def classify(model, files, hr, lr):\n",
        "    predictions = model.predict([lr,hr], batch_size=32)\n",
        "    print(predictions)\n",
        "    column_names = [\"prediction\",\"p_0\",\"p_1\",\"filename\"]\n",
        "    result_df = pd.DataFrame(columns=column_names)\n",
        "\n",
        "\n",
        "    #associate filenames and classification for each prediction\n",
        "    for i,prediction in tqdm(enumerate(predictions)):\n",
        "        result_df.loc[i,\"filename\"] = files[i]\n",
        "\n",
        "        #calculating predictions \n",
        "        result_df.loc[i,\"p_0\"] = prediction[0]\n",
        "        result_df.loc[i,\"p_1\"] = prediction[1]\n",
        "        \n",
        "        #getting final class prediction\n",
        "        result_df.loc[i,\"prediction\"] = np.argmax(prediction)\n",
        "    return result_df"
      ],
      "execution_count": 24,
      "outputs": []
    },
    {
      "cell_type": "code",
      "metadata": {
        "id": "6mQRmnuqBCMv",
        "colab_type": "code",
        "colab": {}
      },
      "source": [
        "def move_files(result_df):\n",
        "    image_directory = \"/content/hr/\"\n",
        "\n",
        "    dest_folders = []\n",
        "    #Organize tiles into folders\n",
        "    for index, row in tqdm(result_df.iterrows()):\n",
        "        cur_file = row['filename']\n",
        "        classification = row['prediction'] \n",
        "\n",
        "        #set destination folder, and creates the folder if it doesn't exist\n",
        "        dest_folder = os.path.join(os.path.abspath(image_directory),str(classification))\n",
        "        dest_folders.append(dest_folder)\n",
        "        if os.path.exists(dest_folder) == False:\n",
        "            os.mkdir(dest_folder)\n",
        "        dest = os.path.join(dest_folder,os.path.basename(cur_file))\n",
        "    \n",
        "        #moves file\n",
        "        src = cur_file\n",
        "        os.rename(src, dest)"
      ],
      "execution_count": 25,
      "outputs": []
    },
    {
      "cell_type": "code",
      "metadata": {
        "id": "1FxW5YSksxv4",
        "colab_type": "code",
        "colab": {}
      },
      "source": [
        "from rasterio.merge import merge\n",
        "\n",
        "def merge_raster(input_files, output_file):\n",
        "    images = []\n",
        "    #get files from file list and load the rasters\n",
        "    for file in input_files:\n",
        "        image, meta = raster.load_image(file)\n",
        "        images.append(image)\n",
        "\n",
        "    #merge all the rasters together\n",
        "    array, transform = merge(images)\n",
        "\n",
        "    #set meta of merged file to the same as the original \n",
        "    out_meta = meta.copy()\n",
        "\n",
        "    #edit meta for merged raster\n",
        "    out_meta.update({\"driver\": \"GTiff\",\n",
        "                                           \"height\": array.shape[1],\n",
        "                                           \"width\": array.shape[2],\n",
        "                                           \"transform\": transform}\n",
        "                                          )\n",
        "    \n",
        "    #write merged raster\n",
        "    with rasterio.open(output_file, \"w\", **out_meta) as dest:\n",
        "        dest.write(array)"
      ],
      "execution_count": 26,
      "outputs": []
    },
    {
      "cell_type": "code",
      "metadata": {
        "id": "Y509n5iBtsS-",
        "colab_type": "code",
        "colab": {}
      },
      "source": [
        "from os.path import join\n",
        "from os.path import isdir\n",
        "\n",
        "#for returning full path of file instead of local path for listdir\n",
        "def listpath(dir):\n",
        "    path_list = []\n",
        "    for file in os.listdir(dir):\n",
        "        if not(isdir(join(dir,file))):\n",
        "            path_list.append(join(dir,file))\n",
        "    return path_list\n"
      ],
      "execution_count": 27,
      "outputs": []
    },
    {
      "cell_type": "code",
      "metadata": {
        "id": "Vnxvfv8zFEQz",
        "colab_type": "code",
        "colab": {}
      },
      "source": [
        "def generate_probtiles(result_df):\n",
        "    print(\"Generating tiles for probability plot\")\n",
        "    for index, sample in tqdm(result_df.iterrows()):\n",
        "        #loading original image\n",
        "        original = os.path.abspath(os.path.join(\"images\", sample[\"filename\"]))\n",
        "        img = rasterio.open(original)\n",
        "\n",
        "        #creating new raster mask with pixel values of conditional probability\n",
        "        mask = sample[\"p_0\"] * np.ones(shape=(img.width, img.height))\n",
        "\n",
        "        #saving file output to new file\n",
        "        filename = \"prob_\" + os.path.basename(sample[\"filename\"])\n",
        "        output = os.path.abspath(os.path.join(\"images\", os.path.dirname(sample[\"filename\"]), filename))\n",
        "        #creates new file with projection of past image\n",
        "        with rasterio.open(output,'w',driver='GTiff',height=img.height,width=img.width,count=1,dtype=mask.dtype,crs='+proj=latlong',transform=img.transform,) as dst:dst.write(mask, 1)"
      ],
      "execution_count": 28,
      "outputs": []
    },
    {
      "cell_type": "code",
      "metadata": {
        "id": "3h1JzUcT1VGe",
        "colab_type": "code",
        "colab": {}
      },
      "source": [
        "def create_rasters(site):\n",
        "    !mkdir files\n",
        "    ds_factor = 1/20\n",
        "\n",
        "    name = os.path.splitext(os.path.basename(site[0]))[0]\n",
        "\n",
        "    #create nonmangrove ortho\n",
        "    one_out = join(\"files\", \"hybrid_\" + name + \"_nonmangrove.tif\")\n",
        "    one_files = listpath(\"/content/hr/1/\")\n",
        "    merge_raster(one_files, output_file=one_out)\n",
        "\n",
        "    #downsample nonmangrove ortho\n",
        "    img, meta = raster.load_image(one_out)\n",
        "    one_ds_out = join(\"files\", \"hybrid_downsampled_\" + name + \"_nonmangrove.tif\")\n",
        "    resampled, transform = raster.downsample_raster(img, ds_factor, out_file = one_ds_out)\n",
        "    show(resampled)\n",
        "\n",
        "    #create mangrove ortho\n",
        "    zero_out = join(\"files\", \"hybrid_\" + name + \"_mangrove.tif\")\n",
        "    zero_files = listpath(\"/content/hr/0/\")\n",
        "    merge_raster(zero_files, output_file=zero_out)\n",
        "    \n",
        "    #downsample mangrove ortho\n",
        "    img, meta = raster.load_image(zero_out)\n",
        "    zero_ds_out = join(\"files\", \"hybrid_downsampled_\" + name + \"_mangrove.tif\")\n",
        "    resampled, transform = raster.downsample_raster(img, ds_factor, out_file = zero_ds_out)\n",
        "    show(resampled)\n",
        "\n",
        "    #create probability plot\n",
        "    prob_out = join(\"files\", \"hybrid_\" + name + \"_prob.tif\")\n",
        "    prob_files = listpath(\"/content/hr/\")\n",
        "    merge_raster(prob_files, output_file=prob_out)\n",
        "\n",
        "    #downsample probability plot\n",
        "    img, meta = raster.load_image(prob_out)\n",
        "    prob_ds_out = join(\"files\", \"hybrid_downsampled_\" + name + \"_prob.tif\")\n",
        "    resampled, transform = raster.downsample_raster(img, ds_factor, out_file = zero_ds_out)\n",
        "    show(resampled)\n"
      ],
      "execution_count": 29,
      "outputs": []
    },
    {
      "cell_type": "code",
      "metadata": {
        "id": "hV2kyNcLq4WX",
        "colab_type": "code",
        "colab": {}
      },
      "source": [
        "sites = get_filelist()"
      ],
      "execution_count": 31,
      "outputs": []
    },
    {
      "cell_type": "code",
      "metadata": {
        "id": "YdYoBw1pmwiM",
        "colab_type": "code",
        "colab": {
          "base_uri": "https://localhost:8080/",
          "height": 35
        },
        "outputId": "95a41e9d-534c-46ef-fb5a-fbd1d640d54b"
      },
      "source": [
        "site = sites[1]\n",
        "name = os.path.splitext(os.path.basename(site[0]))[0]\n",
        "\n",
        "join(\"files\", \"hybrid_\" + name + \"_prob.tif\")\n"
      ],
      "execution_count": null,
      "outputs": [
        {
          "output_type": "execute_result",
          "data": {
            "application/vnd.google.colaboratory.intrinsic+json": {
              "type": "string"
            },
            "text/plain": [
              "'files/hybrid_lap_2018-07_site05_120m_RGB_cc_prob.tif'"
            ]
          },
          "metadata": {
            "tags": []
          },
          "execution_count": 11
        }
      ]
    },
    {
      "cell_type": "code",
      "metadata": {
        "id": "2TS2OrVQDPf9",
        "colab_type": "code",
        "colab": {
          "base_uri": "https://localhost:8080/",
          "height": 663
        },
        "outputId": "4fc6ae03-da7a-47b4-d82c-8806d784c419"
      },
      "source": [
        "from tensorflow.keras.models import load_model\n",
        "\n",
        "\n",
        "\n",
        "site = sites[1]\n",
        "\n",
        "print(\"Generating data for: \", site[1])\n",
        "\n",
        "copy_files(site)\n",
        "\n",
        "write_ndvi(\"planetscope.tif\")\n",
        "#write_vari(\"planetscope.tif\")\n",
        "write_ndwi(\"planetscope.tif\")\n",
        "\n",
        "retile(site)\n",
        "gen_drone(site)\n",
        "\n",
        "img, meta = raster.load_image(\"planetscope.tif\")\n",
        "n_bands = img.count\n",
        "\n",
        "hr, lr, files = load_images(\"/content/hr\", n_bands)\n",
        "\n",
        "model = load_model(\"/content/drive2/Shared drives/SIO and E4E Mangroves /Data/Machine Learning/Models/Hybrid CNN/efficientnetb0-ndwi+ndvi+bright\")\n",
        "results_df = classify(model, files, hr, lr)\n",
        "\n",
        "!rm -rf 0 1\n",
        "!mkdir 0 1\n",
        "\n",
        "generate_probtiles(results_df)\n",
        "move_files(results_df)\n",
        "\n",
        "create_rasters(site)\n",
        "\n"
      ],
      "execution_count": 30,
      "outputs": [
        {
          "output_type": "stream",
          "text": [
            "Generating data for:  /content/drive2/Shared drives/SIO and E4E Mangroves /Data/Orthomosaics/2018-07 La Paz/Site 5/lap_2018-07_site05_planetscope_optical.tif\n",
            "Copying Files\n",
            "cp: cannot stat '/content/drive2/Shared drives/SIO and E4E Mangroves /Data/Orthomosaics/2018-07 La Paz/Site 5/lap_2018-07_site05_planetscope_optical.tif': No such file or directory\n",
            "mv: cannot stat 'lap_2018-07_site05_planetscope_optical.tif': No such file or directory\n"
          ],
          "name": "stdout"
        },
        {
          "output_type": "error",
          "ename": "RasterioIOError",
          "evalue": "ignored",
          "traceback": [
            "\u001b[0;31m---------------------------------------------------------------------------\u001b[0m",
            "\u001b[0;31mCPLE_OpenFailedError\u001b[0m                      Traceback (most recent call last)",
            "\u001b[0;32mrasterio/_base.pyx\u001b[0m in \u001b[0;36mrasterio._base.DatasetBase.__init__\u001b[0;34m()\u001b[0m\n",
            "\u001b[0;32mrasterio/_shim.pyx\u001b[0m in \u001b[0;36mrasterio._shim.open_dataset\u001b[0;34m()\u001b[0m\n",
            "\u001b[0;32mrasterio/_err.pyx\u001b[0m in \u001b[0;36mrasterio._err.exc_wrap_pointer\u001b[0;34m()\u001b[0m\n",
            "\u001b[0;31mCPLE_OpenFailedError\u001b[0m: planetscope.tif: No such file or directory",
            "\nDuring handling of the above exception, another exception occurred:\n",
            "\u001b[0;31mRasterioIOError\u001b[0m                           Traceback (most recent call last)",
            "\u001b[0;32m<ipython-input-30-9e52bded69dc>\u001b[0m in \u001b[0;36m<module>\u001b[0;34m()\u001b[0m\n\u001b[1;32m      9\u001b[0m \u001b[0mcopy_files\u001b[0m\u001b[0;34m(\u001b[0m\u001b[0msite\u001b[0m\u001b[0;34m)\u001b[0m\u001b[0;34m\u001b[0m\u001b[0;34m\u001b[0m\u001b[0m\n\u001b[1;32m     10\u001b[0m \u001b[0;34m\u001b[0m\u001b[0m\n\u001b[0;32m---> 11\u001b[0;31m \u001b[0mwrite_ndvi\u001b[0m\u001b[0;34m(\u001b[0m\u001b[0;34m\"planetscope.tif\"\u001b[0m\u001b[0;34m)\u001b[0m\u001b[0;34m\u001b[0m\u001b[0;34m\u001b[0m\u001b[0m\n\u001b[0m\u001b[1;32m     12\u001b[0m \u001b[0;31m#write_vari(\"planetscope.tif\")\u001b[0m\u001b[0;34m\u001b[0m\u001b[0;34m\u001b[0m\u001b[0;34m\u001b[0m\u001b[0m\n\u001b[1;32m     13\u001b[0m \u001b[0mwrite_ndwi\u001b[0m\u001b[0;34m(\u001b[0m\u001b[0;34m\"planetscope.tif\"\u001b[0m\u001b[0;34m)\u001b[0m\u001b[0;34m\u001b[0m\u001b[0;34m\u001b[0m\u001b[0m\n",
            "\u001b[0;32m<ipython-input-13-4c3125a77148>\u001b[0m in \u001b[0;36mwrite_ndvi\u001b[0;34m(image_file)\u001b[0m\n\u001b[1;32m      1\u001b[0m \u001b[0;32mdef\u001b[0m \u001b[0mwrite_ndvi\u001b[0m\u001b[0;34m(\u001b[0m\u001b[0mimage_file\u001b[0m\u001b[0;34m)\u001b[0m\u001b[0;34m:\u001b[0m\u001b[0;34m\u001b[0m\u001b[0;34m\u001b[0m\u001b[0m\n\u001b[1;32m      2\u001b[0m     \u001b[0mnp\u001b[0m\u001b[0;34m.\u001b[0m\u001b[0mseterr\u001b[0m\u001b[0;34m(\u001b[0m\u001b[0mdivide\u001b[0m\u001b[0;34m=\u001b[0m\u001b[0;34m'ignore'\u001b[0m\u001b[0;34m,\u001b[0m \u001b[0minvalid\u001b[0m\u001b[0;34m=\u001b[0m\u001b[0;34m'ignore'\u001b[0m\u001b[0;34m)\u001b[0m\u001b[0;34m\u001b[0m\u001b[0;34m\u001b[0m\u001b[0m\n\u001b[0;32m----> 3\u001b[0;31m     \u001b[0mp_img\u001b[0m\u001b[0;34m,\u001b[0m \u001b[0mp_meta\u001b[0m \u001b[0;34m=\u001b[0m \u001b[0mraster\u001b[0m\u001b[0;34m.\u001b[0m\u001b[0mload_image\u001b[0m\u001b[0;34m(\u001b[0m\u001b[0mimage_file\u001b[0m\u001b[0;34m)\u001b[0m\u001b[0;34m\u001b[0m\u001b[0;34m\u001b[0m\u001b[0m\n\u001b[0m\u001b[1;32m      4\u001b[0m \u001b[0;34m\u001b[0m\u001b[0m\n\u001b[1;32m      5\u001b[0m     \u001b[0mred\u001b[0m \u001b[0;34m=\u001b[0m \u001b[0mp_img\u001b[0m\u001b[0;34m.\u001b[0m\u001b[0mread\u001b[0m\u001b[0;34m(\u001b[0m\u001b[0;36m1\u001b[0m\u001b[0;34m)\u001b[0m\u001b[0;34m\u001b[0m\u001b[0;34m\u001b[0m\u001b[0m\n",
            "\u001b[0;32m/usr/local/lib/python3.6/dist-packages/gis_utils/raster.py\u001b[0m in \u001b[0;36mload_image\u001b[0;34m(file)\u001b[0m\n\u001b[1;32m     30\u001b[0m \u001b[0;31m#for loading orthomosaic into memory\u001b[0m\u001b[0;34m\u001b[0m\u001b[0;34m\u001b[0m\u001b[0;34m\u001b[0m\u001b[0m\n\u001b[1;32m     31\u001b[0m \u001b[0;32mdef\u001b[0m \u001b[0mload_image\u001b[0m\u001b[0;34m(\u001b[0m\u001b[0mfile\u001b[0m\u001b[0;34m)\u001b[0m\u001b[0;34m:\u001b[0m\u001b[0;34m\u001b[0m\u001b[0;34m\u001b[0m\u001b[0m\n\u001b[0;32m---> 32\u001b[0;31m     \u001b[0mimg\u001b[0m \u001b[0;34m=\u001b[0m \u001b[0mrasterio\u001b[0m\u001b[0;34m.\u001b[0m\u001b[0mopen\u001b[0m\u001b[0;34m(\u001b[0m\u001b[0mfile\u001b[0m\u001b[0;34m)\u001b[0m\u001b[0;34m\u001b[0m\u001b[0;34m\u001b[0m\u001b[0m\n\u001b[0m\u001b[1;32m     33\u001b[0m     \u001b[0mmeta\u001b[0m \u001b[0;34m=\u001b[0m \u001b[0mimg\u001b[0m\u001b[0;34m.\u001b[0m\u001b[0mmeta\u001b[0m\u001b[0;34m.\u001b[0m\u001b[0mcopy\u001b[0m\u001b[0;34m(\u001b[0m\u001b[0;34m)\u001b[0m\u001b[0;34m\u001b[0m\u001b[0;34m\u001b[0m\u001b[0m\n\u001b[1;32m     34\u001b[0m     \u001b[0;32mreturn\u001b[0m \u001b[0mimg\u001b[0m\u001b[0;34m,\u001b[0m \u001b[0mmeta\u001b[0m\u001b[0;34m\u001b[0m\u001b[0;34m\u001b[0m\u001b[0m\n",
            "\u001b[0;32m/usr/local/lib/python3.6/dist-packages/rasterio/env.py\u001b[0m in \u001b[0;36mwrapper\u001b[0;34m(*args, **kwds)\u001b[0m\n\u001b[1;32m    431\u001b[0m \u001b[0;34m\u001b[0m\u001b[0m\n\u001b[1;32m    432\u001b[0m         \u001b[0;32mwith\u001b[0m \u001b[0menv_ctor\u001b[0m\u001b[0;34m(\u001b[0m\u001b[0msession\u001b[0m\u001b[0;34m=\u001b[0m\u001b[0msession\u001b[0m\u001b[0;34m)\u001b[0m\u001b[0;34m:\u001b[0m\u001b[0;34m\u001b[0m\u001b[0;34m\u001b[0m\u001b[0m\n\u001b[0;32m--> 433\u001b[0;31m             \u001b[0;32mreturn\u001b[0m \u001b[0mf\u001b[0m\u001b[0;34m(\u001b[0m\u001b[0;34m*\u001b[0m\u001b[0margs\u001b[0m\u001b[0;34m,\u001b[0m \u001b[0;34m**\u001b[0m\u001b[0mkwds\u001b[0m\u001b[0;34m)\u001b[0m\u001b[0;34m\u001b[0m\u001b[0;34m\u001b[0m\u001b[0m\n\u001b[0m\u001b[1;32m    434\u001b[0m \u001b[0;34m\u001b[0m\u001b[0m\n\u001b[1;32m    435\u001b[0m     \u001b[0;32mreturn\u001b[0m \u001b[0mwrapper\u001b[0m\u001b[0;34m\u001b[0m\u001b[0;34m\u001b[0m\u001b[0m\n",
            "\u001b[0;32m/usr/local/lib/python3.6/dist-packages/rasterio/__init__.py\u001b[0m in \u001b[0;36mopen\u001b[0;34m(fp, mode, driver, width, height, count, crs, transform, dtype, nodata, sharing, **kwargs)\u001b[0m\n\u001b[1;32m    216\u001b[0m         \u001b[0;31m# None.\u001b[0m\u001b[0;34m\u001b[0m\u001b[0;34m\u001b[0m\u001b[0;34m\u001b[0m\u001b[0m\n\u001b[1;32m    217\u001b[0m         \u001b[0;32mif\u001b[0m \u001b[0mmode\u001b[0m \u001b[0;34m==\u001b[0m \u001b[0;34m'r'\u001b[0m\u001b[0;34m:\u001b[0m\u001b[0;34m\u001b[0m\u001b[0;34m\u001b[0m\u001b[0m\n\u001b[0;32m--> 218\u001b[0;31m             \u001b[0ms\u001b[0m \u001b[0;34m=\u001b[0m \u001b[0mDatasetReader\u001b[0m\u001b[0;34m(\u001b[0m\u001b[0mpath\u001b[0m\u001b[0;34m,\u001b[0m \u001b[0mdriver\u001b[0m\u001b[0;34m=\u001b[0m\u001b[0mdriver\u001b[0m\u001b[0;34m,\u001b[0m \u001b[0msharing\u001b[0m\u001b[0;34m=\u001b[0m\u001b[0msharing\u001b[0m\u001b[0;34m,\u001b[0m \u001b[0;34m**\u001b[0m\u001b[0mkwargs\u001b[0m\u001b[0;34m)\u001b[0m\u001b[0;34m\u001b[0m\u001b[0;34m\u001b[0m\u001b[0m\n\u001b[0m\u001b[1;32m    219\u001b[0m         \u001b[0;32melif\u001b[0m \u001b[0mmode\u001b[0m \u001b[0;34m==\u001b[0m \u001b[0;34m\"r+\"\u001b[0m\u001b[0;34m:\u001b[0m\u001b[0;34m\u001b[0m\u001b[0;34m\u001b[0m\u001b[0m\n\u001b[1;32m    220\u001b[0m             s = get_writer_for_path(path, driver=driver)(\n",
            "\u001b[0;32mrasterio/_base.pyx\u001b[0m in \u001b[0;36mrasterio._base.DatasetBase.__init__\u001b[0;34m()\u001b[0m\n",
            "\u001b[0;31mRasterioIOError\u001b[0m: planetscope.tif: No such file or directory"
          ]
        }
      ]
    },
    {
      "cell_type": "code",
      "metadata": {
        "id": "sSqwnRfnU37Z",
        "colab_type": "code",
        "colab": {}
      },
      "source": [
        "img, _ = raster.load_image(\"prob.tif\")\n",
        "fig, ax = plt.subplots(figsize=(15, 15))\n",
        "rasterio.plot.show(img)"
      ],
      "execution_count": null,
      "outputs": []
    },
    {
      "cell_type": "code",
      "metadata": {
        "id": "SKRNN2MIURVK",
        "colab_type": "code",
        "colab": {
          "base_uri": "https://localhost:8080/",
          "height": 180
        },
        "outputId": "07cc72e5-81c5-412d-9d23-e98a013602f0"
      },
      "source": [
        "for site in sites: \n",
        "    print(\"Generating data for: \", site[1])\n"
      ],
      "execution_count": null,
      "outputs": [
        {
          "output_type": "error",
          "ename": "NameError",
          "evalue": "ignored",
          "traceback": [
            "\u001b[0;31m---------------------------------------------------------------------------\u001b[0m",
            "\u001b[0;31mNameError\u001b[0m                                 Traceback (most recent call last)",
            "\u001b[0;32m<ipython-input-1-f5ce8db44609>\u001b[0m in \u001b[0;36m<module>\u001b[0;34m()\u001b[0m\n\u001b[0;32m----> 1\u001b[0;31m \u001b[0;32mfor\u001b[0m \u001b[0msite\u001b[0m \u001b[0;32min\u001b[0m \u001b[0msites\u001b[0m\u001b[0;34m:\u001b[0m\u001b[0;34m\u001b[0m\u001b[0;34m\u001b[0m\u001b[0m\n\u001b[0m\u001b[1;32m      2\u001b[0m     \u001b[0mprint\u001b[0m\u001b[0;34m(\u001b[0m\u001b[0;34m\"Generating data for: \"\u001b[0m\u001b[0;34m,\u001b[0m \u001b[0msite\u001b[0m\u001b[0;34m[\u001b[0m\u001b[0;36m1\u001b[0m\u001b[0;34m]\u001b[0m\u001b[0;34m)\u001b[0m\u001b[0;34m\u001b[0m\u001b[0;34m\u001b[0m\u001b[0m\n",
            "\u001b[0;31mNameError\u001b[0m: name 'sites' is not defined"
          ]
        }
      ]
    }
  ]
}