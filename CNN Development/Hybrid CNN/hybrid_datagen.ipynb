{
  "nbformat": 4,
  "nbformat_minor": 0,
  "metadata": {
    "colab": {
      "name": "hybrid-datagen.ipynb",
      "provenance": [],
      "collapsed_sections": [],
      "machine_shape": "hm"
    },
    "kernelspec": {
      "name": "python3",
      "display_name": "Python 3"
    }
  },
  "cells": [
    {
      "cell_type": "markdown",
      "metadata": {
        "id": "axtzhyZfreyi",
        "colab_type": "text"
      },
      "source": [
        "# Data Generation for Hybrid CNN"
      ]
    },
    {
      "cell_type": "markdown",
      "metadata": {
        "id": "YhxtR1lrVpTy",
        "colab_type": "text"
      },
      "source": [
        "### Workflow:\n",
        "\n",
        "Get 4 files + other info:\n",
        "\n",
        "- drone image\n",
        "- planetscope image\n",
        "- 0 shapefile\n",
        "- 1 shapefile\n",
        "- upload location\n",
        "\n",
        "After getting files:\n",
        "\n",
        "1. Clip image for satellite for each class\n",
        "2. Tileize each satellite image\n",
        "3. remove zero tiles\n",
        "\n",
        "\n",
        "4. Generate tiles based on each tiled satellite image\n",
        "5. remove additional tiles\n",
        "\n"
      ]
    },
    {
      "cell_type": "code",
      "metadata": {
        "id": "lXnXJ_6cgXsp",
        "colab_type": "code",
        "colab": {}
      },
      "source": [
        "%%capture\n",
        "!apt-get update\n",
        "!apt-get install libgdal-dev -y\n",
        "!apt-get install python-gdal -y\n",
        "!apt-get install python-numpy python-scipy -y\n",
        "!pip install rasterio\n",
        "!pip install fiona\n",
        "!pip install geopandas\n",
        "!pip install PyCRS\n",
        "!pip install -i https://test.pypi.org/simple/ gis-utils-pkg-dillhicks==0.0.3"
      ],
      "execution_count": 1,
      "outputs": []
    },
    {
      "cell_type": "code",
      "metadata": {
        "id": "xkZe2byEn3T3",
        "colab_type": "code",
        "colab": {
          "base_uri": "https://localhost:8080/",
          "height": 71
        },
        "outputId": "d4d1b59a-754b-4a7d-e48d-b708f99d05be"
      },
      "source": [
        "import rasterio\n",
        "from shapely.geometry import box\n",
        "import geopandas as gpd\n",
        "from rasterio.mask import mask\n",
        "from rasterio.plot import show\n",
        "from tqdm.autonotebook import tqdm\n",
        "import os\n",
        "from rasterio import windows as wind\n",
        "from fiona.crs import from_epsg\n",
        "from gis_utils import raster\n",
        "import matplotlib.pyplot as plt\n",
        "import fiona\n",
        "import numpy as np"
      ],
      "execution_count": 2,
      "outputs": [
        {
          "output_type": "stream",
          "text": [
            "/usr/local/lib/python3.6/dist-packages/ipykernel_launcher.py:6: TqdmExperimentalWarning: Using `tqdm.autonotebook.tqdm` in notebook mode. Use `tqdm.tqdm` instead to force console mode (e.g. in jupyter console)\n",
            "  \n"
          ],
          "name": "stderr"
        }
      ]
    },
    {
      "cell_type": "code",
      "metadata": {
        "id": "kzNMEslxjYFp",
        "colab_type": "code",
        "colab": {
          "base_uri": "https://localhost:8080/",
          "height": 122
        },
        "outputId": "05c468fc-561e-4321-a82f-c2efa8c4bdb2"
      },
      "source": [
        "from google.colab import drive\n",
        "drive.mount('/content/drive')"
      ],
      "execution_count": 3,
      "outputs": [
        {
          "output_type": "stream",
          "text": [
            "Go to this URL in a browser: https://accounts.google.com/o/oauth2/auth?client_id=947318989803-6bn6qk8qdgf4n4g3pfee6491hc0brc4i.apps.googleusercontent.com&redirect_uri=urn%3aietf%3awg%3aoauth%3a2.0%3aoob&response_type=code&scope=email%20https%3a%2f%2fwww.googleapis.com%2fauth%2fdocs.test%20https%3a%2f%2fwww.googleapis.com%2fauth%2fdrive%20https%3a%2f%2fwww.googleapis.com%2fauth%2fdrive.photos.readonly%20https%3a%2f%2fwww.googleapis.com%2fauth%2fpeopleapi.readonly\n",
            "\n",
            "Enter your authorization code:\n",
            "··········\n",
            "Mounted at /content/drive\n"
          ],
          "name": "stdout"
        }
      ]
    },
    {
      "cell_type": "markdown",
      "metadata": {
        "id": "bPTBra4tq-v3",
        "colab_type": "text"
      },
      "source": [
        "# Image Generation Functions\n"
      ]
    },
    {
      "cell_type": "code",
      "metadata": {
        "id": "_rhcjY94l2Qs",
        "colab_type": "code",
        "colab": {}
      },
      "source": [
        "#for clipping raster files\n",
        "\n",
        "def clip(shp_file, image_file, str_format):\n",
        "    with fiona.open(shp_file, \"r\") as shapefile:\n",
        "        shapes = [feature[\"geometry\"] for feature in shapefile]\n",
        "    with rasterio.open(image_file) as src:\n",
        "        out_image, out_transform = rasterio.mask.mask(src, shapes, crop=True)\n",
        "        out_meta = src.meta\n",
        "    out_meta.update({\"driver\": \"GTiff\",\n",
        "                 \"height\": out_image.shape[1],\n",
        "                 \"width\": out_image.shape[2],\n",
        "                 \"transform\": out_transform})\n",
        "    with rasterio.open(str_format + image_file, \"w\", **out_meta) as dest:\n",
        "        dest.write(out_image)"
      ],
      "execution_count": 4,
      "outputs": []
    },
    {
      "cell_type": "code",
      "metadata": {
        "id": "mnCZPFARApLn",
        "colab_type": "code",
        "colab": {}
      },
      "source": [
        "#getting features from the gdf for rasterio\n",
        "from os.path import join\n",
        "\n",
        "def getFeatures(gdf):\n",
        "\n",
        "    import json\n",
        "    return [json.loads(gdf.to_json())['features'][0]['geometry']]\n",
        "          "
      ],
      "execution_count": 23,
      "outputs": []
    },
    {
      "cell_type": "code",
      "metadata": {
        "id": "Txnc2_BRtx5p",
        "colab_type": "code",
        "colab": {}
      },
      "source": [
        "#for creating corresponding HR tiles from LR pixels\n",
        "def transfer_tiles(img, meta, tile_path, output_path):\n",
        "    out_meta = meta\n",
        "    output_filename = 'hr_{}.tif'\n",
        "    d_bbox = box(img.bounds.left, img.bounds.bottom, img.bounds.right, img.bounds.top)\n",
        "\n",
        "    for root, dirs, files in os.walk(tile_path):\n",
        "        for file in tqdm(files):\n",
        "            name = os.path.splitext(file)[0]\n",
        "            dataset, _ = raster.load_image(join(root,file))\n",
        "            bounds = dataset.bounds\n",
        "            bbox = box(bounds.left, bounds.bottom, bounds.right, bounds.top)\n",
        "            if bbox.within(d_bbox):\n",
        "                geo = gpd.GeoDataFrame({'geometry': bbox}, index=[0], crs=from_epsg(4326))\n",
        "                geo = geo.to_crs(crs=dataset.crs.data)\n",
        "                coords = getFeatures(geo)\n",
        "                out_img, out_transform = mask(img, shapes=coords, crop=True)\n",
        "                out_meta.update({\"driver\": \"GTiff\",\"height\": out_img.shape[1], \"width\": out_img.shape[2], \"transform\": out_transform, \"crs\": from_epsg(4326)})\n",
        "                outpath = os.path.join(output_path, output_filename.format(name))\n",
        "                with rasterio.open(outpath, 'w', **out_meta) as outds:\n",
        "                    outds.write(out_img)\n",
        "            "
      ],
      "execution_count": 24,
      "outputs": []
    },
    {
      "cell_type": "code",
      "metadata": {
        "id": "m5f6dXTvme5z",
        "colab_type": "code",
        "colab": {}
      },
      "source": [
        "#for removing tiles created \n",
        "def remove_zero(img_dir):\n",
        "    for filename in tqdm(os.listdir(img_dir)):\n",
        "        filepath = os.path.join(img_dir, filename)\n",
        "        tile, meta = raster.load_image(filepath)\n",
        "        if np.array_equal(np.unique(np.array(tile.read())), [0.]):\n",
        "            os.remove(filepath)"
      ],
      "execution_count": 6,
      "outputs": []
    },
    {
      "cell_type": "markdown",
      "metadata": {
        "id": "xlZjKOp8rPKb",
        "colab_type": "text"
      },
      "source": [
        "# Workflow Functions"
      ]
    },
    {
      "cell_type": "code",
      "metadata": {
        "id": "ypX3793uBQoP",
        "colab_type": "code",
        "colab": {}
      },
      "source": [
        "#Function for getting files needed for data generation process from the drive\n",
        "\n",
        "def get_filelist():\n",
        "    cur = []\n",
        "    dest = \"/content/drive/Shared drives/SIO and E4E Mangroves /Data/Machine Learning/Training Images/Hybrid CNN/\"\n",
        "\n",
        "    #horrible search method, do not do this, only works because how we specifically set up the drive structure\n",
        "\n",
        "    #iterating through all files in orthomosaics directory\n",
        "    for root, dirs, files in os.walk(\"/content/drive/Shared drives/SIO and E4E Mangroves /Data/Orthomosaics/\"):\n",
        "        for file in files:\n",
        "            \n",
        "            #finding all normal tifs\n",
        "            if not((\"dem\" in file) or (\"DEM\" in file) or (\"downsampled\" in file) or (\"CNN_prob\" in file) or (\"planetscope\" in file)) and not(file.startswith(\"un_\")) and not(file.endswith(\"CNN_nm.tif\")) and not(file.endswith(\"CNN_m.tif\")) and not(file.startswith(\"prob_\"))  and  (file.endswith(\".tif\")):\n",
        "                \n",
        "                #detecting planetscope images\n",
        "                for ortho in os.listdir(root):\n",
        "                    if (\"planetscope\" in ortho):\n",
        "\n",
        "                        #get shapefiles from classifications folder\n",
        "                        for subroot, subdirs, subfiles in os.walk(root):\n",
        "                            zero = \"0.shp\"\n",
        "                            one = \"1.shp\"\n",
        "\n",
        "                            #iterating through files in \n",
        "                            for subfile in subfiles:\n",
        "                                if (subfile == zero) or (subfile == one):\n",
        "                                    dest_zip = join(dest,os.path.splitext(file)[0] + \".zip\")\n",
        "                                    #since we will get dupicates\n",
        "                                    file_list = [join(root,file),\n",
        "                                                    join(root,ortho),\n",
        "                                                    join(subroot,zero),\n",
        "                                                    join(subroot,one),\n",
        "                                                    dest_zip]\n",
        "                                    if not(file_list in cur) and not(os.path.isfile(dest_zip)):\n",
        "                                        cur.append(file_list)\n",
        "                                    \n",
        "\n",
        "\n",
        "\n",
        "    return cur"
      ],
      "execution_count": 9,
      "outputs": []
    },
    {
      "cell_type": "code",
      "metadata": {
        "id": "Oq8LYbe4S9tQ",
        "colab_type": "code",
        "colab": {}
      },
      "source": [
        "# for copying files over from google drive to \n",
        "def copy_files(file_list):\n",
        "    print(\"Copying Files\")\n",
        "\n",
        "    !cp {\"\\\"\" + file_list[0] + \"\\\"\" } .\n",
        "    !cp {\"\\\"\" + file_list[1] + \"\\\"\" } .\n",
        "\n",
        "    d_name = os.path.basename(file_list[0])\n",
        "    p_name = os.path.basename(file_list[1])\n",
        "\n",
        "    !mv {d_name} /content/drone.tif\n",
        "    !mv {p_name} /content/planetscope.tif\n",
        "\n",
        "    !rm -rf /content/0/\n",
        "    !rm -rf /content/1/ \n",
        "\n",
        "    !rm -rf /content/0_hr/\n",
        "    !rm -rf /content/1_hr/\n",
        "\n",
        "    !mkdir 0\n",
        "    !mkdir 1\n",
        "    !mkdir 0_hr\n",
        "    !mkdir 1_hr"
      ],
      "execution_count": 33,
      "outputs": []
    },
    {
      "cell_type": "code",
      "metadata": {
        "id": "bhHP06wyVPjD",
        "colab_type": "code",
        "colab": {}
      },
      "source": [
        "def clip_retile(file_list):\n",
        "    print(\"Clipping and pixelizing satellite data\")\n",
        "\n",
        "    d_img, d_meta = raster.load_image(\"/content/drone.tif\")\n",
        "    zero_gpd = gpd.read_file(file_list[2])\n",
        "    one_gpd = gpd.read_file(file_list[3])\n",
        "\n",
        "    \n",
        "    clip(file_list[2], \"planetscope.tif\", \"clipped0_\")\n",
        "    clip(file_list[3], \"planetscope.tif\", \"clipped1_\")\n",
        "\n",
        "    c0_img, c0_meta = raster.load_image(\"clipped0_planetscope.tif\")\n",
        "    c1_img, c1_meta = raster.load_image(\"clipped1_planetscope.tif\")\n",
        "\n",
        "\n",
        "    !gdal_retile.py -ps 1 1 -targetDir \"/content/0\" \"clipped0_planetscope.tif\"\n",
        "    !gdal_retile.py -ps 1 1 -targetDir \"/content/1\" \"clipped1_planetscope.tif\"\n",
        "\n",
        "    remove_zero(\"/content/0/\")\n",
        "    remove_zero(\"/content/1/\")"
      ],
      "execution_count": 29,
      "outputs": []
    },
    {
      "cell_type": "code",
      "metadata": {
        "id": "u7O-49gCWE8J",
        "colab_type": "code",
        "colab": {}
      },
      "source": [
        "def gen_upload(file_list):\n",
        "    print(\"Generating Satellite Data and Uploading\")\n",
        "\n",
        "    d_img, d_meta = raster.load_image(\"/content/drone.tif\")\n",
        "    \n",
        "    transfer_tiles(d_img, d_meta, \"/content/1\", \"/content/1_hr\")\n",
        "    transfer_tiles(d_img, d_meta, \"/content/0\", \"/content/0_hr\")\n",
        "\n",
        "    !zip {\"\\\"\" + file_list[4] + \"\\\"\"} -r 0 0_hr 1 1_hr\n",
        "    !rm -rf *.tif\n",
        "    !rm -rf *.shp"
      ],
      "execution_count": 31,
      "outputs": []
    },
    {
      "cell_type": "code",
      "metadata": {
        "id": "2TS2OrVQDPf9",
        "colab_type": "code",
        "colab": {}
      },
      "source": [
        "for site in get_filelist():\n",
        "    print(\"Generating data for: \", site[0])\n",
        "    copy_files(site)\n",
        "    clip_retile(site)\n",
        "    gen_upload(site)"
      ],
      "execution_count": null,
      "outputs": []
    }
  ]
}