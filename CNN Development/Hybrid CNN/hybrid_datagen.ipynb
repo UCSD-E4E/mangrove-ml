{
  "nbformat": 4,
  "nbformat_minor": 0,
  "metadata": {
    "colab": {
      "name": "hybrid-datagen.ipynb",
      "provenance": [],
      "collapsed_sections": []
    },
    "kernelspec": {
      "name": "python3",
      "display_name": "Python 3"
    },
    "widgets": {
      "application/vnd.jupyter.widget-state+json": {
        "93931cc007154718a8f97fa23c8fa778": {
          "model_module": "@jupyter-widgets/controls",
          "model_name": "HBoxModel",
          "state": {
            "_view_name": "HBoxView",
            "_dom_classes": [],
            "_model_name": "HBoxModel",
            "_view_module": "@jupyter-widgets/controls",
            "_model_module_version": "1.5.0",
            "_view_count": null,
            "_view_module_version": "1.5.0",
            "box_style": "",
            "layout": "IPY_MODEL_d5513815b98d4072994d7bd9c34b3668",
            "_model_module": "@jupyter-widgets/controls",
            "children": [
              "IPY_MODEL_8afd458e505e4b1a830a8bf57743d178",
              "IPY_MODEL_37412cd7316d4280b1825707593635b2"
            ]
          }
        },
        "d5513815b98d4072994d7bd9c34b3668": {
          "model_module": "@jupyter-widgets/base",
          "model_name": "LayoutModel",
          "state": {
            "_view_name": "LayoutView",
            "grid_template_rows": null,
            "right": null,
            "justify_content": null,
            "_view_module": "@jupyter-widgets/base",
            "overflow": null,
            "_model_module_version": "1.2.0",
            "_view_count": null,
            "flex_flow": null,
            "width": null,
            "min_width": null,
            "border": null,
            "align_items": null,
            "bottom": null,
            "_model_module": "@jupyter-widgets/base",
            "top": null,
            "grid_column": null,
            "overflow_y": null,
            "overflow_x": null,
            "grid_auto_flow": null,
            "grid_area": null,
            "grid_template_columns": null,
            "flex": null,
            "_model_name": "LayoutModel",
            "justify_items": null,
            "grid_row": null,
            "max_height": null,
            "align_content": null,
            "visibility": null,
            "align_self": null,
            "height": null,
            "min_height": null,
            "padding": null,
            "grid_auto_rows": null,
            "grid_gap": null,
            "max_width": null,
            "order": null,
            "_view_module_version": "1.2.0",
            "grid_template_areas": null,
            "object_position": null,
            "object_fit": null,
            "grid_auto_columns": null,
            "margin": null,
            "display": null,
            "left": null
          }
        },
        "8afd458e505e4b1a830a8bf57743d178": {
          "model_module": "@jupyter-widgets/controls",
          "model_name": "FloatProgressModel",
          "state": {
            "_view_name": "ProgressView",
            "style": "IPY_MODEL_8ab0fee7d0ad4075b8e3f03ae7362915",
            "_dom_classes": [],
            "description": "100%",
            "_model_name": "FloatProgressModel",
            "bar_style": "success",
            "max": 14310,
            "_view_module": "@jupyter-widgets/controls",
            "_model_module_version": "1.5.0",
            "value": 14310,
            "_view_count": null,
            "_view_module_version": "1.5.0",
            "orientation": "horizontal",
            "min": 0,
            "description_tooltip": null,
            "_model_module": "@jupyter-widgets/controls",
            "layout": "IPY_MODEL_64a0685d5e624f98812815b63ec79803"
          }
        },
        "37412cd7316d4280b1825707593635b2": {
          "model_module": "@jupyter-widgets/controls",
          "model_name": "HTMLModel",
          "state": {
            "_view_name": "HTMLView",
            "style": "IPY_MODEL_6bf34ad6cbe0476ab97569d682fad860",
            "_dom_classes": [],
            "description": "",
            "_model_name": "HTMLModel",
            "placeholder": "​",
            "_view_module": "@jupyter-widgets/controls",
            "_model_module_version": "1.5.0",
            "value": " 14310/14310 [00:23&lt;00:00, 617.56it/s]",
            "_view_count": null,
            "_view_module_version": "1.5.0",
            "description_tooltip": null,
            "_model_module": "@jupyter-widgets/controls",
            "layout": "IPY_MODEL_ba4d7b8b5b1c4aca86ee270ce5658e36"
          }
        },
        "8ab0fee7d0ad4075b8e3f03ae7362915": {
          "model_module": "@jupyter-widgets/controls",
          "model_name": "ProgressStyleModel",
          "state": {
            "_view_name": "StyleView",
            "_model_name": "ProgressStyleModel",
            "description_width": "initial",
            "_view_module": "@jupyter-widgets/base",
            "_model_module_version": "1.5.0",
            "_view_count": null,
            "_view_module_version": "1.2.0",
            "bar_color": null,
            "_model_module": "@jupyter-widgets/controls"
          }
        },
        "64a0685d5e624f98812815b63ec79803": {
          "model_module": "@jupyter-widgets/base",
          "model_name": "LayoutModel",
          "state": {
            "_view_name": "LayoutView",
            "grid_template_rows": null,
            "right": null,
            "justify_content": null,
            "_view_module": "@jupyter-widgets/base",
            "overflow": null,
            "_model_module_version": "1.2.0",
            "_view_count": null,
            "flex_flow": null,
            "width": null,
            "min_width": null,
            "border": null,
            "align_items": null,
            "bottom": null,
            "_model_module": "@jupyter-widgets/base",
            "top": null,
            "grid_column": null,
            "overflow_y": null,
            "overflow_x": null,
            "grid_auto_flow": null,
            "grid_area": null,
            "grid_template_columns": null,
            "flex": null,
            "_model_name": "LayoutModel",
            "justify_items": null,
            "grid_row": null,
            "max_height": null,
            "align_content": null,
            "visibility": null,
            "align_self": null,
            "height": null,
            "min_height": null,
            "padding": null,
            "grid_auto_rows": null,
            "grid_gap": null,
            "max_width": null,
            "order": null,
            "_view_module_version": "1.2.0",
            "grid_template_areas": null,
            "object_position": null,
            "object_fit": null,
            "grid_auto_columns": null,
            "margin": null,
            "display": null,
            "left": null
          }
        },
        "6bf34ad6cbe0476ab97569d682fad860": {
          "model_module": "@jupyter-widgets/controls",
          "model_name": "DescriptionStyleModel",
          "state": {
            "_view_name": "StyleView",
            "_model_name": "DescriptionStyleModel",
            "description_width": "",
            "_view_module": "@jupyter-widgets/base",
            "_model_module_version": "1.5.0",
            "_view_count": null,
            "_view_module_version": "1.2.0",
            "_model_module": "@jupyter-widgets/controls"
          }
        },
        "ba4d7b8b5b1c4aca86ee270ce5658e36": {
          "model_module": "@jupyter-widgets/base",
          "model_name": "LayoutModel",
          "state": {
            "_view_name": "LayoutView",
            "grid_template_rows": null,
            "right": null,
            "justify_content": null,
            "_view_module": "@jupyter-widgets/base",
            "overflow": null,
            "_model_module_version": "1.2.0",
            "_view_count": null,
            "flex_flow": null,
            "width": null,
            "min_width": null,
            "border": null,
            "align_items": null,
            "bottom": null,
            "_model_module": "@jupyter-widgets/base",
            "top": null,
            "grid_column": null,
            "overflow_y": null,
            "overflow_x": null,
            "grid_auto_flow": null,
            "grid_area": null,
            "grid_template_columns": null,
            "flex": null,
            "_model_name": "LayoutModel",
            "justify_items": null,
            "grid_row": null,
            "max_height": null,
            "align_content": null,
            "visibility": null,
            "align_self": null,
            "height": null,
            "min_height": null,
            "padding": null,
            "grid_auto_rows": null,
            "grid_gap": null,
            "max_width": null,
            "order": null,
            "_view_module_version": "1.2.0",
            "grid_template_areas": null,
            "object_position": null,
            "object_fit": null,
            "grid_auto_columns": null,
            "margin": null,
            "display": null,
            "left": null
          }
        },
        "76442cb05393488fbecb8cac2c7ef037": {
          "model_module": "@jupyter-widgets/controls",
          "model_name": "HBoxModel",
          "state": {
            "_view_name": "HBoxView",
            "_dom_classes": [],
            "_model_name": "HBoxModel",
            "_view_module": "@jupyter-widgets/controls",
            "_model_module_version": "1.5.0",
            "_view_count": null,
            "_view_module_version": "1.5.0",
            "box_style": "",
            "layout": "IPY_MODEL_c99f653772894df4b38f8ceb96878429",
            "_model_module": "@jupyter-widgets/controls",
            "children": [
              "IPY_MODEL_1c0a85ca9ea747c69151668f7f1223bd",
              "IPY_MODEL_82769b6f235a4e8284a1885521225aca"
            ]
          }
        },
        "c99f653772894df4b38f8ceb96878429": {
          "model_module": "@jupyter-widgets/base",
          "model_name": "LayoutModel",
          "state": {
            "_view_name": "LayoutView",
            "grid_template_rows": null,
            "right": null,
            "justify_content": null,
            "_view_module": "@jupyter-widgets/base",
            "overflow": null,
            "_model_module_version": "1.2.0",
            "_view_count": null,
            "flex_flow": null,
            "width": null,
            "min_width": null,
            "border": null,
            "align_items": null,
            "bottom": null,
            "_model_module": "@jupyter-widgets/base",
            "top": null,
            "grid_column": null,
            "overflow_y": null,
            "overflow_x": null,
            "grid_auto_flow": null,
            "grid_area": null,
            "grid_template_columns": null,
            "flex": null,
            "_model_name": "LayoutModel",
            "justify_items": null,
            "grid_row": null,
            "max_height": null,
            "align_content": null,
            "visibility": null,
            "align_self": null,
            "height": null,
            "min_height": null,
            "padding": null,
            "grid_auto_rows": null,
            "grid_gap": null,
            "max_width": null,
            "order": null,
            "_view_module_version": "1.2.0",
            "grid_template_areas": null,
            "object_position": null,
            "object_fit": null,
            "grid_auto_columns": null,
            "margin": null,
            "display": null,
            "left": null
          }
        },
        "1c0a85ca9ea747c69151668f7f1223bd": {
          "model_module": "@jupyter-widgets/controls",
          "model_name": "FloatProgressModel",
          "state": {
            "_view_name": "ProgressView",
            "style": "IPY_MODEL_8894498fb4fd4286bd135188e502af23",
            "_dom_classes": [],
            "description": "100%",
            "_model_name": "FloatProgressModel",
            "bar_style": "success",
            "max": 20328,
            "_view_module": "@jupyter-widgets/controls",
            "_model_module_version": "1.5.0",
            "value": 20328,
            "_view_count": null,
            "_view_module_version": "1.5.0",
            "orientation": "horizontal",
            "min": 0,
            "description_tooltip": null,
            "_model_module": "@jupyter-widgets/controls",
            "layout": "IPY_MODEL_2ddb5b6b6a714599ba0efdb82b224722"
          }
        },
        "82769b6f235a4e8284a1885521225aca": {
          "model_module": "@jupyter-widgets/controls",
          "model_name": "HTMLModel",
          "state": {
            "_view_name": "HTMLView",
            "style": "IPY_MODEL_5347ae4668774da9a240213325243675",
            "_dom_classes": [],
            "description": "",
            "_model_name": "HTMLModel",
            "placeholder": "​",
            "_view_module": "@jupyter-widgets/controls",
            "_model_module_version": "1.5.0",
            "value": " 20328/20328 [00:31&lt;00:00, 647.90it/s]",
            "_view_count": null,
            "_view_module_version": "1.5.0",
            "description_tooltip": null,
            "_model_module": "@jupyter-widgets/controls",
            "layout": "IPY_MODEL_112afff611ef47d98c8b5bae5d3dd595"
          }
        },
        "8894498fb4fd4286bd135188e502af23": {
          "model_module": "@jupyter-widgets/controls",
          "model_name": "ProgressStyleModel",
          "state": {
            "_view_name": "StyleView",
            "_model_name": "ProgressStyleModel",
            "description_width": "initial",
            "_view_module": "@jupyter-widgets/base",
            "_model_module_version": "1.5.0",
            "_view_count": null,
            "_view_module_version": "1.2.0",
            "bar_color": null,
            "_model_module": "@jupyter-widgets/controls"
          }
        },
        "2ddb5b6b6a714599ba0efdb82b224722": {
          "model_module": "@jupyter-widgets/base",
          "model_name": "LayoutModel",
          "state": {
            "_view_name": "LayoutView",
            "grid_template_rows": null,
            "right": null,
            "justify_content": null,
            "_view_module": "@jupyter-widgets/base",
            "overflow": null,
            "_model_module_version": "1.2.0",
            "_view_count": null,
            "flex_flow": null,
            "width": null,
            "min_width": null,
            "border": null,
            "align_items": null,
            "bottom": null,
            "_model_module": "@jupyter-widgets/base",
            "top": null,
            "grid_column": null,
            "overflow_y": null,
            "overflow_x": null,
            "grid_auto_flow": null,
            "grid_area": null,
            "grid_template_columns": null,
            "flex": null,
            "_model_name": "LayoutModel",
            "justify_items": null,
            "grid_row": null,
            "max_height": null,
            "align_content": null,
            "visibility": null,
            "align_self": null,
            "height": null,
            "min_height": null,
            "padding": null,
            "grid_auto_rows": null,
            "grid_gap": null,
            "max_width": null,
            "order": null,
            "_view_module_version": "1.2.0",
            "grid_template_areas": null,
            "object_position": null,
            "object_fit": null,
            "grid_auto_columns": null,
            "margin": null,
            "display": null,
            "left": null
          }
        },
        "5347ae4668774da9a240213325243675": {
          "model_module": "@jupyter-widgets/controls",
          "model_name": "DescriptionStyleModel",
          "state": {
            "_view_name": "StyleView",
            "_model_name": "DescriptionStyleModel",
            "description_width": "",
            "_view_module": "@jupyter-widgets/base",
            "_model_module_version": "1.5.0",
            "_view_count": null,
            "_view_module_version": "1.2.0",
            "_model_module": "@jupyter-widgets/controls"
          }
        },
        "112afff611ef47d98c8b5bae5d3dd595": {
          "model_module": "@jupyter-widgets/base",
          "model_name": "LayoutModel",
          "state": {
            "_view_name": "LayoutView",
            "grid_template_rows": null,
            "right": null,
            "justify_content": null,
            "_view_module": "@jupyter-widgets/base",
            "overflow": null,
            "_model_module_version": "1.2.0",
            "_view_count": null,
            "flex_flow": null,
            "width": null,
            "min_width": null,
            "border": null,
            "align_items": null,
            "bottom": null,
            "_model_module": "@jupyter-widgets/base",
            "top": null,
            "grid_column": null,
            "overflow_y": null,
            "overflow_x": null,
            "grid_auto_flow": null,
            "grid_area": null,
            "grid_template_columns": null,
            "flex": null,
            "_model_name": "LayoutModel",
            "justify_items": null,
            "grid_row": null,
            "max_height": null,
            "align_content": null,
            "visibility": null,
            "align_self": null,
            "height": null,
            "min_height": null,
            "padding": null,
            "grid_auto_rows": null,
            "grid_gap": null,
            "max_width": null,
            "order": null,
            "_view_module_version": "1.2.0",
            "grid_template_areas": null,
            "object_position": null,
            "object_fit": null,
            "grid_auto_columns": null,
            "margin": null,
            "display": null,
            "left": null
          }
        },
        "8d024d1f10ba4076b1255160ea96ce18": {
          "model_module": "@jupyter-widgets/controls",
          "model_name": "HBoxModel",
          "state": {
            "_view_name": "HBoxView",
            "_dom_classes": [],
            "_model_name": "HBoxModel",
            "_view_module": "@jupyter-widgets/controls",
            "_model_module_version": "1.5.0",
            "_view_count": null,
            "_view_module_version": "1.5.0",
            "box_style": "",
            "layout": "IPY_MODEL_7aaba53245b147c6bd8e0e20b5a09c4f",
            "_model_module": "@jupyter-widgets/controls",
            "children": [
              "IPY_MODEL_497169ab8c7348658f3785927b89410b",
              "IPY_MODEL_6ede756195844288a195393a9d09806c"
            ]
          }
        },
        "7aaba53245b147c6bd8e0e20b5a09c4f": {
          "model_module": "@jupyter-widgets/base",
          "model_name": "LayoutModel",
          "state": {
            "_view_name": "LayoutView",
            "grid_template_rows": null,
            "right": null,
            "justify_content": null,
            "_view_module": "@jupyter-widgets/base",
            "overflow": null,
            "_model_module_version": "1.2.0",
            "_view_count": null,
            "flex_flow": null,
            "width": null,
            "min_width": null,
            "border": null,
            "align_items": null,
            "bottom": null,
            "_model_module": "@jupyter-widgets/base",
            "top": null,
            "grid_column": null,
            "overflow_y": null,
            "overflow_x": null,
            "grid_auto_flow": null,
            "grid_area": null,
            "grid_template_columns": null,
            "flex": null,
            "_model_name": "LayoutModel",
            "justify_items": null,
            "grid_row": null,
            "max_height": null,
            "align_content": null,
            "visibility": null,
            "align_self": null,
            "height": null,
            "min_height": null,
            "padding": null,
            "grid_auto_rows": null,
            "grid_gap": null,
            "max_width": null,
            "order": null,
            "_view_module_version": "1.2.0",
            "grid_template_areas": null,
            "object_position": null,
            "object_fit": null,
            "grid_auto_columns": null,
            "margin": null,
            "display": null,
            "left": null
          }
        },
        "497169ab8c7348658f3785927b89410b": {
          "model_module": "@jupyter-widgets/controls",
          "model_name": "FloatProgressModel",
          "state": {
            "_view_name": "ProgressView",
            "style": "IPY_MODEL_3b687454523a43fd911da672838bfec2",
            "_dom_classes": [],
            "description": " 17%",
            "_model_name": "FloatProgressModel",
            "bar_style": "",
            "max": 13510,
            "_view_module": "@jupyter-widgets/controls",
            "_model_module_version": "1.5.0",
            "value": 2339,
            "_view_count": null,
            "_view_module_version": "1.5.0",
            "orientation": "horizontal",
            "min": 0,
            "description_tooltip": null,
            "_model_module": "@jupyter-widgets/controls",
            "layout": "IPY_MODEL_60f33b66100847a6afd3c69d431b5dee"
          }
        },
        "6ede756195844288a195393a9d09806c": {
          "model_module": "@jupyter-widgets/controls",
          "model_name": "HTMLModel",
          "state": {
            "_view_name": "HTMLView",
            "style": "IPY_MODEL_a9ec0ae1b9b341ee8986a5b9364fa339",
            "_dom_classes": [],
            "description": "",
            "_model_name": "HTMLModel",
            "placeholder": "​",
            "_view_module": "@jupyter-widgets/controls",
            "_model_module_version": "1.5.0",
            "value": " 2339/13510 [01:58&lt;09:04, 20.53it/s]",
            "_view_count": null,
            "_view_module_version": "1.5.0",
            "description_tooltip": null,
            "_model_module": "@jupyter-widgets/controls",
            "layout": "IPY_MODEL_f8262014544c44e18e5f633ad5da8572"
          }
        },
        "3b687454523a43fd911da672838bfec2": {
          "model_module": "@jupyter-widgets/controls",
          "model_name": "ProgressStyleModel",
          "state": {
            "_view_name": "StyleView",
            "_model_name": "ProgressStyleModel",
            "description_width": "initial",
            "_view_module": "@jupyter-widgets/base",
            "_model_module_version": "1.5.0",
            "_view_count": null,
            "_view_module_version": "1.2.0",
            "bar_color": null,
            "_model_module": "@jupyter-widgets/controls"
          }
        },
        "60f33b66100847a6afd3c69d431b5dee": {
          "model_module": "@jupyter-widgets/base",
          "model_name": "LayoutModel",
          "state": {
            "_view_name": "LayoutView",
            "grid_template_rows": null,
            "right": null,
            "justify_content": null,
            "_view_module": "@jupyter-widgets/base",
            "overflow": null,
            "_model_module_version": "1.2.0",
            "_view_count": null,
            "flex_flow": null,
            "width": null,
            "min_width": null,
            "border": null,
            "align_items": null,
            "bottom": null,
            "_model_module": "@jupyter-widgets/base",
            "top": null,
            "grid_column": null,
            "overflow_y": null,
            "overflow_x": null,
            "grid_auto_flow": null,
            "grid_area": null,
            "grid_template_columns": null,
            "flex": null,
            "_model_name": "LayoutModel",
            "justify_items": null,
            "grid_row": null,
            "max_height": null,
            "align_content": null,
            "visibility": null,
            "align_self": null,
            "height": null,
            "min_height": null,
            "padding": null,
            "grid_auto_rows": null,
            "grid_gap": null,
            "max_width": null,
            "order": null,
            "_view_module_version": "1.2.0",
            "grid_template_areas": null,
            "object_position": null,
            "object_fit": null,
            "grid_auto_columns": null,
            "margin": null,
            "display": null,
            "left": null
          }
        },
        "a9ec0ae1b9b341ee8986a5b9364fa339": {
          "model_module": "@jupyter-widgets/controls",
          "model_name": "DescriptionStyleModel",
          "state": {
            "_view_name": "StyleView",
            "_model_name": "DescriptionStyleModel",
            "description_width": "",
            "_view_module": "@jupyter-widgets/base",
            "_model_module_version": "1.5.0",
            "_view_count": null,
            "_view_module_version": "1.2.0",
            "_model_module": "@jupyter-widgets/controls"
          }
        },
        "f8262014544c44e18e5f633ad5da8572": {
          "model_module": "@jupyter-widgets/base",
          "model_name": "LayoutModel",
          "state": {
            "_view_name": "LayoutView",
            "grid_template_rows": null,
            "right": null,
            "justify_content": null,
            "_view_module": "@jupyter-widgets/base",
            "overflow": null,
            "_model_module_version": "1.2.0",
            "_view_count": null,
            "flex_flow": null,
            "width": null,
            "min_width": null,
            "border": null,
            "align_items": null,
            "bottom": null,
            "_model_module": "@jupyter-widgets/base",
            "top": null,
            "grid_column": null,
            "overflow_y": null,
            "overflow_x": null,
            "grid_auto_flow": null,
            "grid_area": null,
            "grid_template_columns": null,
            "flex": null,
            "_model_name": "LayoutModel",
            "justify_items": null,
            "grid_row": null,
            "max_height": null,
            "align_content": null,
            "visibility": null,
            "align_self": null,
            "height": null,
            "min_height": null,
            "padding": null,
            "grid_auto_rows": null,
            "grid_gap": null,
            "max_width": null,
            "order": null,
            "_view_module_version": "1.2.0",
            "grid_template_areas": null,
            "object_position": null,
            "object_fit": null,
            "grid_auto_columns": null,
            "margin": null,
            "display": null,
            "left": null
          }
        }
      }
    }
  },
  "cells": [
    {
      "cell_type": "markdown",
      "metadata": {
        "id": "axtzhyZfreyi",
        "colab_type": "text"
      },
      "source": [
        "# Data Generation for Hybrid CNN"
      ]
    },
    {
      "cell_type": "markdown",
      "metadata": {
        "id": "YhxtR1lrVpTy",
        "colab_type": "text"
      },
      "source": [
        "### Workflow:\n",
        "\n",
        "Get 4 files + other info:\n",
        "\n",
        "- drone image\n",
        "- planetscope image\n",
        "- 0 shapefile\n",
        "- 1 shapefile\n",
        "- upload location\n",
        "\n",
        "After getting files:\n",
        "\n",
        "1. Clip image for satellite for each class\n",
        "2. Tileize each satellite image\n",
        "3. remove zero tiles\n",
        "\n",
        "\n",
        "4. Generate tiles based on each tiled satellite image\n",
        "5. remove additional tiles\n",
        "\n"
      ]
    },
    {
      "cell_type": "code",
      "metadata": {
        "id": "lXnXJ_6cgXsp",
        "colab_type": "code",
        "colab": {}
      },
      "source": [
        "%%capture\n",
        "!apt-get update\n",
        "!apt-get install libgdal-dev -y\n",
        "!apt-get install python-gdal -y\n",
        "!apt-get install python-numpy python-scipy -y\n",
        "!pip install rasterio\n",
        "!pip install fiona\n",
        "!pip install geopandas\n",
        "!pip install PyCRS\n",
        "!pip install -i https://test.pypi.org/simple/ gis-utils-pkg-dillhicks==0.0.3"
      ],
      "execution_count": 1,
      "outputs": []
    },
    {
      "cell_type": "code",
      "metadata": {
        "id": "xkZe2byEn3T3",
        "colab_type": "code",
        "colab": {
          "base_uri": "https://localhost:8080/",
          "height": 71
        },
        "outputId": "cd29de3c-1df1-4d80-f976-422c84ac796c"
      },
      "source": [
        "import rasterio\n",
        "from shapely.geometry import box\n",
        "import geopandas as gpd\n",
        "from rasterio.mask import mask\n",
        "from rasterio.plot import show\n",
        "from tqdm.autonotebook import tqdm\n",
        "import os\n",
        "from rasterio import windows as wind\n",
        "from fiona.crs import from_epsg\n",
        "from gis_utils import raster\n",
        "import matplotlib.pyplot as plt\n",
        "import fiona\n",
        "import numpy as np"
      ],
      "execution_count": 2,
      "outputs": [
        {
          "output_type": "stream",
          "text": [
            "/usr/local/lib/python3.6/dist-packages/ipykernel_launcher.py:6: TqdmExperimentalWarning: Using `tqdm.autonotebook.tqdm` in notebook mode. Use `tqdm.tqdm` instead to force console mode (e.g. in jupyter console)\n",
            "  \n"
          ],
          "name": "stderr"
        }
      ]
    },
    {
      "cell_type": "code",
      "metadata": {
        "id": "kzNMEslxjYFp",
        "colab_type": "code",
        "colab": {
          "base_uri": "https://localhost:8080/",
          "height": 122
        },
        "outputId": "e25a1c4d-6b16-4466-ee52-b5f51c3c6afb"
      },
      "source": [
        "from google.colab import drive\n",
        "drive.mount('/content/drive')"
      ],
      "execution_count": 3,
      "outputs": [
        {
          "output_type": "stream",
          "text": [
            "Go to this URL in a browser: https://accounts.google.com/o/oauth2/auth?client_id=947318989803-6bn6qk8qdgf4n4g3pfee6491hc0brc4i.apps.googleusercontent.com&redirect_uri=urn%3aietf%3awg%3aoauth%3a2.0%3aoob&response_type=code&scope=email%20https%3a%2f%2fwww.googleapis.com%2fauth%2fdocs.test%20https%3a%2f%2fwww.googleapis.com%2fauth%2fdrive%20https%3a%2f%2fwww.googleapis.com%2fauth%2fdrive.photos.readonly%20https%3a%2f%2fwww.googleapis.com%2fauth%2fpeopleapi.readonly\n",
            "\n",
            "Enter your authorization code:\n",
            "··········\n",
            "Mounted at /content/drive\n"
          ],
          "name": "stdout"
        }
      ]
    },
    {
      "cell_type": "markdown",
      "metadata": {
        "id": "bPTBra4tq-v3",
        "colab_type": "text"
      },
      "source": [
        "# Image Generation Functions\n"
      ]
    },
    {
      "cell_type": "code",
      "metadata": {
        "id": "TAjHfEp6uTRG",
        "colab_type": "code",
        "colab": {}
      },
      "source": [
        "def write_ndvi(image_file):\n",
        "    np.seterr(divide='ignore', invalid='ignore')\n",
        "    p_img, p_meta = raster.load_image(image_file)\n",
        "\n",
        "    red = p_img.read(1)\n",
        "    nir = p_img.read(4)\n",
        "    array = p_img.read()\n",
        "    ndvi = (nir - red)/(nir + red)\n",
        "\n",
        "    p_meta.update({\"count\": p_img.count+1})\n",
        "    out_img = np.concatenate((array, np.expand_dims(ndvi, axis=0)))\n",
        "\n",
        "    with rasterio.open(image_file, 'w', **p_meta) as outds:\n",
        "        outds.write(out_img)"
      ],
      "execution_count": 16,
      "outputs": []
    },
    {
      "cell_type": "code",
      "metadata": {
        "id": "_rhcjY94l2Qs",
        "colab_type": "code",
        "colab": {}
      },
      "source": [
        "#for clipping raster files\n",
        "\n",
        "def clip(shp_file, image_file, str_format):\n",
        "    with fiona.open(shp_file, \"r\") as shapefile:\n",
        "        shapes = [feature[\"geometry\"] for feature in shapefile]\n",
        "    with rasterio.open(image_file) as src:\n",
        "        out_image, out_transform = rasterio.mask.mask(src, shapes, crop=True)\n",
        "        out_meta = src.meta\n",
        "    out_meta.update({\"driver\": \"GTiff\",\n",
        "                 \"height\": out_image.shape[1],\n",
        "                 \"width\": out_image.shape[2],\n",
        "                 \"transform\": out_transform})\n",
        "    with rasterio.open(str_format + image_file, \"w\", **out_meta) as dest:\n",
        "        dest.write(out_image)"
      ],
      "execution_count": 5,
      "outputs": []
    },
    {
      "cell_type": "code",
      "metadata": {
        "id": "mnCZPFARApLn",
        "colab_type": "code",
        "colab": {}
      },
      "source": [
        "#getting features from the gdf for rasterio\n",
        "from os.path import join\n",
        "\n",
        "def getFeatures(gdf):\n",
        "\n",
        "    import json\n",
        "    return [json.loads(gdf.to_json())['features'][0]['geometry']]\n",
        "          "
      ],
      "execution_count": 6,
      "outputs": []
    },
    {
      "cell_type": "code",
      "metadata": {
        "id": "Txnc2_BRtx5p",
        "colab_type": "code",
        "colab": {}
      },
      "source": [
        "#for creating corresponding HR tiles from LR pixels\n",
        "def transfer_tiles(img, meta, tile_path, output_path):\n",
        "    out_meta = meta\n",
        "    output_filename = 'hr_{}.tif'\n",
        "    d_bbox = box(img.bounds.left, img.bounds.bottom, img.bounds.right, img.bounds.top)\n",
        "\n",
        "    for root, dirs, files in os.walk(tile_path):\n",
        "        for file in tqdm(files):\n",
        "            name = os.path.splitext(file)[0]\n",
        "            dataset, _ = raster.load_image(join(root,file))\n",
        "            bounds = dataset.bounds\n",
        "            bbox = box(bounds.left, bounds.bottom, bounds.right, bounds.top)\n",
        "\n",
        "            if bbox.within(d_bbox):\n",
        "                geo = gpd.GeoDataFrame({'geometry': bbox}, index=[0], crs=from_epsg(4326))\n",
        "                geo = geo.to_crs(crs=dataset.crs.data)\n",
        "                coords = getFeatures(geo)\n",
        "                out_img, out_transform = mask(img, shapes=coords, crop=True)\n",
        "                out_meta.update({\"driver\": \"GTiff\",\"height\": out_img.shape[1], \"width\": out_img.shape[2], \"transform\": out_transform, \"crs\": from_epsg(4326)})\n",
        "                outpath = os.path.join(output_path, output_filename.format(name))\n",
        "                with rasterio.open(outpath, 'w', **out_meta) as outds:\n",
        "                    outds.write(out_img)\n",
        "            "
      ],
      "execution_count": 8,
      "outputs": []
    },
    {
      "cell_type": "code",
      "metadata": {
        "id": "m5f6dXTvme5z",
        "colab_type": "code",
        "colab": {}
      },
      "source": [
        "#for removing tiles created \n",
        "def remove_zero(img_dir):\n",
        "    for filename in tqdm(os.listdir(img_dir)):\n",
        "        filepath = os.path.join(img_dir, filename)\n",
        "        tile, meta = raster.load_image(filepath)\n",
        "        if np.array_equal(np.unique(np.array(tile.read())), [0.]):\n",
        "            os.remove(filepath)"
      ],
      "execution_count": 9,
      "outputs": []
    },
    {
      "cell_type": "markdown",
      "metadata": {
        "id": "xlZjKOp8rPKb",
        "colab_type": "text"
      },
      "source": [
        "# Workflow Functions"
      ]
    },
    {
      "cell_type": "code",
      "metadata": {
        "id": "ypX3793uBQoP",
        "colab_type": "code",
        "colab": {}
      },
      "source": [
        "#Function for getting files needed for data generation process from the drive\n",
        "\n",
        "def get_filelist():\n",
        "    cur = []\n",
        "    dest = \"/content/drive/Shared drives/SIO and E4E Mangroves /Data/Machine Learning/Training Images/Hybrid CNN/\"\n",
        "\n",
        "    #horrible search method, do not do this, only works because how we specifically set up the drive structure\n",
        "\n",
        "    #iterating through all files in orthomosaics directory\n",
        "    for root, dirs, files in os.walk(\"/content/drive/Shared drives/SIO and E4E Mangroves /Data/Orthomosaics/\"):\n",
        "        for file in files:\n",
        "            \n",
        "            #finding all normal tifs\n",
        "            if not((\"dem\" in file) or (\"DEM\" in file) or (\"downsampled\" in file) or (\"CNN_prob\" in file) or (\"planetscope\" in file)) and not(file.startswith(\"un_\")) and not(file.endswith(\"CNN_nm.tif\")) and not(file.endswith(\"CNN_m.tif\")) and not(file.startswith(\"prob_\"))  and  (file.endswith(\".tif\")):\n",
        "                \n",
        "                #detecting planetscope images\n",
        "                for ortho in os.listdir(root):\n",
        "                    if (\"planetscope\" in ortho):\n",
        "\n",
        "                        #get shapefiles from classifications folder\n",
        "                        for subroot, subdirs, subfiles in os.walk(root):\n",
        "                            zero = \"0.shp\"\n",
        "                            one = \"1.shp\"\n",
        "\n",
        "                            #iterating through files in \n",
        "                            for subfile in subfiles:\n",
        "                                if (subfile == zero) or (subfile == one):\n",
        "                                    dest_zip = join(dest,os.path.splitext(file)[0] + \".zip\")\n",
        "                                    #since we will get dupicates\n",
        "                                    file_list = [join(root,file),\n",
        "                                                    join(root,ortho),\n",
        "                                                    join(subroot,zero),\n",
        "                                                    join(subroot,one),\n",
        "                                                    dest_zip]\n",
        "                                    if not(file_list in cur) and not(os.path.isfile(dest_zip)):\n",
        "                                        cur.append(file_list)\n",
        "                                    \n",
        "\n",
        "\n",
        "\n",
        "    return cur"
      ],
      "execution_count": 10,
      "outputs": []
    },
    {
      "cell_type": "code",
      "metadata": {
        "id": "Oq8LYbe4S9tQ",
        "colab_type": "code",
        "colab": {}
      },
      "source": [
        "# for copying files over from google drive to \n",
        "def copy_files(file_list):\n",
        "    print(\"Copying Files\")\n",
        "\n",
        "    !cp {\"\\\"\" + file_list[0] + \"\\\"\" } .\n",
        "    !cp {\"\\\"\" + file_list[1] + \"\\\"\" } .\n",
        "\n",
        "    d_name = os.path.basename(file_list[0])\n",
        "    p_name = os.path.basename(file_list[1])\n",
        "\n",
        "    !mv {d_name} /content/drone.tif\n",
        "    !mv {p_name} /content/planetscope.tif\n",
        "\n",
        "    !rm -rf /content/0/\n",
        "    !rm -rf /content/1/ \n",
        "\n",
        "    !rm -rf /content/0_hr/\n",
        "    !rm -rf /content/1_hr/\n",
        "\n",
        "    !mkdir 0\n",
        "    !mkdir 1\n",
        "    !mkdir 0_hr\n",
        "    !mkdir 1_hr"
      ],
      "execution_count": 11,
      "outputs": []
    },
    {
      "cell_type": "code",
      "metadata": {
        "id": "bhHP06wyVPjD",
        "colab_type": "code",
        "colab": {}
      },
      "source": [
        "def clip_retile(file_list):\n",
        "    print(\"Clipping and pixelizing satellite data\")\n",
        "\n",
        "    d_img, d_meta = raster.load_image(\"/content/drone.tif\")\n",
        "    zero_gpd = gpd.read_file(file_list[2])\n",
        "    one_gpd = gpd.read_file(file_list[3])\n",
        "\n",
        "    \n",
        "    clip(file_list[2], \"planetscope.tif\", \"clipped0_\")\n",
        "    clip(file_list[3], \"planetscope.tif\", \"clipped1_\")\n",
        "\n",
        "    c0_img, c0_meta = raster.load_image(\"clipped0_planetscope.tif\")\n",
        "    c1_img, c1_meta = raster.load_image(\"clipped1_planetscope.tif\")\n",
        "\n",
        "\n",
        "    !gdal_retile.py -ps 1 1 -targetDir \"/content/0\" \"clipped0_planetscope.tif\"\n",
        "    !gdal_retile.py -ps 1 1 -targetDir \"/content/1\" \"clipped1_planetscope.tif\"\n",
        "\n",
        "    remove_zero(\"/content/0/\")\n",
        "    remove_zero(\"/content/1/\")"
      ],
      "execution_count": 12,
      "outputs": []
    },
    {
      "cell_type": "code",
      "metadata": {
        "id": "u7O-49gCWE8J",
        "colab_type": "code",
        "colab": {}
      },
      "source": [
        "def gen_upload(file_list):\n",
        "    print(\"Generating Satellite Data and Uploading\")\n",
        "\n",
        "    d_img, d_meta = raster.load_image(\"/content/drone.tif\")\n",
        "    \n",
        "    transfer_tiles(d_img, d_meta, \"/content/1\", \"/content/1_hr\")\n",
        "    transfer_tiles(d_img, d_meta, \"/content/0\", \"/content/0_hr\")\n",
        "\n",
        "    !zip {\"\\\"\" + file_list[4] + \"\\\"\"} -r 0 0_hr 1 1_hr\n",
        "    !rm -rf *.tif\n",
        "    !rm -rf *.shp"
      ],
      "execution_count": 13,
      "outputs": []
    },
    {
      "cell_type": "code",
      "metadata": {
        "id": "2TS2OrVQDPf9",
        "colab_type": "code",
        "colab": {
          "base_uri": "https://localhost:8080/",
          "height": 303,
          "referenced_widgets": [
            "93931cc007154718a8f97fa23c8fa778",
            "d5513815b98d4072994d7bd9c34b3668",
            "8afd458e505e4b1a830a8bf57743d178",
            "37412cd7316d4280b1825707593635b2",
            "8ab0fee7d0ad4075b8e3f03ae7362915",
            "64a0685d5e624f98812815b63ec79803",
            "6bf34ad6cbe0476ab97569d682fad860",
            "ba4d7b8b5b1c4aca86ee270ce5658e36",
            "76442cb05393488fbecb8cac2c7ef037",
            "c99f653772894df4b38f8ceb96878429",
            "1c0a85ca9ea747c69151668f7f1223bd",
            "82769b6f235a4e8284a1885521225aca",
            "8894498fb4fd4286bd135188e502af23",
            "2ddb5b6b6a714599ba0efdb82b224722",
            "5347ae4668774da9a240213325243675",
            "112afff611ef47d98c8b5bae5d3dd595",
            "8d024d1f10ba4076b1255160ea96ce18",
            "7aaba53245b147c6bd8e0e20b5a09c4f",
            "497169ab8c7348658f3785927b89410b",
            "6ede756195844288a195393a9d09806c",
            "3b687454523a43fd911da672838bfec2",
            "60f33b66100847a6afd3c69d431b5dee",
            "a9ec0ae1b9b341ee8986a5b9364fa339",
            "f8262014544c44e18e5f633ad5da8572"
          ]
        },
        "outputId": "9f680023-27de-4480-9d62-8ad2e484c517"
      },
      "source": [
        "for site in get_filelist():\n",
        "    print(\"Generating data for: \", site[0])\n",
        "    copy_files(site)\n",
        "    write_ndvi(\"planetscope.tif\")\n",
        "    clip_retile(site)\n",
        "    gen_upload(site)"
      ],
      "execution_count": null,
      "outputs": [
        {
          "output_type": "stream",
          "text": [
            "Generating data for:  /content/drive/Shared drives/SIO and E4E Mangroves /Data/Orthomosaics/2018-07 La Paz/Site 4/lap_2018-07_site04_120m_RGB_cc.tif\n",
            "Copying Files\n",
            "Clipping and pixelizing satellite data\n",
            "0...10...20...30...40...50...60...70...80...90...100 - done.\n",
            "0...10...20...30...40...50...60...70...80...90...100 - done.\n"
          ],
          "name": "stdout"
        },
        {
          "output_type": "display_data",
          "data": {
            "application/vnd.jupyter.widget-view+json": {
              "model_id": "93931cc007154718a8f97fa23c8fa778",
              "version_minor": 0,
              "version_major": 2
            },
            "text/plain": [
              "HBox(children=(FloatProgress(value=0.0, max=14310.0), HTML(value='')))"
            ]
          },
          "metadata": {
            "tags": []
          }
        },
        {
          "output_type": "stream",
          "text": [
            "\n"
          ],
          "name": "stdout"
        },
        {
          "output_type": "display_data",
          "data": {
            "application/vnd.jupyter.widget-view+json": {
              "model_id": "76442cb05393488fbecb8cac2c7ef037",
              "version_minor": 0,
              "version_major": 2
            },
            "text/plain": [
              "HBox(children=(FloatProgress(value=0.0, max=20328.0), HTML(value='')))"
            ]
          },
          "metadata": {
            "tags": []
          }
        },
        {
          "output_type": "stream",
          "text": [
            "\n",
            "Generating Satellite Data and Uploading\n"
          ],
          "name": "stdout"
        },
        {
          "output_type": "display_data",
          "data": {
            "application/vnd.jupyter.widget-view+json": {
              "model_id": "8d024d1f10ba4076b1255160ea96ce18",
              "version_minor": 0,
              "version_major": 2
            },
            "text/plain": [
              "HBox(children=(FloatProgress(value=0.0, max=13510.0), HTML(value='')))"
            ]
          },
          "metadata": {
            "tags": []
          }
        },
        {
          "output_type": "stream",
          "text": [
            "/usr/local/lib/python3.6/dist-packages/pyproj/crs/crs.py:53: FutureWarning: '+init=<authority>:<code>' syntax is deprecated. '<authority>:<code>' is the preferred initialization method. When making the change, be mindful of axis order changes: https://pyproj4.github.io/pyproj/stable/gotchas.html#axis-order-changes-in-proj-6\n",
            "  return _prepare_from_string(\" \".join(pjargs))\n"
          ],
          "name": "stderr"
        }
      ]
    },
    {
      "cell_type": "code",
      "metadata": {
        "id": "SwtIEV_8fNXf",
        "colab_type": "code",
        "colab": {
          "base_uri": "https://localhost:8080/",
          "height": 35
        },
        "outputId": "bfe2d2a6-031c-4b41-9839-f1070edab7ed"
      },
      "source": [
        "site[1]"
      ],
      "execution_count": 15,
      "outputs": [
        {
          "output_type": "execute_result",
          "data": {
            "application/vnd.google.colaboratory.intrinsic": {
              "type": "string"
            },
            "text/plain": [
              "'/content/drive/Shared drives/SIO and E4E Mangroves /Data/Orthomosaics/2018-07 La Paz/Site 4/lap_2018-07_site04_planetscope_optical.tif'"
            ]
          },
          "metadata": {
            "tags": []
          },
          "execution_count": 15
        }
      ]
    }
  ]
}