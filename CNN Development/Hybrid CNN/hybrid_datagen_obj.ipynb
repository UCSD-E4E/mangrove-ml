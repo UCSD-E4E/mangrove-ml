{
  "nbformat": 4,
  "nbformat_minor": 0,
  "metadata": {
    "colab": {
      "name": "hybrid_datagen_obj.ipynb",
      "provenance": [],
      "collapsed_sections": [],
      "machine_shape": "hm"
    },
    "kernelspec": {
      "name": "python3",
      "display_name": "Python 3"
    },
    "accelerator": "TPU",
    "widgets": {
      "application/vnd.jupyter.widget-state+json": {
        "6aa9142691f347e08a602561a18a2054": {
          "model_module": "@jupyter-widgets/controls",
          "model_name": "HBoxModel",
          "state": {
            "_view_name": "HBoxView",
            "_dom_classes": [],
            "_model_name": "HBoxModel",
            "_view_module": "@jupyter-widgets/controls",
            "_model_module_version": "1.5.0",
            "_view_count": null,
            "_view_module_version": "1.5.0",
            "box_style": "",
            "layout": "IPY_MODEL_ee604ef058cd4a79ba09f528465d7551",
            "_model_module": "@jupyter-widgets/controls",
            "children": [
              "IPY_MODEL_be81d0405ce74c629c88210f2e947955",
              "IPY_MODEL_3427985d06084942958222a8f8466df1"
            ]
          }
        },
        "ee604ef058cd4a79ba09f528465d7551": {
          "model_module": "@jupyter-widgets/base",
          "model_name": "LayoutModel",
          "state": {
            "_view_name": "LayoutView",
            "grid_template_rows": null,
            "right": null,
            "justify_content": null,
            "_view_module": "@jupyter-widgets/base",
            "overflow": null,
            "_model_module_version": "1.2.0",
            "_view_count": null,
            "flex_flow": null,
            "width": null,
            "min_width": null,
            "border": null,
            "align_items": null,
            "bottom": null,
            "_model_module": "@jupyter-widgets/base",
            "top": null,
            "grid_column": null,
            "overflow_y": null,
            "overflow_x": null,
            "grid_auto_flow": null,
            "grid_area": null,
            "grid_template_columns": null,
            "flex": null,
            "_model_name": "LayoutModel",
            "justify_items": null,
            "grid_row": null,
            "max_height": null,
            "align_content": null,
            "visibility": null,
            "align_self": null,
            "height": null,
            "min_height": null,
            "padding": null,
            "grid_auto_rows": null,
            "grid_gap": null,
            "max_width": null,
            "order": null,
            "_view_module_version": "1.2.0",
            "grid_template_areas": null,
            "object_position": null,
            "object_fit": null,
            "grid_auto_columns": null,
            "margin": null,
            "display": null,
            "left": null
          }
        },
        "be81d0405ce74c629c88210f2e947955": {
          "model_module": "@jupyter-widgets/controls",
          "model_name": "FloatProgressModel",
          "state": {
            "_view_name": "ProgressView",
            "style": "IPY_MODEL_821bd4d2fdcd4d30b1200d18a05a5d1d",
            "_dom_classes": [],
            "description": "100%",
            "_model_name": "FloatProgressModel",
            "bar_style": "success",
            "max": 7830,
            "_view_module": "@jupyter-widgets/controls",
            "_model_module_version": "1.5.0",
            "value": 7830,
            "_view_count": null,
            "_view_module_version": "1.5.0",
            "orientation": "horizontal",
            "min": 0,
            "description_tooltip": null,
            "_model_module": "@jupyter-widgets/controls",
            "layout": "IPY_MODEL_148facc7653748318f554cc3ad1b92c3"
          }
        },
        "3427985d06084942958222a8f8466df1": {
          "model_module": "@jupyter-widgets/controls",
          "model_name": "HTMLModel",
          "state": {
            "_view_name": "HTMLView",
            "style": "IPY_MODEL_f1be9c927dd34852a33fdf9827d2ea4f",
            "_dom_classes": [],
            "description": "",
            "_model_name": "HTMLModel",
            "placeholder": "​",
            "_view_module": "@jupyter-widgets/controls",
            "_model_module_version": "1.5.0",
            "value": " 7830/7830 [1:00:07&lt;00:00,  2.17it/s]",
            "_view_count": null,
            "_view_module_version": "1.5.0",
            "description_tooltip": null,
            "_model_module": "@jupyter-widgets/controls",
            "layout": "IPY_MODEL_91598a6fd4da4a6c87fd9a03c0f29b64"
          }
        },
        "821bd4d2fdcd4d30b1200d18a05a5d1d": {
          "model_module": "@jupyter-widgets/controls",
          "model_name": "ProgressStyleModel",
          "state": {
            "_view_name": "StyleView",
            "_model_name": "ProgressStyleModel",
            "description_width": "initial",
            "_view_module": "@jupyter-widgets/base",
            "_model_module_version": "1.5.0",
            "_view_count": null,
            "_view_module_version": "1.2.0",
            "bar_color": null,
            "_model_module": "@jupyter-widgets/controls"
          }
        },
        "148facc7653748318f554cc3ad1b92c3": {
          "model_module": "@jupyter-widgets/base",
          "model_name": "LayoutModel",
          "state": {
            "_view_name": "LayoutView",
            "grid_template_rows": null,
            "right": null,
            "justify_content": null,
            "_view_module": "@jupyter-widgets/base",
            "overflow": null,
            "_model_module_version": "1.2.0",
            "_view_count": null,
            "flex_flow": null,
            "width": null,
            "min_width": null,
            "border": null,
            "align_items": null,
            "bottom": null,
            "_model_module": "@jupyter-widgets/base",
            "top": null,
            "grid_column": null,
            "overflow_y": null,
            "overflow_x": null,
            "grid_auto_flow": null,
            "grid_area": null,
            "grid_template_columns": null,
            "flex": null,
            "_model_name": "LayoutModel",
            "justify_items": null,
            "grid_row": null,
            "max_height": null,
            "align_content": null,
            "visibility": null,
            "align_self": null,
            "height": null,
            "min_height": null,
            "padding": null,
            "grid_auto_rows": null,
            "grid_gap": null,
            "max_width": null,
            "order": null,
            "_view_module_version": "1.2.0",
            "grid_template_areas": null,
            "object_position": null,
            "object_fit": null,
            "grid_auto_columns": null,
            "margin": null,
            "display": null,
            "left": null
          }
        },
        "f1be9c927dd34852a33fdf9827d2ea4f": {
          "model_module": "@jupyter-widgets/controls",
          "model_name": "DescriptionStyleModel",
          "state": {
            "_view_name": "StyleView",
            "_model_name": "DescriptionStyleModel",
            "description_width": "",
            "_view_module": "@jupyter-widgets/base",
            "_model_module_version": "1.5.0",
            "_view_count": null,
            "_view_module_version": "1.2.0",
            "_model_module": "@jupyter-widgets/controls"
          }
        },
        "91598a6fd4da4a6c87fd9a03c0f29b64": {
          "model_module": "@jupyter-widgets/base",
          "model_name": "LayoutModel",
          "state": {
            "_view_name": "LayoutView",
            "grid_template_rows": null,
            "right": null,
            "justify_content": null,
            "_view_module": "@jupyter-widgets/base",
            "overflow": null,
            "_model_module_version": "1.2.0",
            "_view_count": null,
            "flex_flow": null,
            "width": null,
            "min_width": null,
            "border": null,
            "align_items": null,
            "bottom": null,
            "_model_module": "@jupyter-widgets/base",
            "top": null,
            "grid_column": null,
            "overflow_y": null,
            "overflow_x": null,
            "grid_auto_flow": null,
            "grid_area": null,
            "grid_template_columns": null,
            "flex": null,
            "_model_name": "LayoutModel",
            "justify_items": null,
            "grid_row": null,
            "max_height": null,
            "align_content": null,
            "visibility": null,
            "align_self": null,
            "height": null,
            "min_height": null,
            "padding": null,
            "grid_auto_rows": null,
            "grid_gap": null,
            "max_width": null,
            "order": null,
            "_view_module_version": "1.2.0",
            "grid_template_areas": null,
            "object_position": null,
            "object_fit": null,
            "grid_auto_columns": null,
            "margin": null,
            "display": null,
            "left": null
          }
        },
        "56f58e6e197f42cd9e3934ec87ebd2ba": {
          "model_module": "@jupyter-widgets/controls",
          "model_name": "HBoxModel",
          "state": {
            "_view_name": "HBoxView",
            "_dom_classes": [],
            "_model_name": "HBoxModel",
            "_view_module": "@jupyter-widgets/controls",
            "_model_module_version": "1.5.0",
            "_view_count": null,
            "_view_module_version": "1.5.0",
            "box_style": "",
            "layout": "IPY_MODEL_d3961654494f490cb3650cbaf7e9ecb7",
            "_model_module": "@jupyter-widgets/controls",
            "children": [
              "IPY_MODEL_6a0b5d887ef446d99d166efdf842921b",
              "IPY_MODEL_5c28f32904284c799866ad7fe947a88f"
            ]
          }
        },
        "d3961654494f490cb3650cbaf7e9ecb7": {
          "model_module": "@jupyter-widgets/base",
          "model_name": "LayoutModel",
          "state": {
            "_view_name": "LayoutView",
            "grid_template_rows": null,
            "right": null,
            "justify_content": null,
            "_view_module": "@jupyter-widgets/base",
            "overflow": null,
            "_model_module_version": "1.2.0",
            "_view_count": null,
            "flex_flow": null,
            "width": null,
            "min_width": null,
            "border": null,
            "align_items": null,
            "bottom": null,
            "_model_module": "@jupyter-widgets/base",
            "top": null,
            "grid_column": null,
            "overflow_y": null,
            "overflow_x": null,
            "grid_auto_flow": null,
            "grid_area": null,
            "grid_template_columns": null,
            "flex": null,
            "_model_name": "LayoutModel",
            "justify_items": null,
            "grid_row": null,
            "max_height": null,
            "align_content": null,
            "visibility": null,
            "align_self": null,
            "height": null,
            "min_height": null,
            "padding": null,
            "grid_auto_rows": null,
            "grid_gap": null,
            "max_width": null,
            "order": null,
            "_view_module_version": "1.2.0",
            "grid_template_areas": null,
            "object_position": null,
            "object_fit": null,
            "grid_auto_columns": null,
            "margin": null,
            "display": null,
            "left": null
          }
        },
        "6a0b5d887ef446d99d166efdf842921b": {
          "model_module": "@jupyter-widgets/controls",
          "model_name": "FloatProgressModel",
          "state": {
            "_view_name": "ProgressView",
            "style": "IPY_MODEL_4e9bdb671cc849a8aeb6e38ee5bf5807",
            "_dom_classes": [],
            "description": "100%",
            "_model_name": "FloatProgressModel",
            "bar_style": "success",
            "max": 12416,
            "_view_module": "@jupyter-widgets/controls",
            "_model_module_version": "1.5.0",
            "value": 12416,
            "_view_count": null,
            "_view_module_version": "1.5.0",
            "orientation": "horizontal",
            "min": 0,
            "description_tooltip": null,
            "_model_module": "@jupyter-widgets/controls",
            "layout": "IPY_MODEL_9fa94aa67d704463902518d58089cc7b"
          }
        },
        "5c28f32904284c799866ad7fe947a88f": {
          "model_module": "@jupyter-widgets/controls",
          "model_name": "HTMLModel",
          "state": {
            "_view_name": "HTMLView",
            "style": "IPY_MODEL_9875fe2277724a79ba392517e36482c8",
            "_dom_classes": [],
            "description": "",
            "_model_name": "HTMLModel",
            "placeholder": "​",
            "_view_module": "@jupyter-widgets/controls",
            "_model_module_version": "1.5.0",
            "value": " 12416/12416 [00:40&lt;00:00, 305.23it/s]",
            "_view_count": null,
            "_view_module_version": "1.5.0",
            "description_tooltip": null,
            "_model_module": "@jupyter-widgets/controls",
            "layout": "IPY_MODEL_722b133848314af4acd748408e6d94d1"
          }
        },
        "4e9bdb671cc849a8aeb6e38ee5bf5807": {
          "model_module": "@jupyter-widgets/controls",
          "model_name": "ProgressStyleModel",
          "state": {
            "_view_name": "StyleView",
            "_model_name": "ProgressStyleModel",
            "description_width": "initial",
            "_view_module": "@jupyter-widgets/base",
            "_model_module_version": "1.5.0",
            "_view_count": null,
            "_view_module_version": "1.2.0",
            "bar_color": null,
            "_model_module": "@jupyter-widgets/controls"
          }
        },
        "9fa94aa67d704463902518d58089cc7b": {
          "model_module": "@jupyter-widgets/base",
          "model_name": "LayoutModel",
          "state": {
            "_view_name": "LayoutView",
            "grid_template_rows": null,
            "right": null,
            "justify_content": null,
            "_view_module": "@jupyter-widgets/base",
            "overflow": null,
            "_model_module_version": "1.2.0",
            "_view_count": null,
            "flex_flow": null,
            "width": null,
            "min_width": null,
            "border": null,
            "align_items": null,
            "bottom": null,
            "_model_module": "@jupyter-widgets/base",
            "top": null,
            "grid_column": null,
            "overflow_y": null,
            "overflow_x": null,
            "grid_auto_flow": null,
            "grid_area": null,
            "grid_template_columns": null,
            "flex": null,
            "_model_name": "LayoutModel",
            "justify_items": null,
            "grid_row": null,
            "max_height": null,
            "align_content": null,
            "visibility": null,
            "align_self": null,
            "height": null,
            "min_height": null,
            "padding": null,
            "grid_auto_rows": null,
            "grid_gap": null,
            "max_width": null,
            "order": null,
            "_view_module_version": "1.2.0",
            "grid_template_areas": null,
            "object_position": null,
            "object_fit": null,
            "grid_auto_columns": null,
            "margin": null,
            "display": null,
            "left": null
          }
        },
        "9875fe2277724a79ba392517e36482c8": {
          "model_module": "@jupyter-widgets/controls",
          "model_name": "DescriptionStyleModel",
          "state": {
            "_view_name": "StyleView",
            "_model_name": "DescriptionStyleModel",
            "description_width": "",
            "_view_module": "@jupyter-widgets/base",
            "_model_module_version": "1.5.0",
            "_view_count": null,
            "_view_module_version": "1.2.0",
            "_model_module": "@jupyter-widgets/controls"
          }
        },
        "722b133848314af4acd748408e6d94d1": {
          "model_module": "@jupyter-widgets/base",
          "model_name": "LayoutModel",
          "state": {
            "_view_name": "LayoutView",
            "grid_template_rows": null,
            "right": null,
            "justify_content": null,
            "_view_module": "@jupyter-widgets/base",
            "overflow": null,
            "_model_module_version": "1.2.0",
            "_view_count": null,
            "flex_flow": null,
            "width": null,
            "min_width": null,
            "border": null,
            "align_items": null,
            "bottom": null,
            "_model_module": "@jupyter-widgets/base",
            "top": null,
            "grid_column": null,
            "overflow_y": null,
            "overflow_x": null,
            "grid_auto_flow": null,
            "grid_area": null,
            "grid_template_columns": null,
            "flex": null,
            "_model_name": "LayoutModel",
            "justify_items": null,
            "grid_row": null,
            "max_height": null,
            "align_content": null,
            "visibility": null,
            "align_self": null,
            "height": null,
            "min_height": null,
            "padding": null,
            "grid_auto_rows": null,
            "grid_gap": null,
            "max_width": null,
            "order": null,
            "_view_module_version": "1.2.0",
            "grid_template_areas": null,
            "object_position": null,
            "object_fit": null,
            "grid_auto_columns": null,
            "margin": null,
            "display": null,
            "left": null
          }
        },
        "5b8ac9ed10694d6c842fdbd8c5018462": {
          "model_module": "@jupyter-widgets/controls",
          "model_name": "HBoxModel",
          "state": {
            "_view_name": "HBoxView",
            "_dom_classes": [],
            "_model_name": "HBoxModel",
            "_view_module": "@jupyter-widgets/controls",
            "_model_module_version": "1.5.0",
            "_view_count": null,
            "_view_module_version": "1.5.0",
            "box_style": "",
            "layout": "IPY_MODEL_dedb3cb525e0418699532562e053bb69",
            "_model_module": "@jupyter-widgets/controls",
            "children": [
              "IPY_MODEL_0dda55a46dbc4c58b5ff8f5d84c13aa7",
              "IPY_MODEL_bc647179a83e4b8b85d5e6eb08c01686"
            ]
          }
        },
        "dedb3cb525e0418699532562e053bb69": {
          "model_module": "@jupyter-widgets/base",
          "model_name": "LayoutModel",
          "state": {
            "_view_name": "LayoutView",
            "grid_template_rows": null,
            "right": null,
            "justify_content": null,
            "_view_module": "@jupyter-widgets/base",
            "overflow": null,
            "_model_module_version": "1.2.0",
            "_view_count": null,
            "flex_flow": null,
            "width": null,
            "min_width": null,
            "border": null,
            "align_items": null,
            "bottom": null,
            "_model_module": "@jupyter-widgets/base",
            "top": null,
            "grid_column": null,
            "overflow_y": null,
            "overflow_x": null,
            "grid_auto_flow": null,
            "grid_area": null,
            "grid_template_columns": null,
            "flex": null,
            "_model_name": "LayoutModel",
            "justify_items": null,
            "grid_row": null,
            "max_height": null,
            "align_content": null,
            "visibility": null,
            "align_self": null,
            "height": null,
            "min_height": null,
            "padding": null,
            "grid_auto_rows": null,
            "grid_gap": null,
            "max_width": null,
            "order": null,
            "_view_module_version": "1.2.0",
            "grid_template_areas": null,
            "object_position": null,
            "object_fit": null,
            "grid_auto_columns": null,
            "margin": null,
            "display": null,
            "left": null
          }
        },
        "0dda55a46dbc4c58b5ff8f5d84c13aa7": {
          "model_module": "@jupyter-widgets/controls",
          "model_name": "FloatProgressModel",
          "state": {
            "_view_name": "ProgressView",
            "style": "IPY_MODEL_060c9e74b556471c831295a05443ae77",
            "_dom_classes": [],
            "description": "100%",
            "_model_name": "FloatProgressModel",
            "bar_style": "success",
            "max": 7262,
            "_view_module": "@jupyter-widgets/controls",
            "_model_module_version": "1.5.0",
            "value": 7262,
            "_view_count": null,
            "_view_module_version": "1.5.0",
            "orientation": "horizontal",
            "min": 0,
            "description_tooltip": null,
            "_model_module": "@jupyter-widgets/controls",
            "layout": "IPY_MODEL_9056cf5a900249ea8277b53b85e69aaf"
          }
        },
        "bc647179a83e4b8b85d5e6eb08c01686": {
          "model_module": "@jupyter-widgets/controls",
          "model_name": "HTMLModel",
          "state": {
            "_view_name": "HTMLView",
            "style": "IPY_MODEL_1dd8e38152d2407fa2dd48c3f7b45a98",
            "_dom_classes": [],
            "description": "",
            "_model_name": "HTMLModel",
            "placeholder": "​",
            "_view_module": "@jupyter-widgets/controls",
            "_model_module_version": "1.5.0",
            "value": " 7262/7262 [59:02&lt;00:00,  2.05it/s]",
            "_view_count": null,
            "_view_module_version": "1.5.0",
            "description_tooltip": null,
            "_model_module": "@jupyter-widgets/controls",
            "layout": "IPY_MODEL_d739d06665cd4a85b9119569ad12132b"
          }
        },
        "060c9e74b556471c831295a05443ae77": {
          "model_module": "@jupyter-widgets/controls",
          "model_name": "ProgressStyleModel",
          "state": {
            "_view_name": "StyleView",
            "_model_name": "ProgressStyleModel",
            "description_width": "initial",
            "_view_module": "@jupyter-widgets/base",
            "_model_module_version": "1.5.0",
            "_view_count": null,
            "_view_module_version": "1.2.0",
            "bar_color": null,
            "_model_module": "@jupyter-widgets/controls"
          }
        },
        "9056cf5a900249ea8277b53b85e69aaf": {
          "model_module": "@jupyter-widgets/base",
          "model_name": "LayoutModel",
          "state": {
            "_view_name": "LayoutView",
            "grid_template_rows": null,
            "right": null,
            "justify_content": null,
            "_view_module": "@jupyter-widgets/base",
            "overflow": null,
            "_model_module_version": "1.2.0",
            "_view_count": null,
            "flex_flow": null,
            "width": null,
            "min_width": null,
            "border": null,
            "align_items": null,
            "bottom": null,
            "_model_module": "@jupyter-widgets/base",
            "top": null,
            "grid_column": null,
            "overflow_y": null,
            "overflow_x": null,
            "grid_auto_flow": null,
            "grid_area": null,
            "grid_template_columns": null,
            "flex": null,
            "_model_name": "LayoutModel",
            "justify_items": null,
            "grid_row": null,
            "max_height": null,
            "align_content": null,
            "visibility": null,
            "align_self": null,
            "height": null,
            "min_height": null,
            "padding": null,
            "grid_auto_rows": null,
            "grid_gap": null,
            "max_width": null,
            "order": null,
            "_view_module_version": "1.2.0",
            "grid_template_areas": null,
            "object_position": null,
            "object_fit": null,
            "grid_auto_columns": null,
            "margin": null,
            "display": null,
            "left": null
          }
        },
        "1dd8e38152d2407fa2dd48c3f7b45a98": {
          "model_module": "@jupyter-widgets/controls",
          "model_name": "DescriptionStyleModel",
          "state": {
            "_view_name": "StyleView",
            "_model_name": "DescriptionStyleModel",
            "description_width": "",
            "_view_module": "@jupyter-widgets/base",
            "_model_module_version": "1.5.0",
            "_view_count": null,
            "_view_module_version": "1.2.0",
            "_model_module": "@jupyter-widgets/controls"
          }
        },
        "d739d06665cd4a85b9119569ad12132b": {
          "model_module": "@jupyter-widgets/base",
          "model_name": "LayoutModel",
          "state": {
            "_view_name": "LayoutView",
            "grid_template_rows": null,
            "right": null,
            "justify_content": null,
            "_view_module": "@jupyter-widgets/base",
            "overflow": null,
            "_model_module_version": "1.2.0",
            "_view_count": null,
            "flex_flow": null,
            "width": null,
            "min_width": null,
            "border": null,
            "align_items": null,
            "bottom": null,
            "_model_module": "@jupyter-widgets/base",
            "top": null,
            "grid_column": null,
            "overflow_y": null,
            "overflow_x": null,
            "grid_auto_flow": null,
            "grid_area": null,
            "grid_template_columns": null,
            "flex": null,
            "_model_name": "LayoutModel",
            "justify_items": null,
            "grid_row": null,
            "max_height": null,
            "align_content": null,
            "visibility": null,
            "align_self": null,
            "height": null,
            "min_height": null,
            "padding": null,
            "grid_auto_rows": null,
            "grid_gap": null,
            "max_width": null,
            "order": null,
            "_view_module_version": "1.2.0",
            "grid_template_areas": null,
            "object_position": null,
            "object_fit": null,
            "grid_auto_columns": null,
            "margin": null,
            "display": null,
            "left": null
          }
        },
        "19cccbf639df42f98882ec1b1ae7f6e0": {
          "model_module": "@jupyter-widgets/controls",
          "model_name": "HBoxModel",
          "state": {
            "_view_name": "HBoxView",
            "_dom_classes": [],
            "_model_name": "HBoxModel",
            "_view_module": "@jupyter-widgets/controls",
            "_model_module_version": "1.5.0",
            "_view_count": null,
            "_view_module_version": "1.5.0",
            "box_style": "",
            "layout": "IPY_MODEL_421571c8e46348ffa27aa88bafe72e2e",
            "_model_module": "@jupyter-widgets/controls",
            "children": [
              "IPY_MODEL_de71438506b04a75821113dcbd499058",
              "IPY_MODEL_390a7494d9f644cfbf1624f9e69a6161"
            ]
          }
        },
        "421571c8e46348ffa27aa88bafe72e2e": {
          "model_module": "@jupyter-widgets/base",
          "model_name": "LayoutModel",
          "state": {
            "_view_name": "LayoutView",
            "grid_template_rows": null,
            "right": null,
            "justify_content": null,
            "_view_module": "@jupyter-widgets/base",
            "overflow": null,
            "_model_module_version": "1.2.0",
            "_view_count": null,
            "flex_flow": null,
            "width": null,
            "min_width": null,
            "border": null,
            "align_items": null,
            "bottom": null,
            "_model_module": "@jupyter-widgets/base",
            "top": null,
            "grid_column": null,
            "overflow_y": null,
            "overflow_x": null,
            "grid_auto_flow": null,
            "grid_area": null,
            "grid_template_columns": null,
            "flex": null,
            "_model_name": "LayoutModel",
            "justify_items": null,
            "grid_row": null,
            "max_height": null,
            "align_content": null,
            "visibility": null,
            "align_self": null,
            "height": null,
            "min_height": null,
            "padding": null,
            "grid_auto_rows": null,
            "grid_gap": null,
            "max_width": null,
            "order": null,
            "_view_module_version": "1.2.0",
            "grid_template_areas": null,
            "object_position": null,
            "object_fit": null,
            "grid_auto_columns": null,
            "margin": null,
            "display": null,
            "left": null
          }
        },
        "de71438506b04a75821113dcbd499058": {
          "model_module": "@jupyter-widgets/controls",
          "model_name": "FloatProgressModel",
          "state": {
            "_view_name": "ProgressView",
            "style": "IPY_MODEL_87320716caea4f2da6eb232045c01486",
            "_dom_classes": [],
            "description": "100%",
            "_model_name": "FloatProgressModel",
            "bar_style": "success",
            "max": 2991,
            "_view_module": "@jupyter-widgets/controls",
            "_model_module_version": "1.5.0",
            "value": 2991,
            "_view_count": null,
            "_view_module_version": "1.5.0",
            "orientation": "horizontal",
            "min": 0,
            "description_tooltip": null,
            "_model_module": "@jupyter-widgets/controls",
            "layout": "IPY_MODEL_3669e580dd4c4b1195829f6d4a015384"
          }
        },
        "390a7494d9f644cfbf1624f9e69a6161": {
          "model_module": "@jupyter-widgets/controls",
          "model_name": "HTMLModel",
          "state": {
            "_view_name": "HTMLView",
            "style": "IPY_MODEL_60929a897980430f95d3cacf798c4f7e",
            "_dom_classes": [],
            "description": "",
            "_model_name": "HTMLModel",
            "placeholder": "​",
            "_view_module": "@jupyter-widgets/controls",
            "_model_module_version": "1.5.0",
            "value": " 2991/2991 [52:01&lt;00:00,  1.04s/it]",
            "_view_count": null,
            "_view_module_version": "1.5.0",
            "description_tooltip": null,
            "_model_module": "@jupyter-widgets/controls",
            "layout": "IPY_MODEL_6a703c98722d493ca3e1f9718ba85dd2"
          }
        },
        "87320716caea4f2da6eb232045c01486": {
          "model_module": "@jupyter-widgets/controls",
          "model_name": "ProgressStyleModel",
          "state": {
            "_view_name": "StyleView",
            "_model_name": "ProgressStyleModel",
            "description_width": "initial",
            "_view_module": "@jupyter-widgets/base",
            "_model_module_version": "1.5.0",
            "_view_count": null,
            "_view_module_version": "1.2.0",
            "bar_color": null,
            "_model_module": "@jupyter-widgets/controls"
          }
        },
        "3669e580dd4c4b1195829f6d4a015384": {
          "model_module": "@jupyter-widgets/base",
          "model_name": "LayoutModel",
          "state": {
            "_view_name": "LayoutView",
            "grid_template_rows": null,
            "right": null,
            "justify_content": null,
            "_view_module": "@jupyter-widgets/base",
            "overflow": null,
            "_model_module_version": "1.2.0",
            "_view_count": null,
            "flex_flow": null,
            "width": null,
            "min_width": null,
            "border": null,
            "align_items": null,
            "bottom": null,
            "_model_module": "@jupyter-widgets/base",
            "top": null,
            "grid_column": null,
            "overflow_y": null,
            "overflow_x": null,
            "grid_auto_flow": null,
            "grid_area": null,
            "grid_template_columns": null,
            "flex": null,
            "_model_name": "LayoutModel",
            "justify_items": null,
            "grid_row": null,
            "max_height": null,
            "align_content": null,
            "visibility": null,
            "align_self": null,
            "height": null,
            "min_height": null,
            "padding": null,
            "grid_auto_rows": null,
            "grid_gap": null,
            "max_width": null,
            "order": null,
            "_view_module_version": "1.2.0",
            "grid_template_areas": null,
            "object_position": null,
            "object_fit": null,
            "grid_auto_columns": null,
            "margin": null,
            "display": null,
            "left": null
          }
        },
        "60929a897980430f95d3cacf798c4f7e": {
          "model_module": "@jupyter-widgets/controls",
          "model_name": "DescriptionStyleModel",
          "state": {
            "_view_name": "StyleView",
            "_model_name": "DescriptionStyleModel",
            "description_width": "",
            "_view_module": "@jupyter-widgets/base",
            "_model_module_version": "1.5.0",
            "_view_count": null,
            "_view_module_version": "1.2.0",
            "_model_module": "@jupyter-widgets/controls"
          }
        },
        "6a703c98722d493ca3e1f9718ba85dd2": {
          "model_module": "@jupyter-widgets/base",
          "model_name": "LayoutModel",
          "state": {
            "_view_name": "LayoutView",
            "grid_template_rows": null,
            "right": null,
            "justify_content": null,
            "_view_module": "@jupyter-widgets/base",
            "overflow": null,
            "_model_module_version": "1.2.0",
            "_view_count": null,
            "flex_flow": null,
            "width": null,
            "min_width": null,
            "border": null,
            "align_items": null,
            "bottom": null,
            "_model_module": "@jupyter-widgets/base",
            "top": null,
            "grid_column": null,
            "overflow_y": null,
            "overflow_x": null,
            "grid_auto_flow": null,
            "grid_area": null,
            "grid_template_columns": null,
            "flex": null,
            "_model_name": "LayoutModel",
            "justify_items": null,
            "grid_row": null,
            "max_height": null,
            "align_content": null,
            "visibility": null,
            "align_self": null,
            "height": null,
            "min_height": null,
            "padding": null,
            "grid_auto_rows": null,
            "grid_gap": null,
            "max_width": null,
            "order": null,
            "_view_module_version": "1.2.0",
            "grid_template_areas": null,
            "object_position": null,
            "object_fit": null,
            "grid_auto_columns": null,
            "margin": null,
            "display": null,
            "left": null
          }
        }
      }
    }
  },
  "cells": [
    {
      "cell_type": "code",
      "metadata": {
        "id": "lXnXJ_6cgXsp",
        "colab_type": "code",
        "colab": {}
      },
      "source": [
        "%%capture\n",
        "!apt-get update\n",
        "!apt-get install libgdal-dev -y\n",
        "!apt-get install python-gdal -y\n",
        "!apt-get install python-numpy python-scipy -y\n",
        "!pip install rasterio\n",
        "!pip install fiona\n",
        "!pip install geopandas\n",
        "!pip install PyCRS\n",
        "!pip install -i https://test.pypi.org/simple/ gis-utils-pkg-dillhicks==0.0.3"
      ],
      "execution_count": null,
      "outputs": []
    },
    {
      "cell_type": "code",
      "metadata": {
        "id": "xkZe2byEn3T3",
        "colab_type": "code",
        "colab": {
          "base_uri": "https://localhost:8080/",
          "height": 51
        },
        "outputId": "53a6e792-1e69-459e-b58f-3347c3f5c945"
      },
      "source": [
        "import rasterio\n",
        "from shapely.geometry import box\n",
        "import geopandas as gpd\n",
        "from rasterio.mask import mask\n",
        "from rasterio.plot import show\n",
        "from tqdm.autonotebook import tqdm\n",
        "import os\n",
        "from rasterio import windows as wind\n",
        "from fiona.crs import from_epsg\n",
        "from gis_utils import raster\n",
        "import matplotlib.pyplot as plt\n",
        "import fiona\n",
        "import numpy as np"
      ],
      "execution_count": null,
      "outputs": [
        {
          "output_type": "stream",
          "text": [
            "/usr/local/lib/python3.6/dist-packages/ipykernel_launcher.py:6: TqdmExperimentalWarning: Using `tqdm.autonotebook.tqdm` in notebook mode. Use `tqdm.tqdm` instead to force console mode (e.g. in jupyter console)\n",
            "  \n"
          ],
          "name": "stderr"
        }
      ]
    },
    {
      "cell_type": "code",
      "metadata": {
        "id": "hZ8ebjvhrpG3",
        "colab_type": "code",
        "colab": {
          "base_uri": "https://localhost:8080/",
          "height": 119
        },
        "outputId": "fb694419-ed21-4645-ca4f-84964ceef1ea"
      },
      "source": [
        "import itertools\n",
        "import os\n",
        "\n",
        "import matplotlib.pylab as plt\n",
        "import numpy as np\n",
        "\n",
        "import tensorflow as tf\n",
        "import tensorflow_hub as hub\n",
        "\n",
        "print(\"TF version:\", tf.__version__)\n",
        "print(\"Hub version:\", hub.__version__)\n",
        "print(\"GPU is\", \"available\" if tf.test.is_gpu_available() else \"NOT AVAILABLE\")"
      ],
      "execution_count": null,
      "outputs": [
        {
          "output_type": "stream",
          "text": [
            "TF version: 2.2.0\n",
            "Hub version: 0.8.0\n",
            "WARNING:tensorflow:From <ipython-input-3-0831fa394ed3>:12: is_gpu_available (from tensorflow.python.framework.test_util) is deprecated and will be removed in a future version.\n",
            "Instructions for updating:\n",
            "Use `tf.config.list_physical_devices('GPU')` instead.\n",
            "GPU is NOT AVAILABLE\n"
          ],
          "name": "stdout"
        }
      ]
    },
    {
      "cell_type": "code",
      "metadata": {
        "id": "6_BDkfHMrrtG",
        "colab_type": "code",
        "colab": {
          "base_uri": "https://localhost:8080/",
          "height": 122
        },
        "outputId": "d7369784-ca62-40c9-a601-d784ccb5cda7"
      },
      "source": [
        "from google.colab import drive\n",
        "drive.mount('/content/drive')"
      ],
      "execution_count": null,
      "outputs": [
        {
          "output_type": "stream",
          "text": [
            "Go to this URL in a browser: https://accounts.google.com/o/oauth2/auth?client_id=947318989803-6bn6qk8qdgf4n4g3pfee6491hc0brc4i.apps.googleusercontent.com&redirect_uri=urn%3aietf%3awg%3aoauth%3a2.0%3aoob&response_type=code&scope=email%20https%3a%2f%2fwww.googleapis.com%2fauth%2fdocs.test%20https%3a%2f%2fwww.googleapis.com%2fauth%2fdrive%20https%3a%2f%2fwww.googleapis.com%2fauth%2fdrive.photos.readonly%20https%3a%2f%2fwww.googleapis.com%2fauth%2fpeopleapi.readonly\n",
            "\n",
            "Enter your authorization code:\n",
            "··········\n",
            "Mounted at /content/drive\n"
          ],
          "name": "stdout"
        }
      ]
    },
    {
      "cell_type": "code",
      "metadata": {
        "id": "Bdqvfn_3qbT-",
        "colab_type": "code",
        "colab": {}
      },
      "source": [
        "#Function for getting files needed for data generation process from the drive\n",
        "from os.path import join\n",
        "\n",
        "def get_filelist():\n",
        "    cur = []\n",
        "    dest = \"/content/drive/Shared drives/SIO and E4E Mangroves /Data/Machine Learning/Training Images/Hybrid CNN/\"\n",
        "\n",
        "    #horrible search method, do not do this, only works because how we specifically set up the drive structure\n",
        "\n",
        "    #iterating through all files in orthomosaics directory\n",
        "    for root, dirs, files in os.walk(\"/content/drive/Shared drives/SIO and E4E Mangroves /Data/Orthomosaics/\"):\n",
        "        for file in files:\n",
        "            #finding all normal tifs\n",
        "            if not((\"dem\" in file) or (\"DEM\" in file) or (\"downsampled\" in file) or (\"CNN_prob\" in file) or (\"planetscope\" in file)) and not(file.startswith(\"un_\")) and not(file.endswith(\"CNN_nm.tif\")) and not(file.endswith(\"CNN_m.tif\")) and not(file.startswith(\"prob_\"))  and  (file.endswith(\".tif\")):\n",
        "                #detecting planetscope images\n",
        "                for ortho in os.listdir(root):\n",
        "                    if (\"planetscope\" in ortho):\n",
        "\n",
        "                        #get shapefiles from classifications folder\n",
        "                        for subroot, subdirs, subfiles in os.walk(root):\n",
        "                            zero = \"0.shp\"\n",
        "                            one = \"1.shp\"\n",
        "\n",
        "                            #iterating through files in \n",
        "                            for subfile in subfiles:\n",
        "                                if (subfile == zero) or (subfile == one):\n",
        "                                    dest_zip = join(dest,os.path.splitext(file)[0] + \".zip\")\n",
        "                                    #since we will get dupicates\n",
        "                                    file_list = [join(root,file),\n",
        "                                                    join(root,ortho),\n",
        "                                                    join(subroot,zero),\n",
        "                                                    join(subroot,one),\n",
        "                                                    dest_zip]\n",
        "                                    if not(file_list in cur):\n",
        "                                        cur.append(file_list)\n",
        "                                    \n",
        "\n",
        "\n",
        "\n",
        "    return cur"
      ],
      "execution_count": null,
      "outputs": []
    },
    {
      "cell_type": "code",
      "metadata": {
        "id": "3DB2D20tqylW",
        "colab_type": "code",
        "colab": {}
      },
      "source": [
        "#for clipping raster files\n",
        "\n",
        "def clip(shp_file, image_file, str_format):\n",
        "    with fiona.open(shp_file, \"r\") as shapefile:\n",
        "        shapes = [feature[\"geometry\"] for feature in shapefile]\n",
        "    with rasterio.open(image_file) as src:\n",
        "        out_image, out_transform = rasterio.mask.mask(src, shapes, crop=True)\n",
        "        out_meta = src.meta\n",
        "    out_meta.update({\"driver\": \"GTiff\",\n",
        "                 \"height\": out_image.shape[1],\n",
        "                 \"width\": out_image.shape[2],\n",
        "                 \"transform\": out_transform})\n",
        "    with rasterio.open(str_format + image_file, \"w\", **out_meta) as dest:\n",
        "        dest.write(out_image)"
      ],
      "execution_count": null,
      "outputs": []
    },
    {
      "cell_type": "code",
      "metadata": {
        "id": "PTTdZrsI4WeL",
        "colab_type": "code",
        "colab": {}
      },
      "source": [
        "# for copying files over from google drive to \n",
        "def copy_files(file_list):\n",
        "    print(\"Copying Files\")\n",
        "\n",
        "    !cp {\"\\\"\" + file_list[0] + \"\\\"\" } .\n",
        "    !cp {\"\\\"\" + file_list[1] + \"\\\"\" } .\n",
        "\n",
        "    d_name = os.path.basename(file_list[0])\n",
        "    p_name = os.path.basename(file_list[1])\n",
        "\n",
        "    !mv {d_name} /content/drone.tif\n",
        "    !mv {p_name} /content/planetscope.tif\n",
        "\n",
        "    !rm -rf /content/0/\n",
        "    !rm -rf /content/1/ \n",
        "\n",
        "    !rm -rf /content/0_hr/\n",
        "    !rm -rf /content/1_hr/\n",
        "\n",
        "    !mkdir 0\n",
        "    !mkdir 1\n",
        "    !mkdir 0_hr\n",
        "    !mkdir 1_hr"
      ],
      "execution_count": null,
      "outputs": []
    },
    {
      "cell_type": "code",
      "metadata": {
        "id": "gymZt_N-4rWJ",
        "colab_type": "code",
        "colab": {}
      },
      "source": [
        "def clip_retile(file_list, width):\n",
        "    print(\"Clipping and pixelizing satellite data\")\n",
        "\n",
        "    d_img, d_meta = raster.load_image(\"/content/drone.tif\")\n",
        "    zero_gpd = gpd.read_file(file_list[2])\n",
        "    one_gpd = gpd.read_file(file_list[3])\n",
        "\n",
        "    \n",
        "    clip(file_list[2], \"drone.tif\", \"clipped0_\")\n",
        "    clip(file_list[3], \"drone.tif\", \"clipped1_\")\n",
        "\n",
        "    !gdal_retile.py -ps {width} {width} -targetDir \"/content/0\" \"clipped0_drone.tif\"\n",
        "    !gdal_retile.py -ps {width} {width} -targetDir \"/content/1\" \"clipped1_drone.tif\"\n",
        "\n",
        "    remove_zero(\"/content/0/\")\n",
        "    remove_zero(\"/content/1/\")"
      ],
      "execution_count": null,
      "outputs": []
    },
    {
      "cell_type": "code",
      "metadata": {
        "id": "BBFPyLt14v5u",
        "colab_type": "code",
        "colab": {}
      },
      "source": [
        "#for removing tiles created \n",
        "def remove_zero(img_dir):\n",
        "    for filename in tqdm(os.listdir(img_dir)):\n",
        "        filepath = os.path.join(img_dir, filename)\n",
        "        tile, meta = raster.load_image(filepath)\n",
        "        if np.array_equal(np.unique(np.array(tile.read())), [0.]):\n",
        "            os.remove(filepath)"
      ],
      "execution_count": null,
      "outputs": []
    },
    {
      "cell_type": "code",
      "metadata": {
        "id": "PDeJqdMD-jmm",
        "colab_type": "code",
        "colab": {}
      },
      "source": [
        "def transfer_tiles(img, meta, tile_path, output_path):\n",
        "    out_meta = meta\n",
        "    output_filename = 'lr_{}.tif'\n",
        "    d_bbox = box(img.bounds.left, img.bounds.bottom, img.bounds.right, img.bounds.top)\n",
        "\n",
        "    for root, dirs, files in os.walk(tile_path):\n",
        "        for file in tqdm(files):\n",
        "            name = os.path.splitext(file)[0]\n",
        "            dataset, _ = raster.load_image(join(root,file))\n",
        "            bounds = dataset.bounds\n",
        "            bbox = box(bounds.left, bounds.bottom, bounds.right, bounds.top)\n",
        "\n",
        "            if bbox.within(d_bbox):\n",
        "                geo = gpd.GeoDataFrame({'geometry': bbox}, index=[0], crs=from_epsg(4326))\n",
        "                geo = geo.to_crs(crs=dataset.crs.data)\n",
        "                coords = getFeatures(geo)\n",
        "                out_img, out_transform = mask(img, shapes=coords, crop=True)\n",
        "                out_meta.update({\"driver\": \"GTiff\",\n",
        "                        \"height\": out_img.shape[0],\n",
        "                        \"width\": out_img.shape[1],\n",
        "                        \"transform\": out_transform, \n",
        "                        \"crs\": from_epsg(4326)})\n",
        "                outpath = os.path.join(output_path, output_filename.format(name))\n",
        "                with rasterio.open(outpath, 'w', **out_meta) as outds:\n",
        "                    outds.write(out_img)\n",
        "            "
      ],
      "execution_count": null,
      "outputs": []
    },
    {
      "cell_type": "code",
      "metadata": {
        "id": "vagY7zRcEOtb",
        "colab_type": "code",
        "colab": {}
      },
      "source": [
        "#for removing tiles created \n",
        "def show_pixels(img_dir):\n",
        "    for filename in tqdm(os.listdir(img_dir)):\n",
        "        filepath = os.path.join(img_dir, filename)\n",
        "        tile, out_meta = raster.load_image(filepath)\n",
        "    return tile, filepath\n",
        "        "
      ],
      "execution_count": null,
      "outputs": []
    },
    {
      "cell_type": "code",
      "metadata": {
        "id": "sZPJZbpjr8nT",
        "colab_type": "code",
        "colab": {}
      },
      "source": [
        "sites = get_filelist()    "
      ],
      "execution_count": null,
      "outputs": []
    },
    {
      "cell_type": "code",
      "metadata": {
        "id": "dNlga3ti4ybz",
        "colab_type": "code",
        "colab": {
          "base_uri": "https://localhost:8080/",
          "height": 34
        },
        "outputId": "06643fc9-deb0-427d-aeb7-92c9bf09a087"
      },
      "source": [
        "site = sites[0]\n",
        "copy_files(site)"
      ],
      "execution_count": null,
      "outputs": [
        {
          "output_type": "stream",
          "text": [
            "Copying Files\n"
          ],
          "name": "stdout"
        }
      ]
    },
    {
      "cell_type": "code",
      "metadata": {
        "id": "jWyBZcNDBhQQ",
        "colab_type": "code",
        "colab": {}
      },
      "source": [
        "#getting features from the gdf for rasterio\n",
        "from os.path import join\n",
        "\n",
        "def getFeatures(gdf):\n",
        "\n",
        "    import json\n",
        "    return [json.loads(gdf.to_json())['features'][0]['geometry']]"
      ],
      "execution_count": null,
      "outputs": []
    },
    {
      "cell_type": "code",
      "metadata": {
        "id": "kAiYhKS86_3W",
        "colab_type": "code",
        "colab": {
          "base_uri": "https://localhost:8080/",
          "height": 149,
          "referenced_widgets": [
            "6aa9142691f347e08a602561a18a2054",
            "ee604ef058cd4a79ba09f528465d7551",
            "be81d0405ce74c629c88210f2e947955",
            "3427985d06084942958222a8f8466df1",
            "821bd4d2fdcd4d30b1200d18a05a5d1d",
            "148facc7653748318f554cc3ad1b92c3",
            "f1be9c927dd34852a33fdf9827d2ea4f",
            "91598a6fd4da4a6c87fd9a03c0f29b64",
            "56f58e6e197f42cd9e3934ec87ebd2ba",
            "d3961654494f490cb3650cbaf7e9ecb7",
            "6a0b5d887ef446d99d166efdf842921b",
            "5c28f32904284c799866ad7fe947a88f",
            "4e9bdb671cc849a8aeb6e38ee5bf5807",
            "9fa94aa67d704463902518d58089cc7b",
            "9875fe2277724a79ba392517e36482c8",
            "722b133848314af4acd748408e6d94d1"
          ]
        },
        "outputId": "bf55bc05-aa0d-4a5c-a11a-dfe63844bd8d"
      },
      "source": [
        "width = 128\n",
        "\n",
        "\n",
        "file_list = site\n",
        "\n",
        "d_img, d_meta = raster.load_image(\"/content/drone.tif\")\n",
        "zero_gpd = gpd.read_file(file_list[2])\n",
        "one_gpd = gpd.read_file(file_list[3])\n",
        "\n",
        "\n",
        "clip(file_list[2], \"drone.tif\", \"clipped0_\")\n",
        "clip(file_list[3], \"drone.tif\", \"clipped1_\")\n",
        "\n",
        "!gdal_retile.py -ps {width} {width} -targetDir \"/content/0_hr\" \"clipped0_drone.tif\"\n",
        "!gdal_retile.py -ps {width} {width} -targetDir \"/content/1_hr\" \"clipped1_drone.tif\"\n",
        "\n",
        "remove_zero(\"/content/0_hr/\")\n",
        "remove_zero(\"/content/1_hr/\")"
      ],
      "execution_count": null,
      "outputs": [
        {
          "output_type": "stream",
          "text": [
            "0...10...20...30...40...50...60...70...80...90...100 - done.\n",
            "0...10...20...30...40...50...60...70...80...90...100 - done.\n"
          ],
          "name": "stdout"
        },
        {
          "output_type": "display_data",
          "data": {
            "application/vnd.jupyter.widget-view+json": {
              "model_id": "6aa9142691f347e08a602561a18a2054",
              "version_minor": 0,
              "version_major": 2
            },
            "text/plain": [
              "HBox(children=(FloatProgress(value=0.0, max=7830.0), HTML(value='')))"
            ]
          },
          "metadata": {
            "tags": []
          }
        },
        {
          "output_type": "stream",
          "text": [
            "\n"
          ],
          "name": "stdout"
        },
        {
          "output_type": "display_data",
          "data": {
            "application/vnd.jupyter.widget-view+json": {
              "model_id": "56f58e6e197f42cd9e3934ec87ebd2ba",
              "version_minor": 0,
              "version_major": 2
            },
            "text/plain": [
              "HBox(children=(FloatProgress(value=0.0, max=12416.0), HTML(value='')))"
            ]
          },
          "metadata": {
            "tags": []
          }
        },
        {
          "output_type": "stream",
          "text": [
            "\n"
          ],
          "name": "stdout"
        }
      ]
    },
    {
      "cell_type": "code",
      "metadata": {
        "id": "KMUFNuNdBMVf",
        "colab_type": "code",
        "colab": {
          "base_uri": "https://localhost:8080/",
          "height": 169,
          "referenced_widgets": [
            "5b8ac9ed10694d6c842fdbd8c5018462",
            "dedb3cb525e0418699532562e053bb69",
            "0dda55a46dbc4c58b5ff8f5d84c13aa7",
            "bc647179a83e4b8b85d5e6eb08c01686",
            "060c9e74b556471c831295a05443ae77",
            "9056cf5a900249ea8277b53b85e69aaf",
            "1dd8e38152d2407fa2dd48c3f7b45a98",
            "d739d06665cd4a85b9119569ad12132b",
            "19cccbf639df42f98882ec1b1ae7f6e0",
            "421571c8e46348ffa27aa88bafe72e2e",
            "de71438506b04a75821113dcbd499058",
            "390a7494d9f644cfbf1624f9e69a6161",
            "87320716caea4f2da6eb232045c01486",
            "3669e580dd4c4b1195829f6d4a015384",
            "60929a897980430f95d3cacf798c4f7e",
            "6a703c98722d493ca3e1f9718ba85dd2"
          ]
        },
        "outputId": "fa28a1b5-d18d-4715-c42c-73b65cf4f634"
      },
      "source": [
        "p_img, p_meta = raster.load_image(\"/content/planetscope.tif\")\n",
        "    \n",
        "transfer_tiles(p_img, p_meta, \"/content/1_hr\", \"/content/1\")\n",
        "transfer_tiles(p_img, p_meta, \"/content/0_hr\", \"/content/0\")"
      ],
      "execution_count": null,
      "outputs": [
        {
          "output_type": "display_data",
          "data": {
            "application/vnd.jupyter.widget-view+json": {
              "model_id": "5b8ac9ed10694d6c842fdbd8c5018462",
              "version_minor": 0,
              "version_major": 2
            },
            "text/plain": [
              "HBox(children=(FloatProgress(value=0.0, max=7262.0), HTML(value='')))"
            ]
          },
          "metadata": {
            "tags": []
          }
        },
        {
          "output_type": "stream",
          "text": [
            "/usr/local/lib/python3.6/dist-packages/pyproj/crs/crs.py:53: FutureWarning: '+init=<authority>:<code>' syntax is deprecated. '<authority>:<code>' is the preferred initialization method. When making the change, be mindful of axis order changes: https://pyproj4.github.io/pyproj/stable/gotchas.html#axis-order-changes-in-proj-6\n",
            "  return _prepare_from_string(\" \".join(pjargs))\n"
          ],
          "name": "stderr"
        },
        {
          "output_type": "stream",
          "text": [
            "\n"
          ],
          "name": "stdout"
        },
        {
          "output_type": "display_data",
          "data": {
            "application/vnd.jupyter.widget-view+json": {
              "model_id": "19cccbf639df42f98882ec1b1ae7f6e0",
              "version_minor": 0,
              "version_major": 2
            },
            "text/plain": [
              "HBox(children=(FloatProgress(value=0.0, max=2991.0), HTML(value='')))"
            ]
          },
          "metadata": {
            "tags": []
          }
        },
        {
          "output_type": "stream",
          "text": [
            "\n"
          ],
          "name": "stdout"
        }
      ]
    },
    {
      "cell_type": "code",
      "metadata": {
        "id": "4k1_iAxpMHik",
        "colab_type": "code",
        "colab": {}
      },
      "source": [
        "!ls 0"
      ],
      "execution_count": null,
      "outputs": []
    },
    {
      "cell_type": "code",
      "metadata": {
        "id": "82jF9OTfNFAQ",
        "colab_type": "code",
        "colab": {
          "base_uri": "https://localhost:8080/",
          "height": 153
        },
        "outputId": "b26802c0-20c5-4f46-e369-9bfd0bcf140c"
      },
      "source": [
        "img, _ = raster.load_image(\"0/lr_clipped0_drone_87_47.tif\")\n",
        "\n",
        "array  = img.read()\n",
        "flattened = np.reshape(array, (array.shape[0], array.shape[1]*array.shape[2]))"
      ],
      "execution_count": null,
      "outputs": [
        {
          "output_type": "execute_result",
          "data": {
            "text/plain": [
              "array([[0.09972303, 0.11273222, 0.09972303, 0.11273222, 0.10543218,\n",
              "        0.11871684, 0.10543218, 0.11871684],\n",
              "       [0.0892872 , 0.1018945 , 0.0892872 , 0.1018945 , 0.09333173,\n",
              "        0.10639471, 0.09333173, 0.10639471],\n",
              "       [0.07011723, 0.08180356, 0.07011723, 0.08180356, 0.07478644,\n",
              "        0.08656233, 0.07478644, 0.08656233],\n",
              "       [0.2387865 , 0.23468515, 0.2387865 , 0.23468515, 0.23576759,\n",
              "        0.23038267, 0.23576759, 0.23038267]], dtype=float32)"
            ]
          },
          "metadata": {
            "tags": []
          },
          "execution_count": 27
        }
      ]
    },
    {
      "cell_type": "code",
      "metadata": {
        "id": "-Q1c5xQDOpeM",
        "colab_type": "code",
        "colab": {}
      },
      "source": [
        "from scipy.stats import describe\n",
        "\n",
        "stats = describe(flattened, axis = 1)\n",
        "\n",
        "features = np.asarray(list(stats.minmax) + list(stats)[2:]).flatten()"
      ],
      "execution_count": null,
      "outputs": []
    },
    {
      "cell_type": "code",
      "metadata": {
        "id": "ms7qR1LNVRFO",
        "colab_type": "code",
        "colab": {
          "base_uri": "https://localhost:8080/",
          "height": 34
        },
        "outputId": "b116d371-8e8c-4662-f676-2b6ddc2d8964"
      },
      "source": [
        "import glob\n",
        "\n",
        "num_images = (len(glob.glob1(\"/content/0\",\"*.tif\")) + len(glob.glob1(\"/content/1\",\"*.tif\")))\n",
        "\n",
        "image_dir = [\"0_hr,1_hr\"]\n",
        "\n",
        "for root, dirs, files in os.walk(image_dir):\n",
        "    for file in tqdm(files):\n",
        "        if (file.endswith(\".tif\") and file.startswith(\"hr_\")):\n",
        "            file_path = os.path.join(root, file)\n",
        "            label = int(basename(dirname(file_path)))\n",
        "            labels.append(label)\n",
        "            images.append(file_path)\n",
        "    "
      ],
      "execution_count": null,
      "outputs": [
        {
          "output_type": "execute_result",
          "data": {
            "text/plain": [
              "10095"
            ]
          },
          "metadata": {
            "tags": []
          },
          "execution_count": 50
        }
      ]
    }
  ]
}