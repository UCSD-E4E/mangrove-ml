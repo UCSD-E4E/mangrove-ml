{
  "nbformat": 4,
  "nbformat_minor": 0,
  "metadata": {
    "colab": {
      "name": "hybrid_cnn.ipynb",
      "provenance": [],
      "collapsed_sections": []
    },
    "kernelspec": {
      "name": "python3",
      "display_name": "Python 3"
    }
  },
  "cells": [
    {
      "cell_type": "code",
      "metadata": {
        "id": "fu7SeaV_6Wgj",
        "colab_type": "code",
        "colab": {}
      },
      "source": [
        "import itertools\n",
        "import os\n",
        "import matplotlib.pylab as plt\n",
        "import numpy as np\n",
        "import tensorflow as tf\n",
        "import tensorflow_hub as hub"
      ],
      "execution_count": 1,
      "outputs": []
    },
    {
      "cell_type": "code",
      "metadata": {
        "id": "Jj9u_aumBbRH",
        "colab_type": "code",
        "colab": {}
      },
      "source": [
        "#Loading model parameters\n",
        "MODULE_HANDLE = \"https://tfhub.dev/google/remote_sensing/uc_merced-resnet50/1\"\n",
        "IMAGE_SIZE = (256, 256)\n",
        "BATCH_SIZE = 32 "
      ],
      "execution_count": 8,
      "outputs": []
    },
    {
      "cell_type": "code",
      "metadata": {
        "id": "rQoXvLvXH0oP",
        "colab_type": "code",
        "colab": {}
      },
      "source": [
        "from tensorflow.keras.layers import InputLayer, Dense, concatenate"
      ],
      "execution_count": 29,
      "outputs": []
    },
    {
      "cell_type": "code",
      "metadata": {
        "id": "GObujf-iBm_Q",
        "colab_type": "code",
        "colab": {}
      },
      "source": [
        "def create_cnn(module_handle, module_name, image_size):\n",
        "    model = tf.keras.Sequential([\n",
        "    InputLayer(input_shape = IMAGE_SIZE + (3,)),\n",
        "    hub.KerasLayer(MODULE_HANDLE, trainable = False, name = module_name),\n",
        "    Dense(50)])\n",
        "    return model"
      ],
      "execution_count": 56,
      "outputs": []
    },
    {
      "cell_type": "code",
      "metadata": {
        "id": "MjaLH6EbDhvl",
        "colab_type": "code",
        "colab": {}
      },
      "source": [
        "def create_mlp(n_channels):\n",
        "    model = tf.keras.Sequential([\n",
        "       tf.keras.layers.Dense(32, input_dim=n_channels)                         \n",
        "    ])\n",
        "    return model"
      ],
      "execution_count": 58,
      "outputs": []
    },
    {
      "cell_type": "code",
      "metadata": {
        "id": "5Cvu4V1zDGb-",
        "colab_type": "code",
        "colab": {}
      },
      "source": [
        "feature_extractor = create_cnn(MODULE_HANDLE,\"Resnet50V2\", IMAGE_SIZE)\n",
        "mlp = create_mlp(n_channels=13)"
      ],
      "execution_count": 59,
      "outputs": []
    },
    {
      "cell_type": "code",
      "metadata": {
        "id": "fn4kRGAKHUUS",
        "colab_type": "code",
        "colab": {
          "base_uri": "https://localhost:8080/",
          "height": 408
        },
        "outputId": "2595bedc-a35a-4037-e40e-227429c0a642"
      },
      "source": [
        "combined = concatenate([mlp.output, feature_extractor.output])\n",
        "x = Dense(2, activation=\"softmax\")(combined)\n",
        "\n",
        "model = tf.keras.Sequential()\n",
        "model = tf.keras.models.Model(inputs=[mlp.input, feature_extractor.input], outputs=x)\n",
        "model.summary()"
      ],
      "execution_count": 60,
      "outputs": [
        {
          "output_type": "stream",
          "text": [
            "Model: \"model_2\"\n",
            "__________________________________________________________________________________________________\n",
            "Layer (type)                    Output Shape         Param #     Connected to                     \n",
            "==================================================================================================\n",
            "input_9 (InputLayer)            [(None, 256, 256, 3) 0                                            \n",
            "__________________________________________________________________________________________________\n",
            "dense_19_input (InputLayer)     [(None, 13)]         0                                            \n",
            "__________________________________________________________________________________________________\n",
            "Resnet50V2 (KerasLayer)         (None, 2048)         23588821    input_9[0][0]                    \n",
            "__________________________________________________________________________________________________\n",
            "dense_19 (Dense)                (None, 32)           448         dense_19_input[0][0]             \n",
            "__________________________________________________________________________________________________\n",
            "dense_18 (Dense)                (None, 50)           102450      Resnet50V2[0][0]                 \n",
            "__________________________________________________________________________________________________\n",
            "concatenate_9 (Concatenate)     (None, 82)           0           dense_19[0][0]                   \n",
            "                                                                 dense_18[0][0]                   \n",
            "__________________________________________________________________________________________________\n",
            "dense_20 (Dense)                (None, 2)            166         concatenate_9[0][0]              \n",
            "==================================================================================================\n",
            "Total params: 23,691,885\n",
            "Trainable params: 103,064\n",
            "Non-trainable params: 23,588,821\n",
            "__________________________________________________________________________________________________\n"
          ],
          "name": "stdout"
        }
      ]
    },
    {
      "cell_type": "code",
      "metadata": {
        "id": "tCPyC2sGJS9b",
        "colab_type": "code",
        "colab": {
          "base_uri": "https://localhost:8080/",
          "height": 466
        },
        "outputId": "ddec72d9-c91f-4638-effa-03916f4b74df"
      },
      "source": [
        "tf.keras.utils.plot_model(model)"
      ],
      "execution_count": 61,
      "outputs": [
        {
          "output_type": "execute_result",
          "data": {
            "image/png": "[encoded data removed]",
            "text/plain": [
              "<IPython.core.display.Image object>"
            ]
          },
          "metadata": {
            "tags": []
          },
          "execution_count": 61
        }
      ]
    }
  ]
}